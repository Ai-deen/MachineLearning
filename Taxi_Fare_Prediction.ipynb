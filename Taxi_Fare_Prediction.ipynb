{
  "nbformat": 4,
  "nbformat_minor": 0,
  "metadata": {
    "colab": {
      "provenance": [],
      "authorship_tag": "ABX9TyOqUvCGky0mpu1+eh9gPBPH",
      "include_colab_link": true
    },
    "kernelspec": {
      "name": "python3",
      "display_name": "Python 3"
    },
    "language_info": {
      "name": "python"
    }
  },
  "cells": [
    {
      "cell_type": "markdown",
      "metadata": {
        "id": "view-in-github",
        "colab_type": "text"
      },
      "source": [
        "<a href=\"https://colab.research.google.com/github/Ai-deen/MachineLearning/blob/main/Taxi_Fare_Prediction.ipynb\" target=\"_parent\"><img src=\"https://colab.research.google.com/assets/colab-badge.svg\" alt=\"Open In Colab\"/></a>"
      ]
    },
    {
      "cell_type": "markdown",
      "metadata": {
        "id": "HnwRLUehXBHJ"
      },
      "source": [
        "# New York City Taxi Fare Prediction\n",
        "\n",
        "Train Machine Learning models using training dataset of New York taxi fares and predict fares for test dataset.Take all possible parameters into consideration."
      ]
    },
    {
      "cell_type": "markdown",
      "source": [
        "## Data Cleaning and Visualization"
      ],
      "metadata": {
        "id": "pQXPlyGoHxTe"
      }
    },
    {
      "cell_type": "code",
      "execution_count": null,
      "metadata": {
        "id": "UD4uZ_PrEe8O"
      },
      "outputs": [],
      "source": [
        "!pip install -q kaggle"
      ]
    },
    {
      "cell_type": "code",
      "execution_count": null,
      "metadata": {
        "id": "b_nEeLb_cchh",
        "colab": {
          "resources": {
            "http://localhost:8080/nbextensions/google.colab/files.js": {
              "data": "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",
              "ok": true,
              "headers": [
                [
                  "content-type",
                  "application/javascript"
                ]
              ],
              "status": 200,
              "status_text": ""
            }
          },
          "base_uri": "https://localhost:8080/",
          "height": 91
        },
        "outputId": "ebbf8a68-38fc-4ab5-aaa8-87b51fc77de4"
      },
      "outputs": [
        {
          "output_type": "display_data",
          "data": {
            "text/plain": [
              "<IPython.core.display.HTML object>"
            ],
            "text/html": [
              "\n",
              "     <input type=\"file\" id=\"files-06b9b097-b7ad-4aaa-b28e-f0b31ccc2b3a\" name=\"files[]\" multiple disabled\n",
              "        style=\"border:none\" />\n",
              "     <output id=\"result-06b9b097-b7ad-4aaa-b28e-f0b31ccc2b3a\">\n",
              "      Upload widget is only available when the cell has been executed in the\n",
              "      current browser session. Please rerun this cell to enable.\n",
              "      </output>\n",
              "      <script src=\"/nbextensions/google.colab/files.js\"></script> "
            ]
          },
          "metadata": {}
        },
        {
          "output_type": "stream",
          "name": "stdout",
          "text": [
            "Saving kaggle.json to kaggle.json\n"
          ]
        },
        {
          "output_type": "execute_result",
          "data": {
            "text/plain": [
              "{'kaggle.json': b'{\"username\":\"keiraaideen\",\"key\":\"fbe008514cce5c79769f8bf40d7d56c4\"}'}"
            ]
          },
          "metadata": {},
          "execution_count": 4
        }
      ],
      "source": [
        "from google.colab import files\n",
        "files.upload()"
      ]
    },
    {
      "cell_type": "code",
      "execution_count": null,
      "metadata": {
        "id": "-Fh_c0H6cfOB"
      },
      "outputs": [],
      "source": [
        "!mkdir ~/.kaggle\n",
        "!cp kaggle.json ~/.kaggle/\n",
        "!chmod 600 ~/.kaggle/kaggle.json"
      ]
    },
    {
      "cell_type": "code",
      "execution_count": null,
      "metadata": {
        "colab": {
          "base_uri": "https://localhost:8080/"
        },
        "id": "U-6c8rF7cmqP",
        "outputId": "1bc1cda4-9325-49e2-f96c-e23ddf15aca1"
      },
      "outputs": [
        {
          "output_type": "stream",
          "name": "stdout",
          "text": [
            "Downloading new-york-city-taxi-fare-prediction.zip to /content\n",
            " 99% 1.54G/1.56G [00:07<00:00, 265MB/s]\n",
            "100% 1.56G/1.56G [00:08<00:00, 208MB/s]\n"
          ]
        }
      ],
      "source": [
        "!kaggle competitions download -c new-york-city-taxi-fare-prediction"
      ]
    },
    {
      "cell_type": "code",
      "execution_count": null,
      "metadata": {
        "colab": {
          "base_uri": "https://localhost:8080/"
        },
        "id": "l4gzylcpdQPL",
        "outputId": "0108bb6e-0d0c-4e80-f988-9f5ffc077237"
      },
      "outputs": [
        {
          "output_type": "stream",
          "name": "stdout",
          "text": [
            "Archive:  new-york-city-taxi-fare-prediction.zip\n",
            "  inflating: GCP-Coupons-Instructions.rtf  \n",
            "  inflating: sample_submission.csv   \n",
            "  inflating: test.csv                \n",
            "  inflating: train.csv               \n"
          ]
        }
      ],
      "source": [
        "!unzip new-york-city-taxi-fare-prediction"
      ]
    },
    {
      "cell_type": "code",
      "execution_count": null,
      "metadata": {
        "id": "-miARsGEdWzk"
      },
      "outputs": [],
      "source": [
        "import numpy as np \n",
        "import pandas as pd \n",
        "import seaborn as sns\n",
        "import matplotlib.pyplot as plt\n"
      ]
    },
    {
      "cell_type": "code",
      "execution_count": null,
      "metadata": {
        "id": "WmhwzdGjdXa2"
      },
      "outputs": [],
      "source": [
        "train = pd.read_csv(\"train.csv\", nrows = 1000000)\n",
        "test = pd.read_csv(\"test.csv\")"
      ]
    },
    {
      "cell_type": "code",
      "source": [
        "trainc = train.copy()"
      ],
      "metadata": {
        "id": "eFjjjvLrkmDB"
      },
      "execution_count": null,
      "outputs": []
    },
    {
      "cell_type": "code",
      "source": [
        "testc = test.copy()"
      ],
      "metadata": {
        "id": "bhhAUVDdXjrH"
      },
      "execution_count": null,
      "outputs": []
    },
    {
      "cell_type": "markdown",
      "metadata": {
        "id": "di6zPMB7sgcV"
      },
      "source": [
        "PART 1 --> DATA CLEANSING \n",
        "\n",
        "Will perform the following activities\n",
        "1.   Shape of train and test sets\n",
        "2.   Check for NaNs and drop them (if any)\n",
        "3.   Check for outliers and drop them (if any)\n",
        "4.   Type conversion of relevant fields\n",
        "\n",
        "\n",
        "\n"
      ]
    },
    {
      "cell_type": "code",
      "execution_count": null,
      "metadata": {
        "colab": {
          "base_uri": "https://localhost:8080/",
          "height": 337
        },
        "id": "uAtwsfCchMpl",
        "outputId": "fd53aa21-dc1b-430c-a70c-ef19c32f8c37"
      },
      "outputs": [
        {
          "output_type": "execute_result",
          "data": {
            "text/plain": [
              "                             key  fare_amount          pickup_datetime  \\\n",
              "0    2009-06-15 17:26:21.0000001          4.5  2009-06-15 17:26:21 UTC   \n",
              "1    2010-01-05 16:52:16.0000002         16.9  2010-01-05 16:52:16 UTC   \n",
              "2   2011-08-18 00:35:00.00000049          5.7  2011-08-18 00:35:00 UTC   \n",
              "3    2012-04-21 04:30:42.0000001          7.7  2012-04-21 04:30:42 UTC   \n",
              "4  2010-03-09 07:51:00.000000135          5.3  2010-03-09 07:51:00 UTC   \n",
              "\n",
              "   pickup_longitude  pickup_latitude  dropoff_longitude  dropoff_latitude  \\\n",
              "0        -73.844311        40.721319         -73.841610         40.712278   \n",
              "1        -74.016048        40.711303         -73.979268         40.782004   \n",
              "2        -73.982738        40.761270         -73.991242         40.750562   \n",
              "3        -73.987130        40.733143         -73.991567         40.758092   \n",
              "4        -73.968095        40.768008         -73.956655         40.783762   \n",
              "\n",
              "   passenger_count  \n",
              "0                1  \n",
              "1                1  \n",
              "2                2  \n",
              "3                1  \n",
              "4                1  "
            ],
            "text/html": [
              "\n",
              "  <div id=\"df-5c8000a4-cdbd-452a-ba38-dc7561e8d313\">\n",
              "    <div class=\"colab-df-container\">\n",
              "      <div>\n",
              "<style scoped>\n",
              "    .dataframe tbody tr th:only-of-type {\n",
              "        vertical-align: middle;\n",
              "    }\n",
              "\n",
              "    .dataframe tbody tr th {\n",
              "        vertical-align: top;\n",
              "    }\n",
              "\n",
              "    .dataframe thead th {\n",
              "        text-align: right;\n",
              "    }\n",
              "</style>\n",
              "<table border=\"1\" class=\"dataframe\">\n",
              "  <thead>\n",
              "    <tr style=\"text-align: right;\">\n",
              "      <th></th>\n",
              "      <th>key</th>\n",
              "      <th>fare_amount</th>\n",
              "      <th>pickup_datetime</th>\n",
              "      <th>pickup_longitude</th>\n",
              "      <th>pickup_latitude</th>\n",
              "      <th>dropoff_longitude</th>\n",
              "      <th>dropoff_latitude</th>\n",
              "      <th>passenger_count</th>\n",
              "    </tr>\n",
              "  </thead>\n",
              "  <tbody>\n",
              "    <tr>\n",
              "      <th>0</th>\n",
              "      <td>2009-06-15 17:26:21.0000001</td>\n",
              "      <td>4.5</td>\n",
              "      <td>2009-06-15 17:26:21 UTC</td>\n",
              "      <td>-73.844311</td>\n",
              "      <td>40.721319</td>\n",
              "      <td>-73.841610</td>\n",
              "      <td>40.712278</td>\n",
              "      <td>1</td>\n",
              "    </tr>\n",
              "    <tr>\n",
              "      <th>1</th>\n",
              "      <td>2010-01-05 16:52:16.0000002</td>\n",
              "      <td>16.9</td>\n",
              "      <td>2010-01-05 16:52:16 UTC</td>\n",
              "      <td>-74.016048</td>\n",
              "      <td>40.711303</td>\n",
              "      <td>-73.979268</td>\n",
              "      <td>40.782004</td>\n",
              "      <td>1</td>\n",
              "    </tr>\n",
              "    <tr>\n",
              "      <th>2</th>\n",
              "      <td>2011-08-18 00:35:00.00000049</td>\n",
              "      <td>5.7</td>\n",
              "      <td>2011-08-18 00:35:00 UTC</td>\n",
              "      <td>-73.982738</td>\n",
              "      <td>40.761270</td>\n",
              "      <td>-73.991242</td>\n",
              "      <td>40.750562</td>\n",
              "      <td>2</td>\n",
              "    </tr>\n",
              "    <tr>\n",
              "      <th>3</th>\n",
              "      <td>2012-04-21 04:30:42.0000001</td>\n",
              "      <td>7.7</td>\n",
              "      <td>2012-04-21 04:30:42 UTC</td>\n",
              "      <td>-73.987130</td>\n",
              "      <td>40.733143</td>\n",
              "      <td>-73.991567</td>\n",
              "      <td>40.758092</td>\n",
              "      <td>1</td>\n",
              "    </tr>\n",
              "    <tr>\n",
              "      <th>4</th>\n",
              "      <td>2010-03-09 07:51:00.000000135</td>\n",
              "      <td>5.3</td>\n",
              "      <td>2010-03-09 07:51:00 UTC</td>\n",
              "      <td>-73.968095</td>\n",
              "      <td>40.768008</td>\n",
              "      <td>-73.956655</td>\n",
              "      <td>40.783762</td>\n",
              "      <td>1</td>\n",
              "    </tr>\n",
              "  </tbody>\n",
              "</table>\n",
              "</div>\n",
              "      <button class=\"colab-df-convert\" onclick=\"convertToInteractive('df-5c8000a4-cdbd-452a-ba38-dc7561e8d313')\"\n",
              "              title=\"Convert this dataframe to an interactive table.\"\n",
              "              style=\"display:none;\">\n",
              "        \n",
              "  <svg xmlns=\"http://www.w3.org/2000/svg\" height=\"24px\"viewBox=\"0 0 24 24\"\n",
              "       width=\"24px\">\n",
              "    <path d=\"M0 0h24v24H0V0z\" fill=\"none\"/>\n",
              "    <path d=\"M18.56 5.44l.94 2.06.94-2.06 2.06-.94-2.06-.94-.94-2.06-.94 2.06-2.06.94zm-11 1L8.5 8.5l.94-2.06 2.06-.94-2.06-.94L8.5 2.5l-.94 2.06-2.06.94zm10 10l.94 2.06.94-2.06 2.06-.94-2.06-.94-.94-2.06-.94 2.06-2.06.94z\"/><path d=\"M17.41 7.96l-1.37-1.37c-.4-.4-.92-.59-1.43-.59-.52 0-1.04.2-1.43.59L10.3 9.45l-7.72 7.72c-.78.78-.78 2.05 0 2.83L4 21.41c.39.39.9.59 1.41.59.51 0 1.02-.2 1.41-.59l7.78-7.78 2.81-2.81c.8-.78.8-2.07 0-2.86zM5.41 20L4 18.59l7.72-7.72 1.47 1.35L5.41 20z\"/>\n",
              "  </svg>\n",
              "      </button>\n",
              "      \n",
              "  <style>\n",
              "    .colab-df-container {\n",
              "      display:flex;\n",
              "      flex-wrap:wrap;\n",
              "      gap: 12px;\n",
              "    }\n",
              "\n",
              "    .colab-df-convert {\n",
              "      background-color: #E8F0FE;\n",
              "      border: none;\n",
              "      border-radius: 50%;\n",
              "      cursor: pointer;\n",
              "      display: none;\n",
              "      fill: #1967D2;\n",
              "      height: 32px;\n",
              "      padding: 0 0 0 0;\n",
              "      width: 32px;\n",
              "    }\n",
              "\n",
              "    .colab-df-convert:hover {\n",
              "      background-color: #E2EBFA;\n",
              "      box-shadow: 0px 1px 2px rgba(60, 64, 67, 0.3), 0px 1px 3px 1px rgba(60, 64, 67, 0.15);\n",
              "      fill: #174EA6;\n",
              "    }\n",
              "\n",
              "    [theme=dark] .colab-df-convert {\n",
              "      background-color: #3B4455;\n",
              "      fill: #D2E3FC;\n",
              "    }\n",
              "\n",
              "    [theme=dark] .colab-df-convert:hover {\n",
              "      background-color: #434B5C;\n",
              "      box-shadow: 0px 1px 3px 1px rgba(0, 0, 0, 0.15);\n",
              "      filter: drop-shadow(0px 1px 2px rgba(0, 0, 0, 0.3));\n",
              "      fill: #FFFFFF;\n",
              "    }\n",
              "  </style>\n",
              "\n",
              "      <script>\n",
              "        const buttonEl =\n",
              "          document.querySelector('#df-5c8000a4-cdbd-452a-ba38-dc7561e8d313 button.colab-df-convert');\n",
              "        buttonEl.style.display =\n",
              "          google.colab.kernel.accessAllowed ? 'block' : 'none';\n",
              "\n",
              "        async function convertToInteractive(key) {\n",
              "          const element = document.querySelector('#df-5c8000a4-cdbd-452a-ba38-dc7561e8d313');\n",
              "          const dataTable =\n",
              "            await google.colab.kernel.invokeFunction('convertToInteractive',\n",
              "                                                     [key], {});\n",
              "          if (!dataTable) return;\n",
              "\n",
              "          const docLinkHtml = 'Like what you see? Visit the ' +\n",
              "            '<a target=\"_blank\" href=https://colab.research.google.com/notebooks/data_table.ipynb>data table notebook</a>'\n",
              "            + ' to learn more about interactive tables.';\n",
              "          element.innerHTML = '';\n",
              "          dataTable['output_type'] = 'display_data';\n",
              "          await google.colab.output.renderOutput(dataTable, element);\n",
              "          const docLink = document.createElement('div');\n",
              "          docLink.innerHTML = docLinkHtml;\n",
              "          element.appendChild(docLink);\n",
              "        }\n",
              "      </script>\n",
              "    </div>\n",
              "  </div>\n",
              "  "
            ]
          },
          "metadata": {},
          "execution_count": 34
        }
      ],
      "source": [
        "train.head()"
      ]
    },
    {
      "cell_type": "code",
      "execution_count": null,
      "metadata": {
        "colab": {
          "base_uri": "https://localhost:8080/"
        },
        "id": "A-W5rpF0ePEs",
        "outputId": "abe8ca1c-643e-48ac-fdf3-ff38926fd30e"
      },
      "outputs": [
        {
          "output_type": "stream",
          "name": "stdout",
          "text": [
            "Shape of the Training data : (1000000, 8)\n",
            "All columns are : ['key', 'fare_amount', 'pickup_datetime', 'pickup_longitude', 'pickup_latitude', 'dropoff_longitude', 'dropoff_latitude', 'passenger_count']\n"
          ]
        }
      ],
      "source": [
        "# Check no of rows & columns in the dataset\n",
        "print(\"Shape of the Training data :\", train.shape)\n",
        "\n",
        "# See all the columns in the dataset\n",
        "print(\"All columns are :\", list(train.columns))"
      ]
    },
    {
      "cell_type": "code",
      "execution_count": null,
      "metadata": {
        "colab": {
          "base_uri": "https://localhost:8080/"
        },
        "id": "UJVEdRNzePI4",
        "outputId": "ca23722f-52aa-4bf4-f1ba-cee703ba935d"
      },
      "outputs": [
        {
          "output_type": "stream",
          "name": "stdout",
          "text": [
            "<class 'pandas.core.frame.DataFrame'>\n",
            "RangeIndex: 1000000 entries, 0 to 999999\n",
            "Data columns (total 8 columns):\n",
            " #   Column             Non-Null Count    Dtype  \n",
            "---  ------             --------------    -----  \n",
            " 0   key                1000000 non-null  object \n",
            " 1   fare_amount        1000000 non-null  float64\n",
            " 2   pickup_datetime    1000000 non-null  object \n",
            " 3   pickup_longitude   1000000 non-null  float64\n",
            " 4   pickup_latitude    1000000 non-null  float64\n",
            " 5   dropoff_longitude  999990 non-null   float64\n",
            " 6   dropoff_latitude   999990 non-null   float64\n",
            " 7   passenger_count    1000000 non-null  int64  \n",
            "dtypes: float64(5), int64(1), object(2)\n",
            "memory usage: 61.0+ MB\n"
          ]
        }
      ],
      "source": [
        "# Check datatypes & count of not-null values in each field\n",
        "train.info()"
      ]
    },
    {
      "cell_type": "code",
      "source": [
        "# Check datatypes & count of not-null values in each field\n",
        "test.info()"
      ],
      "metadata": {
        "colab": {
          "base_uri": "https://localhost:8080/"
        },
        "id": "CV3O-gLkXZVo",
        "outputId": "4913f04e-c92a-4e7a-bda4-a2f5585a7ec5"
      },
      "execution_count": null,
      "outputs": [
        {
          "output_type": "stream",
          "name": "stdout",
          "text": [
            "<class 'pandas.core.frame.DataFrame'>\n",
            "RangeIndex: 9914 entries, 0 to 9913\n",
            "Data columns (total 7 columns):\n",
            " #   Column             Non-Null Count  Dtype  \n",
            "---  ------             --------------  -----  \n",
            " 0   key                9914 non-null   object \n",
            " 1   pickup_datetime    9914 non-null   object \n",
            " 2   pickup_longitude   9914 non-null   float64\n",
            " 3   pickup_latitude    9914 non-null   float64\n",
            " 4   dropoff_longitude  9914 non-null   float64\n",
            " 5   dropoff_latitude   9914 non-null   float64\n",
            " 6   passenger_count    9914 non-null   int64  \n",
            "dtypes: float64(4), int64(1), object(2)\n",
            "memory usage: 542.3+ KB\n"
          ]
        }
      ]
    },
    {
      "cell_type": "code",
      "execution_count": null,
      "metadata": {
        "colab": {
          "base_uri": "https://localhost:8080/"
        },
        "id": "_5ERpNSDfxZN",
        "outputId": "2461c710-55a9-4b9b-b590-936b90435215"
      },
      "outputs": [
        {
          "output_type": "execute_result",
          "data": {
            "text/plain": [
              "array([120227, 120227, 245696, 245696, 340533, 340533, 428108, 428108,\n",
              "       471472, 471472, 524834, 524834, 574023, 574023, 580338, 580338,\n",
              "       794694, 794694, 895400, 895400])"
            ]
          },
          "metadata": {},
          "execution_count": 38
        }
      ],
      "source": [
        "#check for missing values in train data\n",
        "\n",
        "np.where(train.isnull())[0]\n"
      ]
    },
    {
      "cell_type": "code",
      "execution_count": null,
      "metadata": {
        "colab": {
          "base_uri": "https://localhost:8080/"
        },
        "id": "wMlhIevBtPXd",
        "outputId": "ab292149-7ab3-426a-b64c-b21553cb29a7"
      },
      "outputs": [
        {
          "output_type": "execute_result",
          "data": {
            "text/plain": [
              "array([], dtype=int64)"
            ]
          },
          "metadata": {},
          "execution_count": 39
        }
      ],
      "source": [
        "#check for missing values in test data\n",
        "np.where(test.isnull())[0]\n"
      ]
    },
    {
      "cell_type": "code",
      "execution_count": null,
      "metadata": {
        "id": "oNsxwnBDteQK",
        "colab": {
          "base_uri": "https://localhost:8080/",
          "height": 641
        },
        "outputId": "c15fea9e-fb9f-48bf-d5c4-153b4925bd6c"
      },
      "outputs": [
        {
          "output_type": "execute_result",
          "data": {
            "text/plain": [
              "                                  key  fare_amount          pickup_datetime  \\\n",
              "0         2009-06-15 17:26:21.0000001          4.5  2009-06-15 17:26:21 UTC   \n",
              "1         2010-01-05 16:52:16.0000002         16.9  2010-01-05 16:52:16 UTC   \n",
              "2        2011-08-18 00:35:00.00000049          5.7  2011-08-18 00:35:00 UTC   \n",
              "3         2012-04-21 04:30:42.0000001          7.7  2012-04-21 04:30:42 UTC   \n",
              "4       2010-03-09 07:51:00.000000135          5.3  2010-03-09 07:51:00 UTC   \n",
              "...                               ...          ...                      ...   \n",
              "999995    2014-09-13 21:44:38.0000001          7.0  2014-09-13 21:44:38 UTC   \n",
              "999996    2010-09-20 14:50:37.0000002          7.3  2010-09-20 14:50:37 UTC   \n",
              "999997  2013-04-26 14:03:00.000000118         10.5  2013-04-26 14:03:00 UTC   \n",
              "999998   2011-07-08 00:29:00.00000099          6.9  2011-07-08 00:29:00 UTC   \n",
              "999999   2009-12-31 14:30:00.00000021          4.1  2009-12-31 14:30:00 UTC   \n",
              "\n",
              "        pickup_longitude  pickup_latitude  dropoff_longitude  \\\n",
              "0             -73.844311        40.721319         -73.841610   \n",
              "1             -74.016048        40.711303         -73.979268   \n",
              "2             -73.982738        40.761270         -73.991242   \n",
              "3             -73.987130        40.733143         -73.991567   \n",
              "4             -73.968095        40.768008         -73.956655   \n",
              "...                  ...              ...                ...   \n",
              "999995        -73.976676        40.785630         -73.959196   \n",
              "999996        -73.992103        40.671385         -73.992103   \n",
              "999997        -73.978423        40.751135         -73.993397   \n",
              "999998        -73.980317        40.759482         -73.976832   \n",
              "999999        -74.006635        40.741598         -73.999450   \n",
              "\n",
              "        dropoff_latitude  passenger_count  \n",
              "0              40.712278                1  \n",
              "1              40.782004                1  \n",
              "2              40.750562                2  \n",
              "3              40.758092                1  \n",
              "4              40.783762                1  \n",
              "...                  ...              ...  \n",
              "999995         40.775114                1  \n",
              "999996         40.671385                2  \n",
              "999997         40.762197                5  \n",
              "999998         40.743122                1  \n",
              "999999         40.745702                1  \n",
              "\n",
              "[999990 rows x 8 columns]"
            ],
            "text/html": [
              "\n",
              "  <div id=\"df-adf8683b-6113-4746-9a85-786b6cf81e13\">\n",
              "    <div class=\"colab-df-container\">\n",
              "      <div>\n",
              "<style scoped>\n",
              "    .dataframe tbody tr th:only-of-type {\n",
              "        vertical-align: middle;\n",
              "    }\n",
              "\n",
              "    .dataframe tbody tr th {\n",
              "        vertical-align: top;\n",
              "    }\n",
              "\n",
              "    .dataframe thead th {\n",
              "        text-align: right;\n",
              "    }\n",
              "</style>\n",
              "<table border=\"1\" class=\"dataframe\">\n",
              "  <thead>\n",
              "    <tr style=\"text-align: right;\">\n",
              "      <th></th>\n",
              "      <th>key</th>\n",
              "      <th>fare_amount</th>\n",
              "      <th>pickup_datetime</th>\n",
              "      <th>pickup_longitude</th>\n",
              "      <th>pickup_latitude</th>\n",
              "      <th>dropoff_longitude</th>\n",
              "      <th>dropoff_latitude</th>\n",
              "      <th>passenger_count</th>\n",
              "    </tr>\n",
              "  </thead>\n",
              "  <tbody>\n",
              "    <tr>\n",
              "      <th>0</th>\n",
              "      <td>2009-06-15 17:26:21.0000001</td>\n",
              "      <td>4.5</td>\n",
              "      <td>2009-06-15 17:26:21 UTC</td>\n",
              "      <td>-73.844311</td>\n",
              "      <td>40.721319</td>\n",
              "      <td>-73.841610</td>\n",
              "      <td>40.712278</td>\n",
              "      <td>1</td>\n",
              "    </tr>\n",
              "    <tr>\n",
              "      <th>1</th>\n",
              "      <td>2010-01-05 16:52:16.0000002</td>\n",
              "      <td>16.9</td>\n",
              "      <td>2010-01-05 16:52:16 UTC</td>\n",
              "      <td>-74.016048</td>\n",
              "      <td>40.711303</td>\n",
              "      <td>-73.979268</td>\n",
              "      <td>40.782004</td>\n",
              "      <td>1</td>\n",
              "    </tr>\n",
              "    <tr>\n",
              "      <th>2</th>\n",
              "      <td>2011-08-18 00:35:00.00000049</td>\n",
              "      <td>5.7</td>\n",
              "      <td>2011-08-18 00:35:00 UTC</td>\n",
              "      <td>-73.982738</td>\n",
              "      <td>40.761270</td>\n",
              "      <td>-73.991242</td>\n",
              "      <td>40.750562</td>\n",
              "      <td>2</td>\n",
              "    </tr>\n",
              "    <tr>\n",
              "      <th>3</th>\n",
              "      <td>2012-04-21 04:30:42.0000001</td>\n",
              "      <td>7.7</td>\n",
              "      <td>2012-04-21 04:30:42 UTC</td>\n",
              "      <td>-73.987130</td>\n",
              "      <td>40.733143</td>\n",
              "      <td>-73.991567</td>\n",
              "      <td>40.758092</td>\n",
              "      <td>1</td>\n",
              "    </tr>\n",
              "    <tr>\n",
              "      <th>4</th>\n",
              "      <td>2010-03-09 07:51:00.000000135</td>\n",
              "      <td>5.3</td>\n",
              "      <td>2010-03-09 07:51:00 UTC</td>\n",
              "      <td>-73.968095</td>\n",
              "      <td>40.768008</td>\n",
              "      <td>-73.956655</td>\n",
              "      <td>40.783762</td>\n",
              "      <td>1</td>\n",
              "    </tr>\n",
              "    <tr>\n",
              "      <th>...</th>\n",
              "      <td>...</td>\n",
              "      <td>...</td>\n",
              "      <td>...</td>\n",
              "      <td>...</td>\n",
              "      <td>...</td>\n",
              "      <td>...</td>\n",
              "      <td>...</td>\n",
              "      <td>...</td>\n",
              "    </tr>\n",
              "    <tr>\n",
              "      <th>999995</th>\n",
              "      <td>2014-09-13 21:44:38.0000001</td>\n",
              "      <td>7.0</td>\n",
              "      <td>2014-09-13 21:44:38 UTC</td>\n",
              "      <td>-73.976676</td>\n",
              "      <td>40.785630</td>\n",
              "      <td>-73.959196</td>\n",
              "      <td>40.775114</td>\n",
              "      <td>1</td>\n",
              "    </tr>\n",
              "    <tr>\n",
              "      <th>999996</th>\n",
              "      <td>2010-09-20 14:50:37.0000002</td>\n",
              "      <td>7.3</td>\n",
              "      <td>2010-09-20 14:50:37 UTC</td>\n",
              "      <td>-73.992103</td>\n",
              "      <td>40.671385</td>\n",
              "      <td>-73.992103</td>\n",
              "      <td>40.671385</td>\n",
              "      <td>2</td>\n",
              "    </tr>\n",
              "    <tr>\n",
              "      <th>999997</th>\n",
              "      <td>2013-04-26 14:03:00.000000118</td>\n",
              "      <td>10.5</td>\n",
              "      <td>2013-04-26 14:03:00 UTC</td>\n",
              "      <td>-73.978423</td>\n",
              "      <td>40.751135</td>\n",
              "      <td>-73.993397</td>\n",
              "      <td>40.762197</td>\n",
              "      <td>5</td>\n",
              "    </tr>\n",
              "    <tr>\n",
              "      <th>999998</th>\n",
              "      <td>2011-07-08 00:29:00.00000099</td>\n",
              "      <td>6.9</td>\n",
              "      <td>2011-07-08 00:29:00 UTC</td>\n",
              "      <td>-73.980317</td>\n",
              "      <td>40.759482</td>\n",
              "      <td>-73.976832</td>\n",
              "      <td>40.743122</td>\n",
              "      <td>1</td>\n",
              "    </tr>\n",
              "    <tr>\n",
              "      <th>999999</th>\n",
              "      <td>2009-12-31 14:30:00.00000021</td>\n",
              "      <td>4.1</td>\n",
              "      <td>2009-12-31 14:30:00 UTC</td>\n",
              "      <td>-74.006635</td>\n",
              "      <td>40.741598</td>\n",
              "      <td>-73.999450</td>\n",
              "      <td>40.745702</td>\n",
              "      <td>1</td>\n",
              "    </tr>\n",
              "  </tbody>\n",
              "</table>\n",
              "<p>999990 rows × 8 columns</p>\n",
              "</div>\n",
              "      <button class=\"colab-df-convert\" onclick=\"convertToInteractive('df-adf8683b-6113-4746-9a85-786b6cf81e13')\"\n",
              "              title=\"Convert this dataframe to an interactive table.\"\n",
              "              style=\"display:none;\">\n",
              "        \n",
              "  <svg xmlns=\"http://www.w3.org/2000/svg\" height=\"24px\"viewBox=\"0 0 24 24\"\n",
              "       width=\"24px\">\n",
              "    <path d=\"M0 0h24v24H0V0z\" fill=\"none\"/>\n",
              "    <path d=\"M18.56 5.44l.94 2.06.94-2.06 2.06-.94-2.06-.94-.94-2.06-.94 2.06-2.06.94zm-11 1L8.5 8.5l.94-2.06 2.06-.94-2.06-.94L8.5 2.5l-.94 2.06-2.06.94zm10 10l.94 2.06.94-2.06 2.06-.94-2.06-.94-.94-2.06-.94 2.06-2.06.94z\"/><path d=\"M17.41 7.96l-1.37-1.37c-.4-.4-.92-.59-1.43-.59-.52 0-1.04.2-1.43.59L10.3 9.45l-7.72 7.72c-.78.78-.78 2.05 0 2.83L4 21.41c.39.39.9.59 1.41.59.51 0 1.02-.2 1.41-.59l7.78-7.78 2.81-2.81c.8-.78.8-2.07 0-2.86zM5.41 20L4 18.59l7.72-7.72 1.47 1.35L5.41 20z\"/>\n",
              "  </svg>\n",
              "      </button>\n",
              "      \n",
              "  <style>\n",
              "    .colab-df-container {\n",
              "      display:flex;\n",
              "      flex-wrap:wrap;\n",
              "      gap: 12px;\n",
              "    }\n",
              "\n",
              "    .colab-df-convert {\n",
              "      background-color: #E8F0FE;\n",
              "      border: none;\n",
              "      border-radius: 50%;\n",
              "      cursor: pointer;\n",
              "      display: none;\n",
              "      fill: #1967D2;\n",
              "      height: 32px;\n",
              "      padding: 0 0 0 0;\n",
              "      width: 32px;\n",
              "    }\n",
              "\n",
              "    .colab-df-convert:hover {\n",
              "      background-color: #E2EBFA;\n",
              "      box-shadow: 0px 1px 2px rgba(60, 64, 67, 0.3), 0px 1px 3px 1px rgba(60, 64, 67, 0.15);\n",
              "      fill: #174EA6;\n",
              "    }\n",
              "\n",
              "    [theme=dark] .colab-df-convert {\n",
              "      background-color: #3B4455;\n",
              "      fill: #D2E3FC;\n",
              "    }\n",
              "\n",
              "    [theme=dark] .colab-df-convert:hover {\n",
              "      background-color: #434B5C;\n",
              "      box-shadow: 0px 1px 3px 1px rgba(0, 0, 0, 0.15);\n",
              "      filter: drop-shadow(0px 1px 2px rgba(0, 0, 0, 0.3));\n",
              "      fill: #FFFFFF;\n",
              "    }\n",
              "  </style>\n",
              "\n",
              "      <script>\n",
              "        const buttonEl =\n",
              "          document.querySelector('#df-adf8683b-6113-4746-9a85-786b6cf81e13 button.colab-df-convert');\n",
              "        buttonEl.style.display =\n",
              "          google.colab.kernel.accessAllowed ? 'block' : 'none';\n",
              "\n",
              "        async function convertToInteractive(key) {\n",
              "          const element = document.querySelector('#df-adf8683b-6113-4746-9a85-786b6cf81e13');\n",
              "          const dataTable =\n",
              "            await google.colab.kernel.invokeFunction('convertToInteractive',\n",
              "                                                     [key], {});\n",
              "          if (!dataTable) return;\n",
              "\n",
              "          const docLinkHtml = 'Like what you see? Visit the ' +\n",
              "            '<a target=\"_blank\" href=https://colab.research.google.com/notebooks/data_table.ipynb>data table notebook</a>'\n",
              "            + ' to learn more about interactive tables.';\n",
              "          element.innerHTML = '';\n",
              "          dataTable['output_type'] = 'display_data';\n",
              "          await google.colab.output.renderOutput(dataTable, element);\n",
              "          const docLink = document.createElement('div');\n",
              "          docLink.innerHTML = docLinkHtml;\n",
              "          element.appendChild(docLink);\n",
              "        }\n",
              "      </script>\n",
              "    </div>\n",
              "  </div>\n",
              "  "
            ]
          },
          "metadata": {},
          "execution_count": 40
        }
      ],
      "source": [
        "#drop the missing values\n",
        "train = train.dropna(axis = 0, how ='any')\n",
        "train\n"
      ]
    },
    {
      "cell_type": "code",
      "source": [
        "#drop the missing values\n",
        "test = test.dropna(axis = 0, how ='any')\n",
        "test\n"
      ],
      "metadata": {
        "colab": {
          "base_uri": "https://localhost:8080/",
          "height": 468
        },
        "id": "g29nFmuUcDcT",
        "outputId": "dc43bebe-7b41-45a8-9bc2-b0759831e54d"
      },
      "execution_count": null,
      "outputs": [
        {
          "output_type": "execute_result",
          "data": {
            "text/plain": [
              "                              key          pickup_datetime  pickup_longitude  \\\n",
              "0     2015-01-27 13:08:24.0000002  2015-01-27 13:08:24 UTC        -73.973320   \n",
              "1     2015-01-27 13:08:24.0000003  2015-01-27 13:08:24 UTC        -73.986862   \n",
              "2     2011-10-08 11:53:44.0000002  2011-10-08 11:53:44 UTC        -73.982524   \n",
              "3     2012-12-01 21:12:12.0000002  2012-12-01 21:12:12 UTC        -73.981160   \n",
              "4     2012-12-01 21:12:12.0000003  2012-12-01 21:12:12 UTC        -73.966046   \n",
              "...                           ...                      ...               ...   \n",
              "9909  2015-05-10 12:37:51.0000002  2015-05-10 12:37:51 UTC        -73.968124   \n",
              "9910  2015-01-12 17:05:51.0000001  2015-01-12 17:05:51 UTC        -73.945511   \n",
              "9911  2015-04-19 20:44:15.0000001  2015-04-19 20:44:15 UTC        -73.991600   \n",
              "9912  2015-01-31 01:05:19.0000005  2015-01-31 01:05:19 UTC        -73.985573   \n",
              "9913  2015-01-18 14:06:23.0000006  2015-01-18 14:06:23 UTC        -73.988022   \n",
              "\n",
              "      pickup_latitude  dropoff_longitude  dropoff_latitude  passenger_count  \n",
              "0           40.763805         -73.981430         40.743835                1  \n",
              "1           40.719383         -73.998886         40.739201                1  \n",
              "2           40.751260         -73.979654         40.746139                1  \n",
              "3           40.767807         -73.990448         40.751635                1  \n",
              "4           40.789775         -73.988565         40.744427                1  \n",
              "...               ...                ...               ...              ...  \n",
              "9909        40.796997         -73.955643         40.780388                6  \n",
              "9910        40.803600         -73.960213         40.776371                6  \n",
              "9911        40.726608         -73.789742         40.647011                6  \n",
              "9912        40.735432         -73.939178         40.801731                6  \n",
              "9913        40.754070         -74.000282         40.759220                6  \n",
              "\n",
              "[9914 rows x 7 columns]"
            ],
            "text/html": [
              "\n",
              "  <div id=\"df-55e1870f-10db-47f9-a04f-4bcbc0a4452f\">\n",
              "    <div class=\"colab-df-container\">\n",
              "      <div>\n",
              "<style scoped>\n",
              "    .dataframe tbody tr th:only-of-type {\n",
              "        vertical-align: middle;\n",
              "    }\n",
              "\n",
              "    .dataframe tbody tr th {\n",
              "        vertical-align: top;\n",
              "    }\n",
              "\n",
              "    .dataframe thead th {\n",
              "        text-align: right;\n",
              "    }\n",
              "</style>\n",
              "<table border=\"1\" class=\"dataframe\">\n",
              "  <thead>\n",
              "    <tr style=\"text-align: right;\">\n",
              "      <th></th>\n",
              "      <th>key</th>\n",
              "      <th>pickup_datetime</th>\n",
              "      <th>pickup_longitude</th>\n",
              "      <th>pickup_latitude</th>\n",
              "      <th>dropoff_longitude</th>\n",
              "      <th>dropoff_latitude</th>\n",
              "      <th>passenger_count</th>\n",
              "    </tr>\n",
              "  </thead>\n",
              "  <tbody>\n",
              "    <tr>\n",
              "      <th>0</th>\n",
              "      <td>2015-01-27 13:08:24.0000002</td>\n",
              "      <td>2015-01-27 13:08:24 UTC</td>\n",
              "      <td>-73.973320</td>\n",
              "      <td>40.763805</td>\n",
              "      <td>-73.981430</td>\n",
              "      <td>40.743835</td>\n",
              "      <td>1</td>\n",
              "    </tr>\n",
              "    <tr>\n",
              "      <th>1</th>\n",
              "      <td>2015-01-27 13:08:24.0000003</td>\n",
              "      <td>2015-01-27 13:08:24 UTC</td>\n",
              "      <td>-73.986862</td>\n",
              "      <td>40.719383</td>\n",
              "      <td>-73.998886</td>\n",
              "      <td>40.739201</td>\n",
              "      <td>1</td>\n",
              "    </tr>\n",
              "    <tr>\n",
              "      <th>2</th>\n",
              "      <td>2011-10-08 11:53:44.0000002</td>\n",
              "      <td>2011-10-08 11:53:44 UTC</td>\n",
              "      <td>-73.982524</td>\n",
              "      <td>40.751260</td>\n",
              "      <td>-73.979654</td>\n",
              "      <td>40.746139</td>\n",
              "      <td>1</td>\n",
              "    </tr>\n",
              "    <tr>\n",
              "      <th>3</th>\n",
              "      <td>2012-12-01 21:12:12.0000002</td>\n",
              "      <td>2012-12-01 21:12:12 UTC</td>\n",
              "      <td>-73.981160</td>\n",
              "      <td>40.767807</td>\n",
              "      <td>-73.990448</td>\n",
              "      <td>40.751635</td>\n",
              "      <td>1</td>\n",
              "    </tr>\n",
              "    <tr>\n",
              "      <th>4</th>\n",
              "      <td>2012-12-01 21:12:12.0000003</td>\n",
              "      <td>2012-12-01 21:12:12 UTC</td>\n",
              "      <td>-73.966046</td>\n",
              "      <td>40.789775</td>\n",
              "      <td>-73.988565</td>\n",
              "      <td>40.744427</td>\n",
              "      <td>1</td>\n",
              "    </tr>\n",
              "    <tr>\n",
              "      <th>...</th>\n",
              "      <td>...</td>\n",
              "      <td>...</td>\n",
              "      <td>...</td>\n",
              "      <td>...</td>\n",
              "      <td>...</td>\n",
              "      <td>...</td>\n",
              "      <td>...</td>\n",
              "    </tr>\n",
              "    <tr>\n",
              "      <th>9909</th>\n",
              "      <td>2015-05-10 12:37:51.0000002</td>\n",
              "      <td>2015-05-10 12:37:51 UTC</td>\n",
              "      <td>-73.968124</td>\n",
              "      <td>40.796997</td>\n",
              "      <td>-73.955643</td>\n",
              "      <td>40.780388</td>\n",
              "      <td>6</td>\n",
              "    </tr>\n",
              "    <tr>\n",
              "      <th>9910</th>\n",
              "      <td>2015-01-12 17:05:51.0000001</td>\n",
              "      <td>2015-01-12 17:05:51 UTC</td>\n",
              "      <td>-73.945511</td>\n",
              "      <td>40.803600</td>\n",
              "      <td>-73.960213</td>\n",
              "      <td>40.776371</td>\n",
              "      <td>6</td>\n",
              "    </tr>\n",
              "    <tr>\n",
              "      <th>9911</th>\n",
              "      <td>2015-04-19 20:44:15.0000001</td>\n",
              "      <td>2015-04-19 20:44:15 UTC</td>\n",
              "      <td>-73.991600</td>\n",
              "      <td>40.726608</td>\n",
              "      <td>-73.789742</td>\n",
              "      <td>40.647011</td>\n",
              "      <td>6</td>\n",
              "    </tr>\n",
              "    <tr>\n",
              "      <th>9912</th>\n",
              "      <td>2015-01-31 01:05:19.0000005</td>\n",
              "      <td>2015-01-31 01:05:19 UTC</td>\n",
              "      <td>-73.985573</td>\n",
              "      <td>40.735432</td>\n",
              "      <td>-73.939178</td>\n",
              "      <td>40.801731</td>\n",
              "      <td>6</td>\n",
              "    </tr>\n",
              "    <tr>\n",
              "      <th>9913</th>\n",
              "      <td>2015-01-18 14:06:23.0000006</td>\n",
              "      <td>2015-01-18 14:06:23 UTC</td>\n",
              "      <td>-73.988022</td>\n",
              "      <td>40.754070</td>\n",
              "      <td>-74.000282</td>\n",
              "      <td>40.759220</td>\n",
              "      <td>6</td>\n",
              "    </tr>\n",
              "  </tbody>\n",
              "</table>\n",
              "<p>9914 rows × 7 columns</p>\n",
              "</div>\n",
              "      <button class=\"colab-df-convert\" onclick=\"convertToInteractive('df-55e1870f-10db-47f9-a04f-4bcbc0a4452f')\"\n",
              "              title=\"Convert this dataframe to an interactive table.\"\n",
              "              style=\"display:none;\">\n",
              "        \n",
              "  <svg xmlns=\"http://www.w3.org/2000/svg\" height=\"24px\"viewBox=\"0 0 24 24\"\n",
              "       width=\"24px\">\n",
              "    <path d=\"M0 0h24v24H0V0z\" fill=\"none\"/>\n",
              "    <path d=\"M18.56 5.44l.94 2.06.94-2.06 2.06-.94-2.06-.94-.94-2.06-.94 2.06-2.06.94zm-11 1L8.5 8.5l.94-2.06 2.06-.94-2.06-.94L8.5 2.5l-.94 2.06-2.06.94zm10 10l.94 2.06.94-2.06 2.06-.94-2.06-.94-.94-2.06-.94 2.06-2.06.94z\"/><path d=\"M17.41 7.96l-1.37-1.37c-.4-.4-.92-.59-1.43-.59-.52 0-1.04.2-1.43.59L10.3 9.45l-7.72 7.72c-.78.78-.78 2.05 0 2.83L4 21.41c.39.39.9.59 1.41.59.51 0 1.02-.2 1.41-.59l7.78-7.78 2.81-2.81c.8-.78.8-2.07 0-2.86zM5.41 20L4 18.59l7.72-7.72 1.47 1.35L5.41 20z\"/>\n",
              "  </svg>\n",
              "      </button>\n",
              "      \n",
              "  <style>\n",
              "    .colab-df-container {\n",
              "      display:flex;\n",
              "      flex-wrap:wrap;\n",
              "      gap: 12px;\n",
              "    }\n",
              "\n",
              "    .colab-df-convert {\n",
              "      background-color: #E8F0FE;\n",
              "      border: none;\n",
              "      border-radius: 50%;\n",
              "      cursor: pointer;\n",
              "      display: none;\n",
              "      fill: #1967D2;\n",
              "      height: 32px;\n",
              "      padding: 0 0 0 0;\n",
              "      width: 32px;\n",
              "    }\n",
              "\n",
              "    .colab-df-convert:hover {\n",
              "      background-color: #E2EBFA;\n",
              "      box-shadow: 0px 1px 2px rgba(60, 64, 67, 0.3), 0px 1px 3px 1px rgba(60, 64, 67, 0.15);\n",
              "      fill: #174EA6;\n",
              "    }\n",
              "\n",
              "    [theme=dark] .colab-df-convert {\n",
              "      background-color: #3B4455;\n",
              "      fill: #D2E3FC;\n",
              "    }\n",
              "\n",
              "    [theme=dark] .colab-df-convert:hover {\n",
              "      background-color: #434B5C;\n",
              "      box-shadow: 0px 1px 3px 1px rgba(0, 0, 0, 0.15);\n",
              "      filter: drop-shadow(0px 1px 2px rgba(0, 0, 0, 0.3));\n",
              "      fill: #FFFFFF;\n",
              "    }\n",
              "  </style>\n",
              "\n",
              "      <script>\n",
              "        const buttonEl =\n",
              "          document.querySelector('#df-55e1870f-10db-47f9-a04f-4bcbc0a4452f button.colab-df-convert');\n",
              "        buttonEl.style.display =\n",
              "          google.colab.kernel.accessAllowed ? 'block' : 'none';\n",
              "\n",
              "        async function convertToInteractive(key) {\n",
              "          const element = document.querySelector('#df-55e1870f-10db-47f9-a04f-4bcbc0a4452f');\n",
              "          const dataTable =\n",
              "            await google.colab.kernel.invokeFunction('convertToInteractive',\n",
              "                                                     [key], {});\n",
              "          if (!dataTable) return;\n",
              "\n",
              "          const docLinkHtml = 'Like what you see? Visit the ' +\n",
              "            '<a target=\"_blank\" href=https://colab.research.google.com/notebooks/data_table.ipynb>data table notebook</a>'\n",
              "            + ' to learn more about interactive tables.';\n",
              "          element.innerHTML = '';\n",
              "          dataTable['output_type'] = 'display_data';\n",
              "          await google.colab.output.renderOutput(dataTable, element);\n",
              "          const docLink = document.createElement('div');\n",
              "          docLink.innerHTML = docLinkHtml;\n",
              "          element.appendChild(docLink);\n",
              "        }\n",
              "      </script>\n",
              "    </div>\n",
              "  </div>\n",
              "  "
            ]
          },
          "metadata": {},
          "execution_count": 41
        }
      ]
    },
    {
      "cell_type": "code",
      "execution_count": null,
      "metadata": {
        "colab": {
          "base_uri": "https://localhost:8080/"
        },
        "id": "ftsomnVq1TuS",
        "outputId": "4fb513f2-2cfd-4b6f-83bf-dc22664e7bad"
      },
      "outputs": [
        {
          "output_type": "execute_result",
          "data": {
            "text/plain": [
              "array([  2039,   2486,  10002,  13032,  27891,  28839,  36722,  42337,\n",
              "        47302,  56748,  58937,  97838, 102938, 105051, 165146, 175351,\n",
              "       179310, 182340, 211454, 211498, 266483, 288958, 298410, 301354,\n",
              "       323635, 331595, 386731, 399782, 427599, 431815, 436654, 443465,\n",
              "       481414, 489762, 495268, 512489, 519527, 520710, 534745, 549204,\n",
              "       561780, 577718, 605419, 670246, 681334, 689242, 698279, 738396,\n",
              "       740834, 743718, 748544, 760654, 762794, 788458, 857254, 857712,\n",
              "       878014, 888587, 895352, 896057, 897201, 930670, 938010, 942205,\n",
              "       949554, 957580, 963979])"
            ]
          },
          "metadata": {},
          "execution_count": 42
        }
      ],
      "source": [
        "#Look for no. of non-positive fare_amount values.\n",
        "np.where(train['fare_amount'] <= 0)[0]"
      ]
    },
    {
      "cell_type": "code",
      "execution_count": null,
      "metadata": {
        "colab": {
          "base_uri": "https://localhost:8080/",
          "height": 641
        },
        "id": "Rd-PKokO1eKX",
        "outputId": "941bcba4-70af-42da-f412-56275151a474"
      },
      "outputs": [
        {
          "output_type": "execute_result",
          "data": {
            "text/plain": [
              "                                  key  fare_amount          pickup_datetime  \\\n",
              "0         2009-06-15 17:26:21.0000001          4.5  2009-06-15 17:26:21 UTC   \n",
              "1         2010-01-05 16:52:16.0000002         16.9  2010-01-05 16:52:16 UTC   \n",
              "2        2011-08-18 00:35:00.00000049          5.7  2011-08-18 00:35:00 UTC   \n",
              "3         2012-04-21 04:30:42.0000001          7.7  2012-04-21 04:30:42 UTC   \n",
              "4       2010-03-09 07:51:00.000000135          5.3  2010-03-09 07:51:00 UTC   \n",
              "...                               ...          ...                      ...   \n",
              "999995    2014-09-13 21:44:38.0000001          7.0  2014-09-13 21:44:38 UTC   \n",
              "999996    2010-09-20 14:50:37.0000002          7.3  2010-09-20 14:50:37 UTC   \n",
              "999997  2013-04-26 14:03:00.000000118         10.5  2013-04-26 14:03:00 UTC   \n",
              "999998   2011-07-08 00:29:00.00000099          6.9  2011-07-08 00:29:00 UTC   \n",
              "999999   2009-12-31 14:30:00.00000021          4.1  2009-12-31 14:30:00 UTC   \n",
              "\n",
              "        pickup_longitude  pickup_latitude  dropoff_longitude  \\\n",
              "0             -73.844311        40.721319         -73.841610   \n",
              "1             -74.016048        40.711303         -73.979268   \n",
              "2             -73.982738        40.761270         -73.991242   \n",
              "3             -73.987130        40.733143         -73.991567   \n",
              "4             -73.968095        40.768008         -73.956655   \n",
              "...                  ...              ...                ...   \n",
              "999995        -73.976676        40.785630         -73.959196   \n",
              "999996        -73.992103        40.671385         -73.992103   \n",
              "999997        -73.978423        40.751135         -73.993397   \n",
              "999998        -73.980317        40.759482         -73.976832   \n",
              "999999        -74.006635        40.741598         -73.999450   \n",
              "\n",
              "        dropoff_latitude  passenger_count  \n",
              "0              40.712278                1  \n",
              "1              40.782004                1  \n",
              "2              40.750562                2  \n",
              "3              40.758092                1  \n",
              "4              40.783762                1  \n",
              "...                  ...              ...  \n",
              "999995         40.775114                1  \n",
              "999996         40.671385                2  \n",
              "999997         40.762197                5  \n",
              "999998         40.743122                1  \n",
              "999999         40.745702                1  \n",
              "\n",
              "[999915 rows x 8 columns]"
            ],
            "text/html": [
              "\n",
              "  <div id=\"df-ab72b7f3-bf3c-4ca3-8b4c-51ea0864503c\">\n",
              "    <div class=\"colab-df-container\">\n",
              "      <div>\n",
              "<style scoped>\n",
              "    .dataframe tbody tr th:only-of-type {\n",
              "        vertical-align: middle;\n",
              "    }\n",
              "\n",
              "    .dataframe tbody tr th {\n",
              "        vertical-align: top;\n",
              "    }\n",
              "\n",
              "    .dataframe thead th {\n",
              "        text-align: right;\n",
              "    }\n",
              "</style>\n",
              "<table border=\"1\" class=\"dataframe\">\n",
              "  <thead>\n",
              "    <tr style=\"text-align: right;\">\n",
              "      <th></th>\n",
              "      <th>key</th>\n",
              "      <th>fare_amount</th>\n",
              "      <th>pickup_datetime</th>\n",
              "      <th>pickup_longitude</th>\n",
              "      <th>pickup_latitude</th>\n",
              "      <th>dropoff_longitude</th>\n",
              "      <th>dropoff_latitude</th>\n",
              "      <th>passenger_count</th>\n",
              "    </tr>\n",
              "  </thead>\n",
              "  <tbody>\n",
              "    <tr>\n",
              "      <th>0</th>\n",
              "      <td>2009-06-15 17:26:21.0000001</td>\n",
              "      <td>4.5</td>\n",
              "      <td>2009-06-15 17:26:21 UTC</td>\n",
              "      <td>-73.844311</td>\n",
              "      <td>40.721319</td>\n",
              "      <td>-73.841610</td>\n",
              "      <td>40.712278</td>\n",
              "      <td>1</td>\n",
              "    </tr>\n",
              "    <tr>\n",
              "      <th>1</th>\n",
              "      <td>2010-01-05 16:52:16.0000002</td>\n",
              "      <td>16.9</td>\n",
              "      <td>2010-01-05 16:52:16 UTC</td>\n",
              "      <td>-74.016048</td>\n",
              "      <td>40.711303</td>\n",
              "      <td>-73.979268</td>\n",
              "      <td>40.782004</td>\n",
              "      <td>1</td>\n",
              "    </tr>\n",
              "    <tr>\n",
              "      <th>2</th>\n",
              "      <td>2011-08-18 00:35:00.00000049</td>\n",
              "      <td>5.7</td>\n",
              "      <td>2011-08-18 00:35:00 UTC</td>\n",
              "      <td>-73.982738</td>\n",
              "      <td>40.761270</td>\n",
              "      <td>-73.991242</td>\n",
              "      <td>40.750562</td>\n",
              "      <td>2</td>\n",
              "    </tr>\n",
              "    <tr>\n",
              "      <th>3</th>\n",
              "      <td>2012-04-21 04:30:42.0000001</td>\n",
              "      <td>7.7</td>\n",
              "      <td>2012-04-21 04:30:42 UTC</td>\n",
              "      <td>-73.987130</td>\n",
              "      <td>40.733143</td>\n",
              "      <td>-73.991567</td>\n",
              "      <td>40.758092</td>\n",
              "      <td>1</td>\n",
              "    </tr>\n",
              "    <tr>\n",
              "      <th>4</th>\n",
              "      <td>2010-03-09 07:51:00.000000135</td>\n",
              "      <td>5.3</td>\n",
              "      <td>2010-03-09 07:51:00 UTC</td>\n",
              "      <td>-73.968095</td>\n",
              "      <td>40.768008</td>\n",
              "      <td>-73.956655</td>\n",
              "      <td>40.783762</td>\n",
              "      <td>1</td>\n",
              "    </tr>\n",
              "    <tr>\n",
              "      <th>...</th>\n",
              "      <td>...</td>\n",
              "      <td>...</td>\n",
              "      <td>...</td>\n",
              "      <td>...</td>\n",
              "      <td>...</td>\n",
              "      <td>...</td>\n",
              "      <td>...</td>\n",
              "      <td>...</td>\n",
              "    </tr>\n",
              "    <tr>\n",
              "      <th>999995</th>\n",
              "      <td>2014-09-13 21:44:38.0000001</td>\n",
              "      <td>7.0</td>\n",
              "      <td>2014-09-13 21:44:38 UTC</td>\n",
              "      <td>-73.976676</td>\n",
              "      <td>40.785630</td>\n",
              "      <td>-73.959196</td>\n",
              "      <td>40.775114</td>\n",
              "      <td>1</td>\n",
              "    </tr>\n",
              "    <tr>\n",
              "      <th>999996</th>\n",
              "      <td>2010-09-20 14:50:37.0000002</td>\n",
              "      <td>7.3</td>\n",
              "      <td>2010-09-20 14:50:37 UTC</td>\n",
              "      <td>-73.992103</td>\n",
              "      <td>40.671385</td>\n",
              "      <td>-73.992103</td>\n",
              "      <td>40.671385</td>\n",
              "      <td>2</td>\n",
              "    </tr>\n",
              "    <tr>\n",
              "      <th>999997</th>\n",
              "      <td>2013-04-26 14:03:00.000000118</td>\n",
              "      <td>10.5</td>\n",
              "      <td>2013-04-26 14:03:00 UTC</td>\n",
              "      <td>-73.978423</td>\n",
              "      <td>40.751135</td>\n",
              "      <td>-73.993397</td>\n",
              "      <td>40.762197</td>\n",
              "      <td>5</td>\n",
              "    </tr>\n",
              "    <tr>\n",
              "      <th>999998</th>\n",
              "      <td>2011-07-08 00:29:00.00000099</td>\n",
              "      <td>6.9</td>\n",
              "      <td>2011-07-08 00:29:00 UTC</td>\n",
              "      <td>-73.980317</td>\n",
              "      <td>40.759482</td>\n",
              "      <td>-73.976832</td>\n",
              "      <td>40.743122</td>\n",
              "      <td>1</td>\n",
              "    </tr>\n",
              "    <tr>\n",
              "      <th>999999</th>\n",
              "      <td>2009-12-31 14:30:00.00000021</td>\n",
              "      <td>4.1</td>\n",
              "      <td>2009-12-31 14:30:00 UTC</td>\n",
              "      <td>-74.006635</td>\n",
              "      <td>40.741598</td>\n",
              "      <td>-73.999450</td>\n",
              "      <td>40.745702</td>\n",
              "      <td>1</td>\n",
              "    </tr>\n",
              "  </tbody>\n",
              "</table>\n",
              "<p>999915 rows × 8 columns</p>\n",
              "</div>\n",
              "      <button class=\"colab-df-convert\" onclick=\"convertToInteractive('df-ab72b7f3-bf3c-4ca3-8b4c-51ea0864503c')\"\n",
              "              title=\"Convert this dataframe to an interactive table.\"\n",
              "              style=\"display:none;\">\n",
              "        \n",
              "  <svg xmlns=\"http://www.w3.org/2000/svg\" height=\"24px\"viewBox=\"0 0 24 24\"\n",
              "       width=\"24px\">\n",
              "    <path d=\"M0 0h24v24H0V0z\" fill=\"none\"/>\n",
              "    <path d=\"M18.56 5.44l.94 2.06.94-2.06 2.06-.94-2.06-.94-.94-2.06-.94 2.06-2.06.94zm-11 1L8.5 8.5l.94-2.06 2.06-.94-2.06-.94L8.5 2.5l-.94 2.06-2.06.94zm10 10l.94 2.06.94-2.06 2.06-.94-2.06-.94-.94-2.06-.94 2.06-2.06.94z\"/><path d=\"M17.41 7.96l-1.37-1.37c-.4-.4-.92-.59-1.43-.59-.52 0-1.04.2-1.43.59L10.3 9.45l-7.72 7.72c-.78.78-.78 2.05 0 2.83L4 21.41c.39.39.9.59 1.41.59.51 0 1.02-.2 1.41-.59l7.78-7.78 2.81-2.81c.8-.78.8-2.07 0-2.86zM5.41 20L4 18.59l7.72-7.72 1.47 1.35L5.41 20z\"/>\n",
              "  </svg>\n",
              "      </button>\n",
              "      \n",
              "  <style>\n",
              "    .colab-df-container {\n",
              "      display:flex;\n",
              "      flex-wrap:wrap;\n",
              "      gap: 12px;\n",
              "    }\n",
              "\n",
              "    .colab-df-convert {\n",
              "      background-color: #E8F0FE;\n",
              "      border: none;\n",
              "      border-radius: 50%;\n",
              "      cursor: pointer;\n",
              "      display: none;\n",
              "      fill: #1967D2;\n",
              "      height: 32px;\n",
              "      padding: 0 0 0 0;\n",
              "      width: 32px;\n",
              "    }\n",
              "\n",
              "    .colab-df-convert:hover {\n",
              "      background-color: #E2EBFA;\n",
              "      box-shadow: 0px 1px 2px rgba(60, 64, 67, 0.3), 0px 1px 3px 1px rgba(60, 64, 67, 0.15);\n",
              "      fill: #174EA6;\n",
              "    }\n",
              "\n",
              "    [theme=dark] .colab-df-convert {\n",
              "      background-color: #3B4455;\n",
              "      fill: #D2E3FC;\n",
              "    }\n",
              "\n",
              "    [theme=dark] .colab-df-convert:hover {\n",
              "      background-color: #434B5C;\n",
              "      box-shadow: 0px 1px 3px 1px rgba(0, 0, 0, 0.15);\n",
              "      filter: drop-shadow(0px 1px 2px rgba(0, 0, 0, 0.3));\n",
              "      fill: #FFFFFF;\n",
              "    }\n",
              "  </style>\n",
              "\n",
              "      <script>\n",
              "        const buttonEl =\n",
              "          document.querySelector('#df-ab72b7f3-bf3c-4ca3-8b4c-51ea0864503c button.colab-df-convert');\n",
              "        buttonEl.style.display =\n",
              "          google.colab.kernel.accessAllowed ? 'block' : 'none';\n",
              "\n",
              "        async function convertToInteractive(key) {\n",
              "          const element = document.querySelector('#df-ab72b7f3-bf3c-4ca3-8b4c-51ea0864503c');\n",
              "          const dataTable =\n",
              "            await google.colab.kernel.invokeFunction('convertToInteractive',\n",
              "                                                     [key], {});\n",
              "          if (!dataTable) return;\n",
              "\n",
              "          const docLinkHtml = 'Like what you see? Visit the ' +\n",
              "            '<a target=\"_blank\" href=https://colab.research.google.com/notebooks/data_table.ipynb>data table notebook</a>'\n",
              "            + ' to learn more about interactive tables.';\n",
              "          element.innerHTML = '';\n",
              "          dataTable['output_type'] = 'display_data';\n",
              "          await google.colab.output.renderOutput(dataTable, element);\n",
              "          const docLink = document.createElement('div');\n",
              "          docLink.innerHTML = docLinkHtml;\n",
              "          element.appendChild(docLink);\n",
              "        }\n",
              "      </script>\n",
              "    </div>\n",
              "  </div>\n",
              "  "
            ]
          },
          "metadata": {},
          "execution_count": 43
        }
      ],
      "source": [
        "# Remove the non-positive fare_amount values.\n",
        "train = train[train['fare_amount'] > 1]\n",
        "train"
      ]
    },
    {
      "cell_type": "code",
      "source": [
        "train.hist(bins=10, figsize=(15,12))\n",
        "plt.show()"
      ],
      "metadata": {
        "colab": {
          "base_uri": "https://localhost:8080/",
          "height": 716
        },
        "id": "wAL0O8LAdXlw",
        "outputId": "6e7c2c19-c39d-4ad2-900c-939873d7856f"
      },
      "execution_count": null,
      "outputs": [
        {
          "output_type": "display_data",
          "data": {
            "text/plain": [
              "<Figure size 1080x864 with 6 Axes>"
            ],
            "image/png": "[encoded data removed]"
          },
          "metadata": {
            "needs_background": "light"
          }
        }
      ]
    },
    {
      "cell_type": "code",
      "source": [
        "train.plot(kind=\"scatter\", x=\"pickup_longitude\", y=\"pickup_latitude\", figsize=(10, 7), alpha=0.7)\n",
        "plt.show()"
      ],
      "metadata": {
        "colab": {
          "base_uri": "https://localhost:8080/",
          "height": 443
        },
        "id": "7_9tfBPAd14p",
        "outputId": "bd4be3ba-fb09-4a06-dba4-5dc1cee029b5"
      },
      "execution_count": null,
      "outputs": [
        {
          "output_type": "display_data",
          "data": {
            "text/plain": [
              "<Figure size 720x504 with 1 Axes>"
            ],
            "image/png": "[encoded data removed]"
          },
          "metadata": {
            "needs_background": "light"
          }
        }
      ]
    },
    {
      "cell_type": "code",
      "source": [
        "train.plot(kind=\"scatter\", x=\"dropoff_longitude\", y=\"dropoff_latitude\", figsize=(10, 7), alpha=0.7)\n",
        "plt.show()"
      ],
      "metadata": {
        "colab": {
          "base_uri": "https://localhost:8080/",
          "height": 443
        },
        "id": "6nF8xg8YelNR",
        "outputId": "8cf47136-00f5-47fd-8f0b-fef5bb83ec6e"
      },
      "execution_count": null,
      "outputs": [
        {
          "output_type": "display_data",
          "data": {
            "text/plain": [
              "<Figure size 720x504 with 1 Axes>"
            ],
            "image/png": "[encoded data removed]"
          },
          "metadata": {
            "needs_background": "light"
          }
        }
      ]
    },
    {
      "cell_type": "code",
      "source": [
        "train.plot(kind=\"scatter\", x=\"passenger_count\", y=\"fare_amount\", figsize=(10, 7), alpha=0.7)\n",
        "plt.show()"
      ],
      "metadata": {
        "colab": {
          "base_uri": "https://localhost:8080/",
          "height": 443
        },
        "id": "EpQsayBniFhh",
        "outputId": "18689225-6fc7-4cce-e12e-3183aa04739c"
      },
      "execution_count": null,
      "outputs": [
        {
          "output_type": "display_data",
          "data": {
            "text/plain": [
              "<Figure size 720x504 with 1 Axes>"
            ],
            "image/png": "[encoded data removed]"
          },
          "metadata": {
            "needs_background": "light"
          }
        }
      ]
    },
    {
      "cell_type": "code",
      "execution_count": null,
      "metadata": {
        "colab": {
          "base_uri": "https://localhost:8080/"
        },
        "id": "ioRTlheu13s0",
        "outputId": "420670a3-9568-4f59-d1fb-371c9f68713a"
      },
      "outputs": [
        {
          "output_type": "stream",
          "name": "stdout",
          "text": [
            "Identified outliers: 27000\n"
          ]
        }
      ],
      "source": [
        "#Remove outliers\n",
        "\n",
        "\n",
        "# calculate summary statistics\n",
        "fare_amount_mean = train[\"fare_amount\"].mean(),\n",
        "fare_amount_std =  train[\"fare_amount\"].std()\n",
        "# identify outliers\n",
        "fare_amount_cut_off = fare_amount_std * 3\n",
        "lower, upper = fare_amount_mean - fare_amount_cut_off, fare_amount_mean + fare_amount_cut_off\n",
        "# identify outliers\n",
        "outliers = [x for x in train[\"fare_amount\"] if x < lower or x > upper]\n",
        "print('Identified outliers: %d' % len(outliers))\n",
        "# remove outliers\n",
        "train = train[(train[\"fare_amount\"] >= lower[0]) & (train[\"fare_amount\"] <= upper[0])]"
      ]
    },
    {
      "cell_type": "code",
      "source": [
        "pickup_longitude_mean = train[\"pickup_longitude\"].mean(),\n",
        "pickup_longitude_std =  train[\"pickup_longitude\"].std()\n",
        "# identify outliers\n",
        "pickup_longitude_cut_off = pickup_longitude_std * 3\n",
        "lower, upper = pickup_longitude_mean - pickup_longitude_cut_off, pickup_longitude_mean + pickup_longitude_cut_off\n",
        "# identify outliers\n",
        "outliers = [x for x in train[\"pickup_longitude\"] if x < lower or x > upper]\n",
        "print('Identified outliers: %d' % len(outliers))\n",
        "# remove outliers\n",
        "train = train[(train[\"pickup_longitude\"] >= lower[0]) & (train[\"pickup_longitude\"] <= upper[0])]"
      ],
      "metadata": {
        "colab": {
          "base_uri": "https://localhost:8080/"
        },
        "id": "WtKX2T7PvvXr",
        "outputId": "67c50bf9-7c78-4a9b-f825-4ac75e0b4f3c"
      },
      "execution_count": null,
      "outputs": [
        {
          "output_type": "stream",
          "name": "stdout",
          "text": [
            "Identified outliers: 18715\n"
          ]
        }
      ]
    },
    {
      "cell_type": "code",
      "source": [
        "pickup_longitude_mean = test[\"pickup_longitude\"].mean(),\n",
        "pickup_longitude_std =  test[\"pickup_longitude\"].std()\n",
        "# identify outliers\n",
        "pickup_longitude_cut_off = pickup_longitude_std * 3\n",
        "lower, upper = pickup_longitude_mean - pickup_longitude_cut_off, pickup_longitude_mean + pickup_longitude_cut_off\n",
        "# identify outliers\n",
        "outliers = [x for x in test[\"pickup_longitude\"] if x < lower or x > upper]\n",
        "print('Identified outliers: %d' % len(outliers))\n",
        "# remove outliers\n",
        "test = test[(test[\"pickup_longitude\"] >= lower[0]) & (test[\"pickup_longitude\"] <= upper[0])]"
      ],
      "metadata": {
        "colab": {
          "base_uri": "https://localhost:8080/"
        },
        "id": "tcfTtbU-xpOg",
        "outputId": "9e77a134-78e0-49e9-8e86-0edd7fcbeafe"
      },
      "execution_count": null,
      "outputs": [
        {
          "output_type": "stream",
          "name": "stdout",
          "text": [
            "Identified outliers: 193\n"
          ]
        }
      ]
    },
    {
      "cell_type": "code",
      "source": [
        "pickup_latitude_mean = train[\"pickup_latitude\"].mean(),\n",
        "pickup_latitude_std =  train[\"pickup_latitude\"].std()\n",
        "# identify outliers\n",
        "pickup_latitude_cut_off = pickup_latitude_std * 3\n",
        "lower, upper = pickup_latitude_mean - pickup_latitude_cut_off, pickup_latitude_mean + pickup_latitude_cut_off\n",
        "# identify outliers\n",
        "outliers = [x for x in train[\"pickup_latitude\"] if x < lower or x > upper]\n",
        "print('Identified outliers: %d' % len(outliers))\n",
        "# remove outliers\n",
        "train = train[(train[\"pickup_latitude\"] >= lower[0]) & (train[\"pickup_latitude\"] <= upper[0])]"
      ],
      "metadata": {
        "colab": {
          "base_uri": "https://localhost:8080/"
        },
        "id": "08Qft5iowiEm",
        "outputId": "5f3d0bf6-36b2-41eb-8c1f-b2a3e61f365a"
      },
      "execution_count": null,
      "outputs": [
        {
          "output_type": "stream",
          "name": "stdout",
          "text": [
            "Identified outliers: 51\n"
          ]
        }
      ]
    },
    {
      "cell_type": "code",
      "source": [
        "pickup_latitude_mean = test[\"pickup_latitude\"].mean(),\n",
        "pickup_latitude_std =  test[\"pickup_latitude\"].std()\n",
        "# identify outliers\n",
        "pickup_latitude_cut_off = pickup_latitude_std * 3\n",
        "lower, upper = pickup_latitude_mean - pickup_latitude_cut_off, pickup_latitude_mean + pickup_latitude_cut_off\n",
        "# identify outliers\n",
        "outliers = [x for x in test[\"pickup_latitude\"] if x < lower or x > upper]\n",
        "print('Identified outliers: %d' % len(outliers))\n",
        "# remove outliers\n",
        "test = test[(test[\"pickup_latitude\"] >= lower[0]) & (test[\"pickup_latitude\"] <= upper[0])]"
      ],
      "metadata": {
        "colab": {
          "base_uri": "https://localhost:8080/"
        },
        "id": "R3JYZDGvyC8P",
        "outputId": "66fae6f3-43c9-416c-feb4-2d16ccf7699b"
      },
      "execution_count": null,
      "outputs": [
        {
          "output_type": "stream",
          "name": "stdout",
          "text": [
            "Identified outliers: 85\n"
          ]
        }
      ]
    },
    {
      "cell_type": "code",
      "source": [
        "dropoff_latitude_mean = train[\"dropoff_latitude\"].mean(),\n",
        "dropoff_latitude_std =  train[\"dropoff_latitude\"].std()\n",
        "# identify outliers\n",
        "dropoff_latitude_cut_off = dropoff_latitude_std * 3\n",
        "lower, upper = dropoff_latitude_mean - dropoff_latitude_cut_off, dropoff_latitude_mean + dropoff_latitude_cut_off\n",
        "# identify outliers\n",
        "outliers = [x for x in train[\"dropoff_latitude\"] if x < lower or x > upper]\n",
        "print('Identified outliers: %d' % len(outliers))\n",
        "# remove outliers\n",
        "train = train[(train[\"dropoff_latitude\"] >= lower[0]) & (train[\"dropoff_latitude\"] <= upper[0])]"
      ],
      "metadata": {
        "colab": {
          "base_uri": "https://localhost:8080/"
        },
        "id": "fbaYScF9wyve",
        "outputId": "90298045-c49d-43ec-bcba-59e940cc1c2c"
      },
      "execution_count": null,
      "outputs": [
        {
          "output_type": "stream",
          "name": "stdout",
          "text": [
            "Identified outliers: 735\n"
          ]
        }
      ]
    },
    {
      "cell_type": "code",
      "source": [
        "dropoff_latitude_mean = test[\"dropoff_latitude\"].mean(),\n",
        "dropoff_latitude_std =  test[\"dropoff_latitude\"].std()\n",
        "# identify outliers\n",
        "dropoff_latitude_cut_off = dropoff_latitude_std * 3\n",
        "lower, upper = dropoff_latitude_mean - dropoff_latitude_cut_off, dropoff_latitude_mean + dropoff_latitude_cut_off\n",
        "# identify outliers\n",
        "outliers = [x for x in test[\"dropoff_latitude\"] if x < lower or x > upper]\n",
        "print('Identified outliers: %d' % len(outliers))\n",
        "# remove outliers\n",
        "test = test[(test[\"dropoff_latitude\"] >= lower[0]) & (test[\"dropoff_latitude\"] <= upper[0])]"
      ],
      "metadata": {
        "colab": {
          "base_uri": "https://localhost:8080/"
        },
        "id": "jCjWum6ayXkS",
        "outputId": "1d419f9f-39e9-4ea9-c2c4-01f6cd92ae54"
      },
      "execution_count": null,
      "outputs": [
        {
          "output_type": "stream",
          "name": "stdout",
          "text": [
            "Identified outliers: 190\n"
          ]
        }
      ]
    },
    {
      "cell_type": "code",
      "source": [
        "dropoff_longitude_mean = train[\"dropoff_longitude\"].mean(),\n",
        "dropoff_longitude_std =  train[\"dropoff_longitude\"].std()\n",
        "# identify outliers\n",
        "dropoff_longitude_cut_off = dropoff_longitude_std * 3\n",
        "lower, upper = dropoff_longitude_mean - dropoff_longitude_cut_off, dropoff_longitude_mean + dropoff_longitude_cut_off\n",
        "# identify outliers\n",
        "outliers = [x for x in train[\"dropoff_longitude\"] if x < lower or x > upper]\n",
        "print('Identified outliers: %d' % len(outliers))\n",
        "# remove outliers\n",
        "train = train[(train[\"dropoff_longitude\"] >= lower[0]) & (train[\"dropoff_longitude\"] <= upper[0])]"
      ],
      "metadata": {
        "colab": {
          "base_uri": "https://localhost:8080/"
        },
        "id": "8ePcQsNRxJuM",
        "outputId": "969f3f4a-6972-42bf-da38-9e40a935e486"
      },
      "execution_count": null,
      "outputs": [
        {
          "output_type": "stream",
          "name": "stdout",
          "text": [
            "Identified outliers: 115\n"
          ]
        }
      ]
    },
    {
      "cell_type": "code",
      "source": [
        "dropoff_longitude_mean = test[\"dropoff_longitude\"].mean(),\n",
        "dropoff_longitude_std =  test[\"dropoff_longitude\"].std()\n",
        "# identify outliers\n",
        "dropoff_longitude_cut_off = dropoff_longitude_std * 3\n",
        "lower, upper = dropoff_longitude_mean - dropoff_longitude_cut_off, dropoff_longitude_mean + dropoff_longitude_cut_off\n",
        "# identify outliers\n",
        "outliers = [x for x in test[\"dropoff_longitude\"] if x < lower or x > upper]\n",
        "print('Identified outliers: %d' % len(outliers))\n",
        "# remove outliers\n",
        "test = test[(train[\"dropoff_longitude\"] >= lower[0]) & (test[\"dropoff_longitude\"] <= upper[0])]"
      ],
      "metadata": {
        "colab": {
          "base_uri": "https://localhost:8080/"
        },
        "id": "iHEMj3tLynHZ",
        "outputId": "7941cc97-5b20-49b0-bec5-39af0c1cab39"
      },
      "execution_count": null,
      "outputs": [
        {
          "output_type": "stream",
          "name": "stdout",
          "text": [
            "Identified outliers: 212\n"
          ]
        },
        {
          "output_type": "stream",
          "name": "stderr",
          "text": [
            "/usr/local/lib/python3.7/dist-packages/ipykernel_launcher.py:10: UserWarning: Boolean Series key will be reindexed to match DataFrame index.\n",
            "  # Remove the CWD from sys.path while we load stuff.\n"
          ]
        }
      ]
    },
    {
      "cell_type": "code",
      "source": [
        "passenger_count_mean = train[\"passenger_count\"].mean(),\n",
        "passenger_count_std =  train[\"passenger_count\"].std()\n",
        "# identify outliers\n",
        "passenger_count_cut_off = passenger_count_std * 3\n",
        "lower, upper = passenger_count_mean - passenger_count_cut_off, passenger_count_mean + passenger_count_cut_off\n",
        "# identify outliers\n",
        "outliers = [x for x in train[\"passenger_count\"] if x < lower or x > upper]\n",
        "print('Identified outliers: %d' % len(outliers))\n",
        "# remove outliers\n",
        "train = train[(train[\"passenger_count\"] >= lower[0]) & (train[\"passenger_count\"] <= upper[0])]"
      ],
      "metadata": {
        "colab": {
          "base_uri": "https://localhost:8080/"
        },
        "id": "LbRkfTLqxeAM",
        "outputId": "29fd9b6d-ac66-4cb0-cb87-604b98fb6942"
      },
      "execution_count": null,
      "outputs": [
        {
          "output_type": "stream",
          "name": "stdout",
          "text": [
            "Identified outliers: 20092\n"
          ]
        }
      ]
    },
    {
      "cell_type": "code",
      "source": [
        "passenger_count_mean = test[\"passenger_count\"].mean(),\n",
        "passenger_count_std =  test[\"passenger_count\"].std()\n",
        "# identify outliers\n",
        "passenger_count_cut_off = passenger_count_std * 3\n",
        "lower, upper = passenger_count_mean - passenger_count_cut_off, passenger_count_mean + passenger_count_cut_off\n",
        "# identify outliers\n",
        "outliers = [x for x in test[\"passenger_count\"] if x < lower or x > upper]\n",
        "print('Identified outliers: %d' % len(outliers))\n",
        "# remove outliers\n",
        "test = test[(test[\"passenger_count\"] >= lower[0]) & (test[\"passenger_count\"] <= upper[0])]"
      ],
      "metadata": {
        "colab": {
          "base_uri": "https://localhost:8080/"
        },
        "id": "Ibky3rnDy4dC",
        "outputId": "ab9cd3e4-0733-458f-d066-df85266e1eff"
      },
      "execution_count": null,
      "outputs": [
        {
          "output_type": "stream",
          "name": "stdout",
          "text": [
            "Identified outliers: 155\n"
          ]
        }
      ]
    },
    {
      "cell_type": "code",
      "source": [
        "train.reset_index(drop = True)"
      ],
      "metadata": {
        "colab": {
          "base_uri": "https://localhost:8080/",
          "height": 641
        },
        "id": "AEiazW_RyFKX",
        "outputId": "6e410688-6b58-49b3-db80-9f3b99e11336"
      },
      "execution_count": null,
      "outputs": [
        {
          "output_type": "execute_result",
          "data": {
            "text/plain": [
              "                                  key  fare_amount          pickup_datetime  \\\n",
              "0         2009-06-15 17:26:21.0000001          4.5  2009-06-15 17:26:21 UTC   \n",
              "1         2010-01-05 16:52:16.0000002         16.9  2010-01-05 16:52:16 UTC   \n",
              "2        2011-08-18 00:35:00.00000049          5.7  2011-08-18 00:35:00 UTC   \n",
              "3         2012-04-21 04:30:42.0000001          7.7  2012-04-21 04:30:42 UTC   \n",
              "4       2010-03-09 07:51:00.000000135          5.3  2010-03-09 07:51:00 UTC   \n",
              "...                               ...          ...                      ...   \n",
              "933202    2014-09-13 21:44:38.0000001          7.0  2014-09-13 21:44:38 UTC   \n",
              "933203    2010-09-20 14:50:37.0000002          7.3  2010-09-20 14:50:37 UTC   \n",
              "933204  2013-04-26 14:03:00.000000118         10.5  2013-04-26 14:03:00 UTC   \n",
              "933205   2011-07-08 00:29:00.00000099          6.9  2011-07-08 00:29:00 UTC   \n",
              "933206   2009-12-31 14:30:00.00000021          4.1  2009-12-31 14:30:00 UTC   \n",
              "\n",
              "        pickup_longitude  pickup_latitude  dropoff_longitude  \\\n",
              "0             -73.844311        40.721319         -73.841610   \n",
              "1             -74.016048        40.711303         -73.979268   \n",
              "2             -73.982738        40.761270         -73.991242   \n",
              "3             -73.987130        40.733143         -73.991567   \n",
              "4             -73.968095        40.768008         -73.956655   \n",
              "...                  ...              ...                ...   \n",
              "933202        -73.976676        40.785630         -73.959196   \n",
              "933203        -73.992103        40.671385         -73.992103   \n",
              "933204        -73.978423        40.751135         -73.993397   \n",
              "933205        -73.980317        40.759482         -73.976832   \n",
              "933206        -74.006635        40.741598         -73.999450   \n",
              "\n",
              "        dropoff_latitude  passenger_count  \n",
              "0              40.712278                1  \n",
              "1              40.782004                1  \n",
              "2              40.750562                2  \n",
              "3              40.758092                1  \n",
              "4              40.783762                1  \n",
              "...                  ...              ...  \n",
              "933202         40.775114                1  \n",
              "933203         40.671385                2  \n",
              "933204         40.762197                5  \n",
              "933205         40.743122                1  \n",
              "933206         40.745702                1  \n",
              "\n",
              "[933207 rows x 8 columns]"
            ],
            "text/html": [
              "\n",
              "  <div id=\"df-cdfcf1db-0844-45b9-a9eb-9fd72a163e26\">\n",
              "    <div class=\"colab-df-container\">\n",
              "      <div>\n",
              "<style scoped>\n",
              "    .dataframe tbody tr th:only-of-type {\n",
              "        vertical-align: middle;\n",
              "    }\n",
              "\n",
              "    .dataframe tbody tr th {\n",
              "        vertical-align: top;\n",
              "    }\n",
              "\n",
              "    .dataframe thead th {\n",
              "        text-align: right;\n",
              "    }\n",
              "</style>\n",
              "<table border=\"1\" class=\"dataframe\">\n",
              "  <thead>\n",
              "    <tr style=\"text-align: right;\">\n",
              "      <th></th>\n",
              "      <th>key</th>\n",
              "      <th>fare_amount</th>\n",
              "      <th>pickup_datetime</th>\n",
              "      <th>pickup_longitude</th>\n",
              "      <th>pickup_latitude</th>\n",
              "      <th>dropoff_longitude</th>\n",
              "      <th>dropoff_latitude</th>\n",
              "      <th>passenger_count</th>\n",
              "    </tr>\n",
              "  </thead>\n",
              "  <tbody>\n",
              "    <tr>\n",
              "      <th>0</th>\n",
              "      <td>2009-06-15 17:26:21.0000001</td>\n",
              "      <td>4.5</td>\n",
              "      <td>2009-06-15 17:26:21 UTC</td>\n",
              "      <td>-73.844311</td>\n",
              "      <td>40.721319</td>\n",
              "      <td>-73.841610</td>\n",
              "      <td>40.712278</td>\n",
              "      <td>1</td>\n",
              "    </tr>\n",
              "    <tr>\n",
              "      <th>1</th>\n",
              "      <td>2010-01-05 16:52:16.0000002</td>\n",
              "      <td>16.9</td>\n",
              "      <td>2010-01-05 16:52:16 UTC</td>\n",
              "      <td>-74.016048</td>\n",
              "      <td>40.711303</td>\n",
              "      <td>-73.979268</td>\n",
              "      <td>40.782004</td>\n",
              "      <td>1</td>\n",
              "    </tr>\n",
              "    <tr>\n",
              "      <th>2</th>\n",
              "      <td>2011-08-18 00:35:00.00000049</td>\n",
              "      <td>5.7</td>\n",
              "      <td>2011-08-18 00:35:00 UTC</td>\n",
              "      <td>-73.982738</td>\n",
              "      <td>40.761270</td>\n",
              "      <td>-73.991242</td>\n",
              "      <td>40.750562</td>\n",
              "      <td>2</td>\n",
              "    </tr>\n",
              "    <tr>\n",
              "      <th>3</th>\n",
              "      <td>2012-04-21 04:30:42.0000001</td>\n",
              "      <td>7.7</td>\n",
              "      <td>2012-04-21 04:30:42 UTC</td>\n",
              "      <td>-73.987130</td>\n",
              "      <td>40.733143</td>\n",
              "      <td>-73.991567</td>\n",
              "      <td>40.758092</td>\n",
              "      <td>1</td>\n",
              "    </tr>\n",
              "    <tr>\n",
              "      <th>4</th>\n",
              "      <td>2010-03-09 07:51:00.000000135</td>\n",
              "      <td>5.3</td>\n",
              "      <td>2010-03-09 07:51:00 UTC</td>\n",
              "      <td>-73.968095</td>\n",
              "      <td>40.768008</td>\n",
              "      <td>-73.956655</td>\n",
              "      <td>40.783762</td>\n",
              "      <td>1</td>\n",
              "    </tr>\n",
              "    <tr>\n",
              "      <th>...</th>\n",
              "      <td>...</td>\n",
              "      <td>...</td>\n",
              "      <td>...</td>\n",
              "      <td>...</td>\n",
              "      <td>...</td>\n",
              "      <td>...</td>\n",
              "      <td>...</td>\n",
              "      <td>...</td>\n",
              "    </tr>\n",
              "    <tr>\n",
              "      <th>933202</th>\n",
              "      <td>2014-09-13 21:44:38.0000001</td>\n",
              "      <td>7.0</td>\n",
              "      <td>2014-09-13 21:44:38 UTC</td>\n",
              "      <td>-73.976676</td>\n",
              "      <td>40.785630</td>\n",
              "      <td>-73.959196</td>\n",
              "      <td>40.775114</td>\n",
              "      <td>1</td>\n",
              "    </tr>\n",
              "    <tr>\n",
              "      <th>933203</th>\n",
              "      <td>2010-09-20 14:50:37.0000002</td>\n",
              "      <td>7.3</td>\n",
              "      <td>2010-09-20 14:50:37 UTC</td>\n",
              "      <td>-73.992103</td>\n",
              "      <td>40.671385</td>\n",
              "      <td>-73.992103</td>\n",
              "      <td>40.671385</td>\n",
              "      <td>2</td>\n",
              "    </tr>\n",
              "    <tr>\n",
              "      <th>933204</th>\n",
              "      <td>2013-04-26 14:03:00.000000118</td>\n",
              "      <td>10.5</td>\n",
              "      <td>2013-04-26 14:03:00 UTC</td>\n",
              "      <td>-73.978423</td>\n",
              "      <td>40.751135</td>\n",
              "      <td>-73.993397</td>\n",
              "      <td>40.762197</td>\n",
              "      <td>5</td>\n",
              "    </tr>\n",
              "    <tr>\n",
              "      <th>933205</th>\n",
              "      <td>2011-07-08 00:29:00.00000099</td>\n",
              "      <td>6.9</td>\n",
              "      <td>2011-07-08 00:29:00 UTC</td>\n",
              "      <td>-73.980317</td>\n",
              "      <td>40.759482</td>\n",
              "      <td>-73.976832</td>\n",
              "      <td>40.743122</td>\n",
              "      <td>1</td>\n",
              "    </tr>\n",
              "    <tr>\n",
              "      <th>933206</th>\n",
              "      <td>2009-12-31 14:30:00.00000021</td>\n",
              "      <td>4.1</td>\n",
              "      <td>2009-12-31 14:30:00 UTC</td>\n",
              "      <td>-74.006635</td>\n",
              "      <td>40.741598</td>\n",
              "      <td>-73.999450</td>\n",
              "      <td>40.745702</td>\n",
              "      <td>1</td>\n",
              "    </tr>\n",
              "  </tbody>\n",
              "</table>\n",
              "<p>933207 rows × 8 columns</p>\n",
              "</div>\n",
              "      <button class=\"colab-df-convert\" onclick=\"convertToInteractive('df-cdfcf1db-0844-45b9-a9eb-9fd72a163e26')\"\n",
              "              title=\"Convert this dataframe to an interactive table.\"\n",
              "              style=\"display:none;\">\n",
              "        \n",
              "  <svg xmlns=\"http://www.w3.org/2000/svg\" height=\"24px\"viewBox=\"0 0 24 24\"\n",
              "       width=\"24px\">\n",
              "    <path d=\"M0 0h24v24H0V0z\" fill=\"none\"/>\n",
              "    <path d=\"M18.56 5.44l.94 2.06.94-2.06 2.06-.94-2.06-.94-.94-2.06-.94 2.06-2.06.94zm-11 1L8.5 8.5l.94-2.06 2.06-.94-2.06-.94L8.5 2.5l-.94 2.06-2.06.94zm10 10l.94 2.06.94-2.06 2.06-.94-2.06-.94-.94-2.06-.94 2.06-2.06.94z\"/><path d=\"M17.41 7.96l-1.37-1.37c-.4-.4-.92-.59-1.43-.59-.52 0-1.04.2-1.43.59L10.3 9.45l-7.72 7.72c-.78.78-.78 2.05 0 2.83L4 21.41c.39.39.9.59 1.41.59.51 0 1.02-.2 1.41-.59l7.78-7.78 2.81-2.81c.8-.78.8-2.07 0-2.86zM5.41 20L4 18.59l7.72-7.72 1.47 1.35L5.41 20z\"/>\n",
              "  </svg>\n",
              "      </button>\n",
              "      \n",
              "  <style>\n",
              "    .colab-df-container {\n",
              "      display:flex;\n",
              "      flex-wrap:wrap;\n",
              "      gap: 12px;\n",
              "    }\n",
              "\n",
              "    .colab-df-convert {\n",
              "      background-color: #E8F0FE;\n",
              "      border: none;\n",
              "      border-radius: 50%;\n",
              "      cursor: pointer;\n",
              "      display: none;\n",
              "      fill: #1967D2;\n",
              "      height: 32px;\n",
              "      padding: 0 0 0 0;\n",
              "      width: 32px;\n",
              "    }\n",
              "\n",
              "    .colab-df-convert:hover {\n",
              "      background-color: #E2EBFA;\n",
              "      box-shadow: 0px 1px 2px rgba(60, 64, 67, 0.3), 0px 1px 3px 1px rgba(60, 64, 67, 0.15);\n",
              "      fill: #174EA6;\n",
              "    }\n",
              "\n",
              "    [theme=dark] .colab-df-convert {\n",
              "      background-color: #3B4455;\n",
              "      fill: #D2E3FC;\n",
              "    }\n",
              "\n",
              "    [theme=dark] .colab-df-convert:hover {\n",
              "      background-color: #434B5C;\n",
              "      box-shadow: 0px 1px 3px 1px rgba(0, 0, 0, 0.15);\n",
              "      filter: drop-shadow(0px 1px 2px rgba(0, 0, 0, 0.3));\n",
              "      fill: #FFFFFF;\n",
              "    }\n",
              "  </style>\n",
              "\n",
              "      <script>\n",
              "        const buttonEl =\n",
              "          document.querySelector('#df-cdfcf1db-0844-45b9-a9eb-9fd72a163e26 button.colab-df-convert');\n",
              "        buttonEl.style.display =\n",
              "          google.colab.kernel.accessAllowed ? 'block' : 'none';\n",
              "\n",
              "        async function convertToInteractive(key) {\n",
              "          const element = document.querySelector('#df-cdfcf1db-0844-45b9-a9eb-9fd72a163e26');\n",
              "          const dataTable =\n",
              "            await google.colab.kernel.invokeFunction('convertToInteractive',\n",
              "                                                     [key], {});\n",
              "          if (!dataTable) return;\n",
              "\n",
              "          const docLinkHtml = 'Like what you see? Visit the ' +\n",
              "            '<a target=\"_blank\" href=https://colab.research.google.com/notebooks/data_table.ipynb>data table notebook</a>'\n",
              "            + ' to learn more about interactive tables.';\n",
              "          element.innerHTML = '';\n",
              "          dataTable['output_type'] = 'display_data';\n",
              "          await google.colab.output.renderOutput(dataTable, element);\n",
              "          const docLink = document.createElement('div');\n",
              "          docLink.innerHTML = docLinkHtml;\n",
              "          element.appendChild(docLink);\n",
              "        }\n",
              "      </script>\n",
              "    </div>\n",
              "  </div>\n",
              "  "
            ]
          },
          "metadata": {},
          "execution_count": 60
        }
      ]
    },
    {
      "cell_type": "code",
      "source": [
        "# plotting after removing outliers\n",
        "train.plot(kind=\"scatter\", x=\"pickup_longitude\", y=\"pickup_latitude\", figsize=(10, 7), alpha=0.7)\n",
        "plt.show()"
      ],
      "metadata": {
        "colab": {
          "base_uri": "https://localhost:8080/",
          "height": 443
        },
        "id": "qSndJNatjY27",
        "outputId": "939e61f5-3a29-4419-9090-8b6c329ed62d"
      },
      "execution_count": null,
      "outputs": [
        {
          "output_type": "display_data",
          "data": {
            "text/plain": [
              "<Figure size 720x504 with 1 Axes>"
            ],
            "image/png": "[encoded data removed]"
          },
          "metadata": {
            "needs_background": "light"
          }
        }
      ]
    },
    {
      "cell_type": "code",
      "source": [
        "train.plot(kind=\"scatter\", x=\"dropoff_longitude\", y=\"dropoff_latitude\", figsize=(10, 7), alpha=0.7)\n",
        "plt.show()"
      ],
      "metadata": {
        "colab": {
          "base_uri": "https://localhost:8080/",
          "height": 443
        },
        "id": "SHzJ1nuekfEX",
        "outputId": "4477255d-4c9a-4860-aba0-97cbab5d482b"
      },
      "execution_count": null,
      "outputs": [
        {
          "output_type": "display_data",
          "data": {
            "text/plain": [
              "<Figure size 720x504 with 1 Axes>"
            ],
            "image/png": "[encoded data removed]"
          },
          "metadata": {
            "needs_background": "light"
          }
        }
      ]
    },
    {
      "cell_type": "code",
      "source": [
        "train.plot(kind=\"scatter\", x=\"passenger_count\", y=\"fare_amount\", figsize=(10, 7), alpha=0.7)\n",
        "plt.show()"
      ],
      "metadata": {
        "colab": {
          "base_uri": "https://localhost:8080/",
          "height": 443
        },
        "id": "LNVhY_RIjkrY",
        "outputId": "00102191-48d1-4a2b-f1eb-7089792ffe0c"
      },
      "execution_count": null,
      "outputs": [
        {
          "output_type": "display_data",
          "data": {
            "text/plain": [
              "<Figure size 720x504 with 1 Axes>"
            ],
            "image/png": "[encoded data removed]"
          },
          "metadata": {
            "needs_background": "light"
          }
        }
      ]
    },
    {
      "cell_type": "markdown",
      "metadata": {
        "id": "SsxAk6QT5eKS"
      },
      "source": [
        "**Next let us explore the pickup latitude and longitudes**"
      ]
    },
    {
      "cell_type": "markdown",
      "metadata": {
        "id": "NQd_MWpZ91af"
      },
      "source": [
        "Check the data types of each column"
      ]
    },
    {
      "cell_type": "code",
      "execution_count": null,
      "metadata": {
        "colab": {
          "base_uri": "https://localhost:8080/"
        },
        "id": "p1kSp6Ab93fK",
        "outputId": "7b178ef1-eea6-4f1e-a6b0-2f9143da3bd5"
      },
      "outputs": [
        {
          "output_type": "execute_result",
          "data": {
            "text/plain": [
              "key                   object\n",
              "fare_amount          float64\n",
              "pickup_datetime       object\n",
              "pickup_longitude     float64\n",
              "pickup_latitude      float64\n",
              "dropoff_longitude    float64\n",
              "dropoff_latitude     float64\n",
              "passenger_count        int64\n",
              "dtype: object"
            ]
          },
          "metadata": {},
          "execution_count": 64
        }
      ],
      "source": [
        "train.dtypes"
      ]
    },
    {
      "cell_type": "markdown",
      "metadata": {
        "id": "PY-qECSJ-B3O"
      },
      "source": [
        "key and pickup_datetime seem to be datetime columns which are in object format. Let's convert them to datetime"
      ]
    },
    {
      "cell_type": "code",
      "execution_count": null,
      "metadata": {
        "id": "tiLXtCaY-CzY"
      },
      "outputs": [],
      "source": [
        "train['key'] = pd.to_datetime(train['key'])\n",
        "train['pickup_datetime']  = pd.to_datetime(train['pickup_datetime'])"
      ]
    },
    {
      "cell_type": "code",
      "execution_count": null,
      "metadata": {
        "id": "nOEWOcFs-RXV"
      },
      "outputs": [],
      "source": [
        "#Convert for test data\n",
        "test['key'] = pd.to_datetime(test['key'])\n",
        "test['pickup_datetime']  = pd.to_datetime(test['pickup_datetime'])"
      ]
    },
    {
      "cell_type": "code",
      "execution_count": null,
      "metadata": {
        "colab": {
          "base_uri": "https://localhost:8080/"
        },
        "id": "mQVSh9bU-XwF",
        "outputId": "010ac0ef-2c45-481f-83ad-b34394e1c6a6"
      },
      "outputs": [
        {
          "output_type": "execute_result",
          "data": {
            "text/plain": [
              "key                       datetime64[ns]\n",
              "fare_amount                      float64\n",
              "pickup_datetime      datetime64[ns, UTC]\n",
              "pickup_longitude                 float64\n",
              "pickup_latitude                  float64\n",
              "dropoff_longitude                float64\n",
              "dropoff_latitude                 float64\n",
              "passenger_count                    int64\n",
              "dtype: object"
            ]
          },
          "metadata": {},
          "execution_count": 67
        }
      ],
      "source": [
        "#check the dtypes after conversion\n",
        "train.dtypes"
      ]
    },
    {
      "cell_type": "code",
      "execution_count": null,
      "metadata": {
        "colab": {
          "base_uri": "https://localhost:8080/"
        },
        "id": "DqaAlCqI-cBD",
        "outputId": "4465fcea-c4cb-452e-8dc4-56f77d7fc38b"
      },
      "outputs": [
        {
          "output_type": "execute_result",
          "data": {
            "text/plain": [
              "key                       datetime64[ns]\n",
              "pickup_datetime      datetime64[ns, UTC]\n",
              "pickup_longitude                 float64\n",
              "pickup_latitude                  float64\n",
              "dropoff_longitude                float64\n",
              "dropoff_latitude                 float64\n",
              "passenger_count                    int64\n",
              "dtype: object"
            ]
          },
          "metadata": {},
          "execution_count": 68
        }
      ],
      "source": [
        "test.dtypes"
      ]
    },
    {
      "cell_type": "markdown",
      "metadata": {
        "id": "vXrSWtM9RRTA"
      },
      "source": [
        "\n",
        "First, let's split the datetime field 'pickup_datetime' to the following - \n",
        "* year\n",
        "* month\n",
        "* date\n",
        "* hour\n",
        "* day of week\n",
        "\n",
        "Using these we shall calculate the day of the week and come to our conclusions about how pickup_location affects the fare.\n",
        "Also, create a new field 'distance' to fetch the distance between the pickup and the drop."
      ]
    },
    {
      "cell_type": "markdown",
      "metadata": {
        "id": "69oPjV8hRhCc"
      },
      "source": [
        "We can calulate the distance in a sphere when latitudes and longitudes are given by [Haversine formula](https://en.wikipedia.org/wiki/Haversine_formula)\n",
        "\n",
        "**haversine(θ) = sin²(θ/2)**\n",
        "\n",
        "Eventually, the formula boils down to the following where φ is latitude, λ is longitude, R is earth’s radius (mean radius = 6,371km) to include latitude and longitude coordinates (A and B in this case).\n",
        "\n",
        "**a = sin²((φB - φA)/2) + cos φA . cos φB . sin²((λB - λA)/2)**\n",
        "\n",
        "**c = 2 * atan2( √a, √(1−a) )**\n",
        "\n",
        "**d = R ⋅ c**\n",
        "\n",
        "**d = Haversine distance**\n",
        "\n",
        "*Refer [this](https://community.esri.com/groups/coordinate-reference-systems/blog/2017/10/05/haversine-formula) page for more info and examples on Haversine formula*\n"
      ]
    },
    {
      "cell_type": "code",
      "execution_count": null,
      "metadata": {
        "id": "kdD-M1pkRSyn"
      },
      "outputs": [],
      "source": [
        "def haversine_distance(lat1, long1, lat2, long2):\n",
        "    data = [train, test]\n",
        "    for i in data:\n",
        "        R = 6371  #radius of earth in kilometers\n",
        "        phi1 = np.radians(i[lat1])\n",
        "        phi2 = np.radians(i[lat2])\n",
        "    \n",
        "        delta_phi = np.radians(i[lat2]-i[lat1])\n",
        "        delta_lambda = np.radians(i[long2]-i[long1])\n",
        "    \n",
        "        #a = sin²((φB - φA)/2) + cos φA . cos φB . sin²((λB - λA)/2)\n",
        "        a = np.sin(delta_phi / 2.0) ** 2 + np.cos(phi1) * np.cos(phi2) * np.sin(delta_lambda / 2.0) ** 2\n",
        "    \n",
        "        #c = 2 * atan2( √a, √(1−a) )\n",
        "        c = 2 * np.arctan2(np.sqrt(a), np.sqrt(1-a))\n",
        "    \n",
        "        #d = R*c\n",
        "        d = (R * c) #in kilometers\n",
        "        i['H_Distance'] = d\n",
        "    return d"
      ]
    },
    {
      "cell_type": "code",
      "execution_count": null,
      "metadata": {
        "colab": {
          "base_uri": "https://localhost:8080/"
        },
        "id": "7jU7kBbbR2Df",
        "outputId": "e0c7faaf-af98-41be-8be9-2999ffc94d36"
      },
      "outputs": [
        {
          "output_type": "execute_result",
          "data": {
            "text/plain": [
              "0       2.323260\n",
              "1       2.425353\n",
              "2       0.618628\n",
              "3       1.961033\n",
              "4       5.387301\n",
              "          ...   \n",
              "9732    2.461474\n",
              "9733    1.488777\n",
              "9734    1.609619\n",
              "9735    1.666308\n",
              "9736    2.396137\n",
              "Length: 8665, dtype: float64"
            ]
          },
          "metadata": {},
          "execution_count": 70
        }
      ],
      "source": [
        "haversine_distance('pickup_latitude', 'pickup_longitude', 'dropoff_latitude', 'dropoff_longitude')"
      ]
    },
    {
      "cell_type": "markdown",
      "metadata": {
        "id": "jR75ePDO1Mo1"
      },
      "source": [
        "Now that we have calculated the distance, we shall create columns for the following -\n",
        "\n",
        "\n",
        "*   year\n",
        "*   month\n",
        "*   date\n",
        "*   hour\n",
        "*   day of week\n",
        "\n",
        "\n",
        "\n",
        "\n"
      ]
    },
    {
      "cell_type": "code",
      "execution_count": null,
      "metadata": {
        "id": "ypJEZACs09pe"
      },
      "outputs": [],
      "source": [
        "data = [train,test]\n",
        "for i in data:\n",
        "    i['Year'] = i['pickup_datetime'].dt.year\n",
        "    i['Month'] = i['pickup_datetime'].dt.month\n",
        "    i['Date'] = i['pickup_datetime'].dt.day\n",
        "    i['Day of Week'] = i['pickup_datetime'].dt.dayofweek\n",
        "    i['Hour'] = i['pickup_datetime'].dt.hour"
      ]
    },
    {
      "cell_type": "code",
      "execution_count": null,
      "metadata": {
        "colab": {
          "base_uri": "https://localhost:8080/",
          "height": 392
        },
        "id": "aYFLu1Jh1zJV",
        "outputId": "d9ec216a-fcea-4cf6-b443-a0bb2302ef0b"
      },
      "outputs": [
        {
          "output_type": "execute_result",
          "data": {
            "text/plain": [
              "                            key  fare_amount           pickup_datetime  \\\n",
              "0 2009-06-15 17:26:21.000000100          4.5 2009-06-15 17:26:21+00:00   \n",
              "1 2010-01-05 16:52:16.000000200         16.9 2010-01-05 16:52:16+00:00   \n",
              "2 2011-08-18 00:35:00.000000490          5.7 2011-08-18 00:35:00+00:00   \n",
              "3 2012-04-21 04:30:42.000000100          7.7 2012-04-21 04:30:42+00:00   \n",
              "4 2010-03-09 07:51:00.000000135          5.3 2010-03-09 07:51:00+00:00   \n",
              "\n",
              "   pickup_longitude  pickup_latitude  dropoff_longitude  dropoff_latitude  \\\n",
              "0        -73.844311        40.721319         -73.841610         40.712278   \n",
              "1        -74.016048        40.711303         -73.979268         40.782004   \n",
              "2        -73.982738        40.761270         -73.991242         40.750562   \n",
              "3        -73.987130        40.733143         -73.991567         40.758092   \n",
              "4        -73.968095        40.768008         -73.956655         40.783762   \n",
              "\n",
              "   passenger_count  H_Distance  Year  Month  Date  Day of Week  Hour  \n",
              "0                1    1.030764  2009      6    15            0    17  \n",
              "1                1    8.450134  2010      1     5            1    16  \n",
              "2                2    1.389525  2011      8    18            3     0  \n",
              "3                1    2.799270  2012      4    21            5     4  \n",
              "4                1    1.999157  2010      3     9            1     7  "
            ],
            "text/html": [
              "\n",
              "  <div id=\"df-52c01d64-b63e-4bed-a478-a98b3770b21e\">\n",
              "    <div class=\"colab-df-container\">\n",
              "      <div>\n",
              "<style scoped>\n",
              "    .dataframe tbody tr th:only-of-type {\n",
              "        vertical-align: middle;\n",
              "    }\n",
              "\n",
              "    .dataframe tbody tr th {\n",
              "        vertical-align: top;\n",
              "    }\n",
              "\n",
              "    .dataframe thead th {\n",
              "        text-align: right;\n",
              "    }\n",
              "</style>\n",
              "<table border=\"1\" class=\"dataframe\">\n",
              "  <thead>\n",
              "    <tr style=\"text-align: right;\">\n",
              "      <th></th>\n",
              "      <th>key</th>\n",
              "      <th>fare_amount</th>\n",
              "      <th>pickup_datetime</th>\n",
              "      <th>pickup_longitude</th>\n",
              "      <th>pickup_latitude</th>\n",
              "      <th>dropoff_longitude</th>\n",
              "      <th>dropoff_latitude</th>\n",
              "      <th>passenger_count</th>\n",
              "      <th>H_Distance</th>\n",
              "      <th>Year</th>\n",
              "      <th>Month</th>\n",
              "      <th>Date</th>\n",
              "      <th>Day of Week</th>\n",
              "      <th>Hour</th>\n",
              "    </tr>\n",
              "  </thead>\n",
              "  <tbody>\n",
              "    <tr>\n",
              "      <th>0</th>\n",
              "      <td>2009-06-15 17:26:21.000000100</td>\n",
              "      <td>4.5</td>\n",
              "      <td>2009-06-15 17:26:21+00:00</td>\n",
              "      <td>-73.844311</td>\n",
              "      <td>40.721319</td>\n",
              "      <td>-73.841610</td>\n",
              "      <td>40.712278</td>\n",
              "      <td>1</td>\n",
              "      <td>1.030764</td>\n",
              "      <td>2009</td>\n",
              "      <td>6</td>\n",
              "      <td>15</td>\n",
              "      <td>0</td>\n",
              "      <td>17</td>\n",
              "    </tr>\n",
              "    <tr>\n",
              "      <th>1</th>\n",
              "      <td>2010-01-05 16:52:16.000000200</td>\n",
              "      <td>16.9</td>\n",
              "      <td>2010-01-05 16:52:16+00:00</td>\n",
              "      <td>-74.016048</td>\n",
              "      <td>40.711303</td>\n",
              "      <td>-73.979268</td>\n",
              "      <td>40.782004</td>\n",
              "      <td>1</td>\n",
              "      <td>8.450134</td>\n",
              "      <td>2010</td>\n",
              "      <td>1</td>\n",
              "      <td>5</td>\n",
              "      <td>1</td>\n",
              "      <td>16</td>\n",
              "    </tr>\n",
              "    <tr>\n",
              "      <th>2</th>\n",
              "      <td>2011-08-18 00:35:00.000000490</td>\n",
              "      <td>5.7</td>\n",
              "      <td>2011-08-18 00:35:00+00:00</td>\n",
              "      <td>-73.982738</td>\n",
              "      <td>40.761270</td>\n",
              "      <td>-73.991242</td>\n",
              "      <td>40.750562</td>\n",
              "      <td>2</td>\n",
              "      <td>1.389525</td>\n",
              "      <td>2011</td>\n",
              "      <td>8</td>\n",
              "      <td>18</td>\n",
              "      <td>3</td>\n",
              "      <td>0</td>\n",
              "    </tr>\n",
              "    <tr>\n",
              "      <th>3</th>\n",
              "      <td>2012-04-21 04:30:42.000000100</td>\n",
              "      <td>7.7</td>\n",
              "      <td>2012-04-21 04:30:42+00:00</td>\n",
              "      <td>-73.987130</td>\n",
              "      <td>40.733143</td>\n",
              "      <td>-73.991567</td>\n",
              "      <td>40.758092</td>\n",
              "      <td>1</td>\n",
              "      <td>2.799270</td>\n",
              "      <td>2012</td>\n",
              "      <td>4</td>\n",
              "      <td>21</td>\n",
              "      <td>5</td>\n",
              "      <td>4</td>\n",
              "    </tr>\n",
              "    <tr>\n",
              "      <th>4</th>\n",
              "      <td>2010-03-09 07:51:00.000000135</td>\n",
              "      <td>5.3</td>\n",
              "      <td>2010-03-09 07:51:00+00:00</td>\n",
              "      <td>-73.968095</td>\n",
              "      <td>40.768008</td>\n",
              "      <td>-73.956655</td>\n",
              "      <td>40.783762</td>\n",
              "      <td>1</td>\n",
              "      <td>1.999157</td>\n",
              "      <td>2010</td>\n",
              "      <td>3</td>\n",
              "      <td>9</td>\n",
              "      <td>1</td>\n",
              "      <td>7</td>\n",
              "    </tr>\n",
              "  </tbody>\n",
              "</table>\n",
              "</div>\n",
              "      <button class=\"colab-df-convert\" onclick=\"convertToInteractive('df-52c01d64-b63e-4bed-a478-a98b3770b21e')\"\n",
              "              title=\"Convert this dataframe to an interactive table.\"\n",
              "              style=\"display:none;\">\n",
              "        \n",
              "  <svg xmlns=\"http://www.w3.org/2000/svg\" height=\"24px\"viewBox=\"0 0 24 24\"\n",
              "       width=\"24px\">\n",
              "    <path d=\"M0 0h24v24H0V0z\" fill=\"none\"/>\n",
              "    <path d=\"M18.56 5.44l.94 2.06.94-2.06 2.06-.94-2.06-.94-.94-2.06-.94 2.06-2.06.94zm-11 1L8.5 8.5l.94-2.06 2.06-.94-2.06-.94L8.5 2.5l-.94 2.06-2.06.94zm10 10l.94 2.06.94-2.06 2.06-.94-2.06-.94-.94-2.06-.94 2.06-2.06.94z\"/><path d=\"M17.41 7.96l-1.37-1.37c-.4-.4-.92-.59-1.43-.59-.52 0-1.04.2-1.43.59L10.3 9.45l-7.72 7.72c-.78.78-.78 2.05 0 2.83L4 21.41c.39.39.9.59 1.41.59.51 0 1.02-.2 1.41-.59l7.78-7.78 2.81-2.81c.8-.78.8-2.07 0-2.86zM5.41 20L4 18.59l7.72-7.72 1.47 1.35L5.41 20z\"/>\n",
              "  </svg>\n",
              "      </button>\n",
              "      \n",
              "  <style>\n",
              "    .colab-df-container {\n",
              "      display:flex;\n",
              "      flex-wrap:wrap;\n",
              "      gap: 12px;\n",
              "    }\n",
              "\n",
              "    .colab-df-convert {\n",
              "      background-color: #E8F0FE;\n",
              "      border: none;\n",
              "      border-radius: 50%;\n",
              "      cursor: pointer;\n",
              "      display: none;\n",
              "      fill: #1967D2;\n",
              "      height: 32px;\n",
              "      padding: 0 0 0 0;\n",
              "      width: 32px;\n",
              "    }\n",
              "\n",
              "    .colab-df-convert:hover {\n",
              "      background-color: #E2EBFA;\n",
              "      box-shadow: 0px 1px 2px rgba(60, 64, 67, 0.3), 0px 1px 3px 1px rgba(60, 64, 67, 0.15);\n",
              "      fill: #174EA6;\n",
              "    }\n",
              "\n",
              "    [theme=dark] .colab-df-convert {\n",
              "      background-color: #3B4455;\n",
              "      fill: #D2E3FC;\n",
              "    }\n",
              "\n",
              "    [theme=dark] .colab-df-convert:hover {\n",
              "      background-color: #434B5C;\n",
              "      box-shadow: 0px 1px 3px 1px rgba(0, 0, 0, 0.15);\n",
              "      filter: drop-shadow(0px 1px 2px rgba(0, 0, 0, 0.3));\n",
              "      fill: #FFFFFF;\n",
              "    }\n",
              "  </style>\n",
              "\n",
              "      <script>\n",
              "        const buttonEl =\n",
              "          document.querySelector('#df-52c01d64-b63e-4bed-a478-a98b3770b21e button.colab-df-convert');\n",
              "        buttonEl.style.display =\n",
              "          google.colab.kernel.accessAllowed ? 'block' : 'none';\n",
              "\n",
              "        async function convertToInteractive(key) {\n",
              "          const element = document.querySelector('#df-52c01d64-b63e-4bed-a478-a98b3770b21e');\n",
              "          const dataTable =\n",
              "            await google.colab.kernel.invokeFunction('convertToInteractive',\n",
              "                                                     [key], {});\n",
              "          if (!dataTable) return;\n",
              "\n",
              "          const docLinkHtml = 'Like what you see? Visit the ' +\n",
              "            '<a target=\"_blank\" href=https://colab.research.google.com/notebooks/data_table.ipynb>data table notebook</a>'\n",
              "            + ' to learn more about interactive tables.';\n",
              "          element.innerHTML = '';\n",
              "          dataTable['output_type'] = 'display_data';\n",
              "          await google.colab.output.renderOutput(dataTable, element);\n",
              "          const docLink = document.createElement('div');\n",
              "          docLink.innerHTML = docLinkHtml;\n",
              "          element.appendChild(docLink);\n",
              "        }\n",
              "      </script>\n",
              "    </div>\n",
              "  </div>\n",
              "  "
            ]
          },
          "metadata": {},
          "execution_count": 72
        }
      ],
      "source": [
        "train.head()"
      ]
    },
    {
      "cell_type": "code",
      "source": [
        "H_Distance_mean = train[\"H_Distance\"].mean(),\n",
        "H_Distance_std =  train[\"H_Distance\"].std()\n",
        "# identify outliers\n",
        "H_Distance_cut_off = H_Distance_std * 3\n",
        "lower, upper = H_Distance_mean - H_Distance_cut_off, H_Distance_mean + H_Distance_cut_off\n",
        "# identify outliers\n",
        "outliers = [x for x in train[\"H_Distance\"] if x < lower or x > upper]\n",
        "print('Identified outliers: %d' % len(outliers))\n",
        "# remove outliers\n",
        "train = train[(train[\"H_Distance\"] >= lower[0]) & (train[\"H_Distance\"] <= upper[0])]"
      ],
      "metadata": {
        "colab": {
          "base_uri": "https://localhost:8080/"
        },
        "id": "9dVm_cYlcwLw",
        "outputId": "19d415fa-9283-40b2-d821-a227922a7df3"
      },
      "execution_count": null,
      "outputs": [
        {
          "output_type": "stream",
          "name": "stdout",
          "text": [
            "Identified outliers: 3998\n"
          ]
        }
      ]
    },
    {
      "cell_type": "markdown",
      "metadata": {
        "id": "10HCMd7o2R6J"
      },
      "source": [
        "**1. Does the number of passengers affect the fare?**"
      ]
    },
    {
      "cell_type": "code",
      "source": [
        "plt.figure(figsize=(10,7))\n",
        "sns.histplot(train, x=\"passenger_count\", y=\"fare_amount\",bins=150, discrete=(True, False),kde = True)"
      ],
      "metadata": {
        "colab": {
          "base_uri": "https://localhost:8080/",
          "height": 460
        },
        "id": "w0OTqGpUvSXH",
        "outputId": "6f917fd5-8987-4e5e-bc1d-e8d77e18beea"
      },
      "execution_count": null,
      "outputs": [
        {
          "output_type": "execute_result",
          "data": {
            "text/plain": [
              "<matplotlib.axes._subplots.AxesSubplot at 0x7f02be066c90>"
            ]
          },
          "metadata": {},
          "execution_count": 75
        },
        {
          "output_type": "display_data",
          "data": {
            "text/plain": [
              "<Figure size 720x504 with 1 Axes>"
            ],
            "image/png": "[encoded data removed]"
          },
          "metadata": {
            "needs_background": "light"
          }
        }
      ]
    },
    {
      "cell_type": "markdown",
      "source": [
        "From the graph above, we can see that low passenger count has low fare amount proportionately."
      ],
      "metadata": {
        "id": "MqXae-E2K6PA"
      }
    },
    {
      "cell_type": "markdown",
      "metadata": {
        "id": "beeVcyOw2ooS"
      },
      "source": [
        "**2. Does the date and time of pickup affect the fare?**"
      ]
    },
    {
      "cell_type": "code",
      "source": [
        "plt.figure(figsize=(10,7))\n",
        "sns.histplot(train, x=\"Date\", y=\"fare_amount\",bins=150, discrete=(True, False))"
      ],
      "metadata": {
        "colab": {
          "base_uri": "https://localhost:8080/",
          "height": 459
        },
        "id": "3lIx5pS2ZR0-",
        "outputId": "05cf87aa-4f76-46b8-ef9c-48820a66609b"
      },
      "execution_count": null,
      "outputs": [
        {
          "output_type": "execute_result",
          "data": {
            "text/plain": [
              "<matplotlib.axes._subplots.AxesSubplot at 0x7f02b39320d0>"
            ]
          },
          "metadata": {},
          "execution_count": 77
        },
        {
          "output_type": "display_data",
          "data": {
            "text/plain": [
              "<Figure size 720x504 with 1 Axes>"
            ],
            "image/png": "[encoded data removed]"
          },
          "metadata": {
            "needs_background": "light"
          }
        }
      ]
    },
    {
      "cell_type": "markdown",
      "source": [
        "From the above graph, we can infer that the fare amount does not depend on the date."
      ],
      "metadata": {
        "id": "nVDbZAibPzL7"
      }
    },
    {
      "cell_type": "code",
      "source": [
        "plt.figure(figsize=(10,7))\n",
        "sns.histplot(train, x=\"Hour\", y=\"fare_amount\",bins=150, discrete=(True, False))"
      ],
      "metadata": {
        "colab": {
          "base_uri": "https://localhost:8080/",
          "height": 459
        },
        "id": "ely94lc-Z96I",
        "outputId": "e5acfc3d-ec83-44ec-c313-36f1723416d4"
      },
      "execution_count": null,
      "outputs": [
        {
          "output_type": "execute_result",
          "data": {
            "text/plain": [
              "<matplotlib.axes._subplots.AxesSubplot at 0x7f02b38daad0>"
            ]
          },
          "metadata": {},
          "execution_count": 78
        },
        {
          "output_type": "display_data",
          "data": {
            "text/plain": [
              "<Figure size 720x504 with 1 Axes>"
            ],
            "image/png": "[encoded data removed]"
          },
          "metadata": {
            "needs_background": "light"
          }
        }
      ]
    },
    {
      "cell_type": "markdown",
      "source": [
        "From the above graph we can infer that people do not travel during early morning and travel more during evening and night time."
      ],
      "metadata": {
        "id": "SQs33sjoP9R5"
      }
    },
    {
      "cell_type": "markdown",
      "metadata": {
        "id": "0Isxq9cF3ujw"
      },
      "source": [
        "**3. Does the day of the week affect the fare?**"
      ]
    },
    {
      "cell_type": "code",
      "source": [
        "plt.figure(figsize=(10,7))\n",
        "sns.histplot(train, x=\"Day of Week\", y=\"fare_amount\",bins=150, discrete=(True, False))"
      ],
      "metadata": {
        "id": "lJnTm3ervT0j",
        "colab": {
          "base_uri": "https://localhost:8080/",
          "height": 459
        },
        "outputId": "362794cf-b351-478d-a649-3f91a4a1ab1a"
      },
      "execution_count": null,
      "outputs": [
        {
          "output_type": "execute_result",
          "data": {
            "text/plain": [
              "<matplotlib.axes._subplots.AxesSubplot at 0x7f02b38366d0>"
            ]
          },
          "metadata": {},
          "execution_count": 79
        },
        {
          "output_type": "display_data",
          "data": {
            "text/plain": [
              "<Figure size 720x504 with 1 Axes>"
            ],
            "image/png": "[encoded data removed]"
          },
          "metadata": {
            "needs_background": "light"
          }
        }
      ]
    },
    {
      "cell_type": "markdown",
      "source": [
        "From the above graph we can infer that there is very less or negligible change in fare during weekends."
      ],
      "metadata": {
        "id": "X_pTIAAhQZq-"
      }
    },
    {
      "cell_type": "markdown",
      "metadata": {
        "id": "yClerbVz4nxJ"
      },
      "source": [
        "**4. Does the distance affect the fare?**"
      ]
    },
    {
      "cell_type": "code",
      "source": [
        "plt.figure(figsize=(10,7))\n",
        "sns.histplot(train, x=\"H_Distance\", y=\"fare_amount\",bins=200,discrete=(True, False))"
      ],
      "metadata": {
        "id": "IImLjsCVvUaE",
        "colab": {
          "base_uri": "https://localhost:8080/",
          "height": 460
        },
        "outputId": "435e6a87-d295-47f2-f09a-2955272438f8"
      },
      "execution_count": null,
      "outputs": [
        {
          "output_type": "execute_result",
          "data": {
            "text/plain": [
              "<matplotlib.axes._subplots.AxesSubplot at 0x7f02b3836710>"
            ]
          },
          "metadata": {},
          "execution_count": 80
        },
        {
          "output_type": "display_data",
          "data": {
            "text/plain": [
              "<Figure size 720x504 with 1 Axes>"
            ],
            "image/png": "[encoded data removed]"
          },
          "metadata": {
            "needs_background": "light"
          }
        }
      ]
    },
    {
      "cell_type": "code",
      "source": [
        "train.plot(kind=\"scatter\", x=\"H_Distance\", y=\"fare_amount\", figsize=(10, 7), alpha=0.1)\n",
        "plt.show()"
      ],
      "metadata": {
        "colab": {
          "base_uri": "https://localhost:8080/",
          "height": 443
        },
        "id": "mCOB20RrfCWq",
        "outputId": "7e1cd69a-fd44-4303-9276-7b552fdb8c82"
      },
      "execution_count": null,
      "outputs": [
        {
          "output_type": "display_data",
          "data": {
            "text/plain": [
              "<Figure size 720x504 with 1 Axes>"
            ],
            "image/png": "[encoded data removed]"
          },
          "metadata": {
            "needs_background": "light"
          }
        }
      ]
    },
    {
      "cell_type": "markdown",
      "source": [
        "From the above graphs we can infer that fare amount is directly proprtional to H_distance. If H_distance increases,fare also increases."
      ],
      "metadata": {
        "id": "hupSc0WmQxZ3"
      }
    },
    {
      "cell_type": "markdown",
      "source": [
        "##Data Scaling"
      ],
      "metadata": {
        "id": "4elGf_cMJSNJ"
      }
    },
    {
      "cell_type": "code",
      "source": [
        "#check the target column\n",
        "features = train.drop([\"key\",'fare_amount',\"pickup_datetime\",\"pickup_longitude\",\"pickup_latitude\",\"dropoff_longitude\",\"dropoff_latitude\"],axis=1)   #Feature Matrix\n",
        "target = train['fare_amount']          #Target Variable"
      ],
      "metadata": {
        "id": "h3BiI3peJVkS"
      },
      "execution_count": null,
      "outputs": []
    },
    {
      "cell_type": "code",
      "source": [
        "features.reset_index(drop = True)"
      ],
      "metadata": {
        "colab": {
          "base_uri": "https://localhost:8080/",
          "height": 424
        },
        "id": "jmeGGHeraDMm",
        "outputId": "6533aee6-ac21-4555-d8e9-4e56155e5107"
      },
      "execution_count": null,
      "outputs": [
        {
          "output_type": "execute_result",
          "data": {
            "text/plain": [
              "        passenger_count  H_Distance  Year  Month  Date  Day of Week  Hour\n",
              "0                     1    1.030764  2009      6    15            0    17\n",
              "1                     1    8.450134  2010      1     5            1    16\n",
              "2                     2    1.389525  2011      8    18            3     0\n",
              "3                     1    2.799270  2012      4    21            5     4\n",
              "4                     1    1.999157  2010      3     9            1     7\n",
              "...                 ...         ...   ...    ...   ...          ...   ...\n",
              "929204                1    1.879763  2014      9    13            5    21\n",
              "929205                2    0.000000  2010      9    20            0    14\n",
              "929206                5    1.761741  2013      4    26            4    14\n",
              "929207                1    1.842683  2011      7     8            4     0\n",
              "929208                1    0.758051  2009     12    31            3    14\n",
              "\n",
              "[929209 rows x 7 columns]"
            ],
            "text/html": [
              "\n",
              "  <div id=\"df-148be21d-ae6a-4ffd-8485-0367c7d635f1\">\n",
              "    <div class=\"colab-df-container\">\n",
              "      <div>\n",
              "<style scoped>\n",
              "    .dataframe tbody tr th:only-of-type {\n",
              "        vertical-align: middle;\n",
              "    }\n",
              "\n",
              "    .dataframe tbody tr th {\n",
              "        vertical-align: top;\n",
              "    }\n",
              "\n",
              "    .dataframe thead th {\n",
              "        text-align: right;\n",
              "    }\n",
              "</style>\n",
              "<table border=\"1\" class=\"dataframe\">\n",
              "  <thead>\n",
              "    <tr style=\"text-align: right;\">\n",
              "      <th></th>\n",
              "      <th>passenger_count</th>\n",
              "      <th>H_Distance</th>\n",
              "      <th>Year</th>\n",
              "      <th>Month</th>\n",
              "      <th>Date</th>\n",
              "      <th>Day of Week</th>\n",
              "      <th>Hour</th>\n",
              "    </tr>\n",
              "  </thead>\n",
              "  <tbody>\n",
              "    <tr>\n",
              "      <th>0</th>\n",
              "      <td>1</td>\n",
              "      <td>1.030764</td>\n",
              "      <td>2009</td>\n",
              "      <td>6</td>\n",
              "      <td>15</td>\n",
              "      <td>0</td>\n",
              "      <td>17</td>\n",
              "    </tr>\n",
              "    <tr>\n",
              "      <th>1</th>\n",
              "      <td>1</td>\n",
              "      <td>8.450134</td>\n",
              "      <td>2010</td>\n",
              "      <td>1</td>\n",
              "      <td>5</td>\n",
              "      <td>1</td>\n",
              "      <td>16</td>\n",
              "    </tr>\n",
              "    <tr>\n",
              "      <th>2</th>\n",
              "      <td>2</td>\n",
              "      <td>1.389525</td>\n",
              "      <td>2011</td>\n",
              "      <td>8</td>\n",
              "      <td>18</td>\n",
              "      <td>3</td>\n",
              "      <td>0</td>\n",
              "    </tr>\n",
              "    <tr>\n",
              "      <th>3</th>\n",
              "      <td>1</td>\n",
              "      <td>2.799270</td>\n",
              "      <td>2012</td>\n",
              "      <td>4</td>\n",
              "      <td>21</td>\n",
              "      <td>5</td>\n",
              "      <td>4</td>\n",
              "    </tr>\n",
              "    <tr>\n",
              "      <th>4</th>\n",
              "      <td>1</td>\n",
              "      <td>1.999157</td>\n",
              "      <td>2010</td>\n",
              "      <td>3</td>\n",
              "      <td>9</td>\n",
              "      <td>1</td>\n",
              "      <td>7</td>\n",
              "    </tr>\n",
              "    <tr>\n",
              "      <th>...</th>\n",
              "      <td>...</td>\n",
              "      <td>...</td>\n",
              "      <td>...</td>\n",
              "      <td>...</td>\n",
              "      <td>...</td>\n",
              "      <td>...</td>\n",
              "      <td>...</td>\n",
              "    </tr>\n",
              "    <tr>\n",
              "      <th>929204</th>\n",
              "      <td>1</td>\n",
              "      <td>1.879763</td>\n",
              "      <td>2014</td>\n",
              "      <td>9</td>\n",
              "      <td>13</td>\n",
              "      <td>5</td>\n",
              "      <td>21</td>\n",
              "    </tr>\n",
              "    <tr>\n",
              "      <th>929205</th>\n",
              "      <td>2</td>\n",
              "      <td>0.000000</td>\n",
              "      <td>2010</td>\n",
              "      <td>9</td>\n",
              "      <td>20</td>\n",
              "      <td>0</td>\n",
              "      <td>14</td>\n",
              "    </tr>\n",
              "    <tr>\n",
              "      <th>929206</th>\n",
              "      <td>5</td>\n",
              "      <td>1.761741</td>\n",
              "      <td>2013</td>\n",
              "      <td>4</td>\n",
              "      <td>26</td>\n",
              "      <td>4</td>\n",
              "      <td>14</td>\n",
              "    </tr>\n",
              "    <tr>\n",
              "      <th>929207</th>\n",
              "      <td>1</td>\n",
              "      <td>1.842683</td>\n",
              "      <td>2011</td>\n",
              "      <td>7</td>\n",
              "      <td>8</td>\n",
              "      <td>4</td>\n",
              "      <td>0</td>\n",
              "    </tr>\n",
              "    <tr>\n",
              "      <th>929208</th>\n",
              "      <td>1</td>\n",
              "      <td>0.758051</td>\n",
              "      <td>2009</td>\n",
              "      <td>12</td>\n",
              "      <td>31</td>\n",
              "      <td>3</td>\n",
              "      <td>14</td>\n",
              "    </tr>\n",
              "  </tbody>\n",
              "</table>\n",
              "<p>929209 rows × 7 columns</p>\n",
              "</div>\n",
              "      <button class=\"colab-df-convert\" onclick=\"convertToInteractive('df-148be21d-ae6a-4ffd-8485-0367c7d635f1')\"\n",
              "              title=\"Convert this dataframe to an interactive table.\"\n",
              "              style=\"display:none;\">\n",
              "        \n",
              "  <svg xmlns=\"http://www.w3.org/2000/svg\" height=\"24px\"viewBox=\"0 0 24 24\"\n",
              "       width=\"24px\">\n",
              "    <path d=\"M0 0h24v24H0V0z\" fill=\"none\"/>\n",
              "    <path d=\"M18.56 5.44l.94 2.06.94-2.06 2.06-.94-2.06-.94-.94-2.06-.94 2.06-2.06.94zm-11 1L8.5 8.5l.94-2.06 2.06-.94-2.06-.94L8.5 2.5l-.94 2.06-2.06.94zm10 10l.94 2.06.94-2.06 2.06-.94-2.06-.94-.94-2.06-.94 2.06-2.06.94z\"/><path d=\"M17.41 7.96l-1.37-1.37c-.4-.4-.92-.59-1.43-.59-.52 0-1.04.2-1.43.59L10.3 9.45l-7.72 7.72c-.78.78-.78 2.05 0 2.83L4 21.41c.39.39.9.59 1.41.59.51 0 1.02-.2 1.41-.59l7.78-7.78 2.81-2.81c.8-.78.8-2.07 0-2.86zM5.41 20L4 18.59l7.72-7.72 1.47 1.35L5.41 20z\"/>\n",
              "  </svg>\n",
              "      </button>\n",
              "      \n",
              "  <style>\n",
              "    .colab-df-container {\n",
              "      display:flex;\n",
              "      flex-wrap:wrap;\n",
              "      gap: 12px;\n",
              "    }\n",
              "\n",
              "    .colab-df-convert {\n",
              "      background-color: #E8F0FE;\n",
              "      border: none;\n",
              "      border-radius: 50%;\n",
              "      cursor: pointer;\n",
              "      display: none;\n",
              "      fill: #1967D2;\n",
              "      height: 32px;\n",
              "      padding: 0 0 0 0;\n",
              "      width: 32px;\n",
              "    }\n",
              "\n",
              "    .colab-df-convert:hover {\n",
              "      background-color: #E2EBFA;\n",
              "      box-shadow: 0px 1px 2px rgba(60, 64, 67, 0.3), 0px 1px 3px 1px rgba(60, 64, 67, 0.15);\n",
              "      fill: #174EA6;\n",
              "    }\n",
              "\n",
              "    [theme=dark] .colab-df-convert {\n",
              "      background-color: #3B4455;\n",
              "      fill: #D2E3FC;\n",
              "    }\n",
              "\n",
              "    [theme=dark] .colab-df-convert:hover {\n",
              "      background-color: #434B5C;\n",
              "      box-shadow: 0px 1px 3px 1px rgba(0, 0, 0, 0.15);\n",
              "      filter: drop-shadow(0px 1px 2px rgba(0, 0, 0, 0.3));\n",
              "      fill: #FFFFFF;\n",
              "    }\n",
              "  </style>\n",
              "\n",
              "      <script>\n",
              "        const buttonEl =\n",
              "          document.querySelector('#df-148be21d-ae6a-4ffd-8485-0367c7d635f1 button.colab-df-convert');\n",
              "        buttonEl.style.display =\n",
              "          google.colab.kernel.accessAllowed ? 'block' : 'none';\n",
              "\n",
              "        async function convertToInteractive(key) {\n",
              "          const element = document.querySelector('#df-148be21d-ae6a-4ffd-8485-0367c7d635f1');\n",
              "          const dataTable =\n",
              "            await google.colab.kernel.invokeFunction('convertToInteractive',\n",
              "                                                     [key], {});\n",
              "          if (!dataTable) return;\n",
              "\n",
              "          const docLinkHtml = 'Like what you see? Visit the ' +\n",
              "            '<a target=\"_blank\" href=https://colab.research.google.com/notebooks/data_table.ipynb>data table notebook</a>'\n",
              "            + ' to learn more about interactive tables.';\n",
              "          element.innerHTML = '';\n",
              "          dataTable['output_type'] = 'display_data';\n",
              "          await google.colab.output.renderOutput(dataTable, element);\n",
              "          const docLink = document.createElement('div');\n",
              "          docLink.innerHTML = docLinkHtml;\n",
              "          element.appendChild(docLink);\n",
              "        }\n",
              "      </script>\n",
              "    </div>\n",
              "  </div>\n",
              "  "
            ]
          },
          "metadata": {},
          "execution_count": 99
        }
      ]
    },
    {
      "cell_type": "code",
      "source": [
        "from sklearn.model_selection import train_test_split\n",
        "features_train, features_test, target_train, target_test = train_test_split(features, target, test_size=0.2, random_state = 0, shuffle=True)"
      ],
      "metadata": {
        "id": "_CK2dMjs3irJ"
      },
      "execution_count": null,
      "outputs": []
    },
    {
      "cell_type": "code",
      "source": [
        "from sklearn.preprocessing import StandardScaler\n",
        "scale_features_std = StandardScaler()\n",
        "features = scale_features_std.fit_transform(features)\n"
      ],
      "metadata": {
        "id": "xG53JAOj3Z6B"
      },
      "execution_count": null,
      "outputs": []
    },
    {
      "cell_type": "code",
      "source": [
        "print(\"Size of training data :\", features_train.shape)\n",
        "print(\"Size of testing data :\", features_test.shape)"
      ],
      "metadata": {
        "colab": {
          "base_uri": "https://localhost:8080/"
        },
        "id": "MKNVYvfvkn0j",
        "outputId": "aa6500c0-60e4-4e91-e70c-0ba4d872c7cc"
      },
      "execution_count": null,
      "outputs": [
        {
          "output_type": "stream",
          "name": "stdout",
          "text": [
            "Size of training data : (743367, 7)\n",
            "Size of testing data : (185842, 7)\n"
          ]
        }
      ]
    },
    {
      "cell_type": "code",
      "source": [
        "features"
      ],
      "metadata": {
        "colab": {
          "base_uri": "https://localhost:8080/"
        },
        "id": "_AtyBaXF5Bz5",
        "outputId": "b431722b-9ef1-4e0e-9636-bfa6949882bf"
      },
      "execution_count": null,
      "outputs": [
        {
          "output_type": "execute_result",
          "data": {
            "text/plain": [
              "array([[-0.51085214, -0.75381321, -1.45053263, ..., -0.07992294,\n",
              "        -1.56083557,  0.5333403 ],\n",
              "       [-0.51085214,  2.25165847, -0.91343442, ..., -1.23149675,\n",
              "        -1.04747544,  0.38003649],\n",
              "       [ 0.35455744, -0.60848457, -0.3763362 , ...,  0.26554921,\n",
              "        -0.02075519, -2.07282442],\n",
              "       ...,\n",
              "       [ 2.95078617, -0.45770578,  0.69786024, ...,  1.18680827,\n",
              "         0.49260493,  0.07342888],\n",
              "       [-0.51085214, -0.42491729, -0.3763362 , ..., -0.88602461,\n",
              "         0.49260493, -2.07282442],\n",
              "       [-0.51085214, -0.8642848 , -1.45053263, ...,  1.76259518,\n",
              "        -0.02075519,  0.07342888]])"
            ]
          },
          "metadata": {},
          "execution_count": 103
        }
      ]
    },
    {
      "cell_type": "code",
      "source": [
        "column_values = ['passenger_count', 'H_Distance', 'Year','Month', 'Date','Day of Week', 'Hour']\n",
        "df = pd.DataFrame(data = features,\n",
        "                  columns = column_values)\n",
        "df"
      ],
      "metadata": {
        "colab": {
          "base_uri": "https://localhost:8080/",
          "height": 424
        },
        "id": "9MVuc9OHdDbl",
        "outputId": "d397e383-03cc-453b-e74e-8d8c6a344ec0"
      },
      "execution_count": null,
      "outputs": [
        {
          "output_type": "execute_result",
          "data": {
            "text/plain": [
              "        passenger_count  H_Distance      Year     Month      Date  \\\n",
              "0             -0.510852   -0.753813 -1.450533 -0.075697 -0.079923   \n",
              "1             -0.510852    2.251658 -0.913434 -1.529769 -1.231497   \n",
              "2              0.354557   -0.608485 -0.376336  0.505931  0.265549   \n",
              "3             -0.510852   -0.037419  0.160762 -0.657326  0.611021   \n",
              "4             -0.510852   -0.361532 -0.913434 -0.948140 -0.770867   \n",
              "...                 ...         ...       ...       ...       ...   \n",
              "929204        -0.510852   -0.409897  1.234958  0.796746 -0.310238   \n",
              "929205         0.354557   -1.171360 -0.913434  0.796746  0.495864   \n",
              "929206         2.950786   -0.457706  0.697860 -0.657326  1.186808   \n",
              "929207        -0.510852   -0.424917 -0.376336  0.215117 -0.886025   \n",
              "929208        -0.510852   -0.864285 -1.450533  1.669189  1.762595   \n",
              "\n",
              "        Day of Week      Hour  \n",
              "0         -1.560836  0.533340  \n",
              "1         -1.047475  0.380036  \n",
              "2         -0.020755 -2.072824  \n",
              "3          1.005965 -1.459609  \n",
              "4         -1.047475 -0.999698  \n",
              "...             ...       ...  \n",
              "929204     1.005965  1.146556  \n",
              "929205    -1.560836  0.073429  \n",
              "929206     0.492605  0.073429  \n",
              "929207     0.492605 -2.072824  \n",
              "929208    -0.020755  0.073429  \n",
              "\n",
              "[929209 rows x 7 columns]"
            ],
            "text/html": [
              "\n",
              "  <div id=\"df-7aa89abb-df33-4f5d-bc86-cf84a2b50590\">\n",
              "    <div class=\"colab-df-container\">\n",
              "      <div>\n",
              "<style scoped>\n",
              "    .dataframe tbody tr th:only-of-type {\n",
              "        vertical-align: middle;\n",
              "    }\n",
              "\n",
              "    .dataframe tbody tr th {\n",
              "        vertical-align: top;\n",
              "    }\n",
              "\n",
              "    .dataframe thead th {\n",
              "        text-align: right;\n",
              "    }\n",
              "</style>\n",
              "<table border=\"1\" class=\"dataframe\">\n",
              "  <thead>\n",
              "    <tr style=\"text-align: right;\">\n",
              "      <th></th>\n",
              "      <th>passenger_count</th>\n",
              "      <th>H_Distance</th>\n",
              "      <th>Year</th>\n",
              "      <th>Month</th>\n",
              "      <th>Date</th>\n",
              "      <th>Day of Week</th>\n",
              "      <th>Hour</th>\n",
              "    </tr>\n",
              "  </thead>\n",
              "  <tbody>\n",
              "    <tr>\n",
              "      <th>0</th>\n",
              "      <td>-0.510852</td>\n",
              "      <td>-0.753813</td>\n",
              "      <td>-1.450533</td>\n",
              "      <td>-0.075697</td>\n",
              "      <td>-0.079923</td>\n",
              "      <td>-1.560836</td>\n",
              "      <td>0.533340</td>\n",
              "    </tr>\n",
              "    <tr>\n",
              "      <th>1</th>\n",
              "      <td>-0.510852</td>\n",
              "      <td>2.251658</td>\n",
              "      <td>-0.913434</td>\n",
              "      <td>-1.529769</td>\n",
              "      <td>-1.231497</td>\n",
              "      <td>-1.047475</td>\n",
              "      <td>0.380036</td>\n",
              "    </tr>\n",
              "    <tr>\n",
              "      <th>2</th>\n",
              "      <td>0.354557</td>\n",
              "      <td>-0.608485</td>\n",
              "      <td>-0.376336</td>\n",
              "      <td>0.505931</td>\n",
              "      <td>0.265549</td>\n",
              "      <td>-0.020755</td>\n",
              "      <td>-2.072824</td>\n",
              "    </tr>\n",
              "    <tr>\n",
              "      <th>3</th>\n",
              "      <td>-0.510852</td>\n",
              "      <td>-0.037419</td>\n",
              "      <td>0.160762</td>\n",
              "      <td>-0.657326</td>\n",
              "      <td>0.611021</td>\n",
              "      <td>1.005965</td>\n",
              "      <td>-1.459609</td>\n",
              "    </tr>\n",
              "    <tr>\n",
              "      <th>4</th>\n",
              "      <td>-0.510852</td>\n",
              "      <td>-0.361532</td>\n",
              "      <td>-0.913434</td>\n",
              "      <td>-0.948140</td>\n",
              "      <td>-0.770867</td>\n",
              "      <td>-1.047475</td>\n",
              "      <td>-0.999698</td>\n",
              "    </tr>\n",
              "    <tr>\n",
              "      <th>...</th>\n",
              "      <td>...</td>\n",
              "      <td>...</td>\n",
              "      <td>...</td>\n",
              "      <td>...</td>\n",
              "      <td>...</td>\n",
              "      <td>...</td>\n",
              "      <td>...</td>\n",
              "    </tr>\n",
              "    <tr>\n",
              "      <th>929204</th>\n",
              "      <td>-0.510852</td>\n",
              "      <td>-0.409897</td>\n",
              "      <td>1.234958</td>\n",
              "      <td>0.796746</td>\n",
              "      <td>-0.310238</td>\n",
              "      <td>1.005965</td>\n",
              "      <td>1.146556</td>\n",
              "    </tr>\n",
              "    <tr>\n",
              "      <th>929205</th>\n",
              "      <td>0.354557</td>\n",
              "      <td>-1.171360</td>\n",
              "      <td>-0.913434</td>\n",
              "      <td>0.796746</td>\n",
              "      <td>0.495864</td>\n",
              "      <td>-1.560836</td>\n",
              "      <td>0.073429</td>\n",
              "    </tr>\n",
              "    <tr>\n",
              "      <th>929206</th>\n",
              "      <td>2.950786</td>\n",
              "      <td>-0.457706</td>\n",
              "      <td>0.697860</td>\n",
              "      <td>-0.657326</td>\n",
              "      <td>1.186808</td>\n",
              "      <td>0.492605</td>\n",
              "      <td>0.073429</td>\n",
              "    </tr>\n",
              "    <tr>\n",
              "      <th>929207</th>\n",
              "      <td>-0.510852</td>\n",
              "      <td>-0.424917</td>\n",
              "      <td>-0.376336</td>\n",
              "      <td>0.215117</td>\n",
              "      <td>-0.886025</td>\n",
              "      <td>0.492605</td>\n",
              "      <td>-2.072824</td>\n",
              "    </tr>\n",
              "    <tr>\n",
              "      <th>929208</th>\n",
              "      <td>-0.510852</td>\n",
              "      <td>-0.864285</td>\n",
              "      <td>-1.450533</td>\n",
              "      <td>1.669189</td>\n",
              "      <td>1.762595</td>\n",
              "      <td>-0.020755</td>\n",
              "      <td>0.073429</td>\n",
              "    </tr>\n",
              "  </tbody>\n",
              "</table>\n",
              "<p>929209 rows × 7 columns</p>\n",
              "</div>\n",
              "      <button class=\"colab-df-convert\" onclick=\"convertToInteractive('df-7aa89abb-df33-4f5d-bc86-cf84a2b50590')\"\n",
              "              title=\"Convert this dataframe to an interactive table.\"\n",
              "              style=\"display:none;\">\n",
              "        \n",
              "  <svg xmlns=\"http://www.w3.org/2000/svg\" height=\"24px\"viewBox=\"0 0 24 24\"\n",
              "       width=\"24px\">\n",
              "    <path d=\"M0 0h24v24H0V0z\" fill=\"none\"/>\n",
              "    <path d=\"M18.56 5.44l.94 2.06.94-2.06 2.06-.94-2.06-.94-.94-2.06-.94 2.06-2.06.94zm-11 1L8.5 8.5l.94-2.06 2.06-.94-2.06-.94L8.5 2.5l-.94 2.06-2.06.94zm10 10l.94 2.06.94-2.06 2.06-.94-2.06-.94-.94-2.06-.94 2.06-2.06.94z\"/><path d=\"M17.41 7.96l-1.37-1.37c-.4-.4-.92-.59-1.43-.59-.52 0-1.04.2-1.43.59L10.3 9.45l-7.72 7.72c-.78.78-.78 2.05 0 2.83L4 21.41c.39.39.9.59 1.41.59.51 0 1.02-.2 1.41-.59l7.78-7.78 2.81-2.81c.8-.78.8-2.07 0-2.86zM5.41 20L4 18.59l7.72-7.72 1.47 1.35L5.41 20z\"/>\n",
              "  </svg>\n",
              "      </button>\n",
              "      \n",
              "  <style>\n",
              "    .colab-df-container {\n",
              "      display:flex;\n",
              "      flex-wrap:wrap;\n",
              "      gap: 12px;\n",
              "    }\n",
              "\n",
              "    .colab-df-convert {\n",
              "      background-color: #E8F0FE;\n",
              "      border: none;\n",
              "      border-radius: 50%;\n",
              "      cursor: pointer;\n",
              "      display: none;\n",
              "      fill: #1967D2;\n",
              "      height: 32px;\n",
              "      padding: 0 0 0 0;\n",
              "      width: 32px;\n",
              "    }\n",
              "\n",
              "    .colab-df-convert:hover {\n",
              "      background-color: #E2EBFA;\n",
              "      box-shadow: 0px 1px 2px rgba(60, 64, 67, 0.3), 0px 1px 3px 1px rgba(60, 64, 67, 0.15);\n",
              "      fill: #174EA6;\n",
              "    }\n",
              "\n",
              "    [theme=dark] .colab-df-convert {\n",
              "      background-color: #3B4455;\n",
              "      fill: #D2E3FC;\n",
              "    }\n",
              "\n",
              "    [theme=dark] .colab-df-convert:hover {\n",
              "      background-color: #434B5C;\n",
              "      box-shadow: 0px 1px 3px 1px rgba(0, 0, 0, 0.15);\n",
              "      filter: drop-shadow(0px 1px 2px rgba(0, 0, 0, 0.3));\n",
              "      fill: #FFFFFF;\n",
              "    }\n",
              "  </style>\n",
              "\n",
              "      <script>\n",
              "        const buttonEl =\n",
              "          document.querySelector('#df-7aa89abb-df33-4f5d-bc86-cf84a2b50590 button.colab-df-convert');\n",
              "        buttonEl.style.display =\n",
              "          google.colab.kernel.accessAllowed ? 'block' : 'none';\n",
              "\n",
              "        async function convertToInteractive(key) {\n",
              "          const element = document.querySelector('#df-7aa89abb-df33-4f5d-bc86-cf84a2b50590');\n",
              "          const dataTable =\n",
              "            await google.colab.kernel.invokeFunction('convertToInteractive',\n",
              "                                                     [key], {});\n",
              "          if (!dataTable) return;\n",
              "\n",
              "          const docLinkHtml = 'Like what you see? Visit the ' +\n",
              "            '<a target=\"_blank\" href=https://colab.research.google.com/notebooks/data_table.ipynb>data table notebook</a>'\n",
              "            + ' to learn more about interactive tables.';\n",
              "          element.innerHTML = '';\n",
              "          dataTable['output_type'] = 'display_data';\n",
              "          await google.colab.output.renderOutput(dataTable, element);\n",
              "          const docLink = document.createElement('div');\n",
              "          docLink.innerHTML = docLinkHtml;\n",
              "          element.appendChild(docLink);\n",
              "        }\n",
              "      </script>\n",
              "    </div>\n",
              "  </div>\n",
              "  "
            ]
          },
          "metadata": {},
          "execution_count": 104
        }
      ]
    },
    {
      "cell_type": "code",
      "source": [
        "features = df \n",
        "features"
      ],
      "metadata": {
        "id": "rxyl0FgtZLGE",
        "colab": {
          "base_uri": "https://localhost:8080/",
          "height": 424
        },
        "outputId": "175c4a80-1b0a-4cae-b9b3-b45af9741560"
      },
      "execution_count": null,
      "outputs": [
        {
          "output_type": "execute_result",
          "data": {
            "text/plain": [
              "        passenger_count  H_Distance      Year     Month      Date  \\\n",
              "0             -0.510852   -0.753813 -1.450533 -0.075697 -0.079923   \n",
              "1             -0.510852    2.251658 -0.913434 -1.529769 -1.231497   \n",
              "2              0.354557   -0.608485 -0.376336  0.505931  0.265549   \n",
              "3             -0.510852   -0.037419  0.160762 -0.657326  0.611021   \n",
              "4             -0.510852   -0.361532 -0.913434 -0.948140 -0.770867   \n",
              "...                 ...         ...       ...       ...       ...   \n",
              "929204        -0.510852   -0.409897  1.234958  0.796746 -0.310238   \n",
              "929205         0.354557   -1.171360 -0.913434  0.796746  0.495864   \n",
              "929206         2.950786   -0.457706  0.697860 -0.657326  1.186808   \n",
              "929207        -0.510852   -0.424917 -0.376336  0.215117 -0.886025   \n",
              "929208        -0.510852   -0.864285 -1.450533  1.669189  1.762595   \n",
              "\n",
              "        Day of Week      Hour  \n",
              "0         -1.560836  0.533340  \n",
              "1         -1.047475  0.380036  \n",
              "2         -0.020755 -2.072824  \n",
              "3          1.005965 -1.459609  \n",
              "4         -1.047475 -0.999698  \n",
              "...             ...       ...  \n",
              "929204     1.005965  1.146556  \n",
              "929205    -1.560836  0.073429  \n",
              "929206     0.492605  0.073429  \n",
              "929207     0.492605 -2.072824  \n",
              "929208    -0.020755  0.073429  \n",
              "\n",
              "[929209 rows x 7 columns]"
            ],
            "text/html": [
              "\n",
              "  <div id=\"df-04b3cb0c-e279-4699-9cd0-c533c7fcb354\">\n",
              "    <div class=\"colab-df-container\">\n",
              "      <div>\n",
              "<style scoped>\n",
              "    .dataframe tbody tr th:only-of-type {\n",
              "        vertical-align: middle;\n",
              "    }\n",
              "\n",
              "    .dataframe tbody tr th {\n",
              "        vertical-align: top;\n",
              "    }\n",
              "\n",
              "    .dataframe thead th {\n",
              "        text-align: right;\n",
              "    }\n",
              "</style>\n",
              "<table border=\"1\" class=\"dataframe\">\n",
              "  <thead>\n",
              "    <tr style=\"text-align: right;\">\n",
              "      <th></th>\n",
              "      <th>passenger_count</th>\n",
              "      <th>H_Distance</th>\n",
              "      <th>Year</th>\n",
              "      <th>Month</th>\n",
              "      <th>Date</th>\n",
              "      <th>Day of Week</th>\n",
              "      <th>Hour</th>\n",
              "    </tr>\n",
              "  </thead>\n",
              "  <tbody>\n",
              "    <tr>\n",
              "      <th>0</th>\n",
              "      <td>-0.510852</td>\n",
              "      <td>-0.753813</td>\n",
              "      <td>-1.450533</td>\n",
              "      <td>-0.075697</td>\n",
              "      <td>-0.079923</td>\n",
              "      <td>-1.560836</td>\n",
              "      <td>0.533340</td>\n",
              "    </tr>\n",
              "    <tr>\n",
              "      <th>1</th>\n",
              "      <td>-0.510852</td>\n",
              "      <td>2.251658</td>\n",
              "      <td>-0.913434</td>\n",
              "      <td>-1.529769</td>\n",
              "      <td>-1.231497</td>\n",
              "      <td>-1.047475</td>\n",
              "      <td>0.380036</td>\n",
              "    </tr>\n",
              "    <tr>\n",
              "      <th>2</th>\n",
              "      <td>0.354557</td>\n",
              "      <td>-0.608485</td>\n",
              "      <td>-0.376336</td>\n",
              "      <td>0.505931</td>\n",
              "      <td>0.265549</td>\n",
              "      <td>-0.020755</td>\n",
              "      <td>-2.072824</td>\n",
              "    </tr>\n",
              "    <tr>\n",
              "      <th>3</th>\n",
              "      <td>-0.510852</td>\n",
              "      <td>-0.037419</td>\n",
              "      <td>0.160762</td>\n",
              "      <td>-0.657326</td>\n",
              "      <td>0.611021</td>\n",
              "      <td>1.005965</td>\n",
              "      <td>-1.459609</td>\n",
              "    </tr>\n",
              "    <tr>\n",
              "      <th>4</th>\n",
              "      <td>-0.510852</td>\n",
              "      <td>-0.361532</td>\n",
              "      <td>-0.913434</td>\n",
              "      <td>-0.948140</td>\n",
              "      <td>-0.770867</td>\n",
              "      <td>-1.047475</td>\n",
              "      <td>-0.999698</td>\n",
              "    </tr>\n",
              "    <tr>\n",
              "      <th>...</th>\n",
              "      <td>...</td>\n",
              "      <td>...</td>\n",
              "      <td>...</td>\n",
              "      <td>...</td>\n",
              "      <td>...</td>\n",
              "      <td>...</td>\n",
              "      <td>...</td>\n",
              "    </tr>\n",
              "    <tr>\n",
              "      <th>929204</th>\n",
              "      <td>-0.510852</td>\n",
              "      <td>-0.409897</td>\n",
              "      <td>1.234958</td>\n",
              "      <td>0.796746</td>\n",
              "      <td>-0.310238</td>\n",
              "      <td>1.005965</td>\n",
              "      <td>1.146556</td>\n",
              "    </tr>\n",
              "    <tr>\n",
              "      <th>929205</th>\n",
              "      <td>0.354557</td>\n",
              "      <td>-1.171360</td>\n",
              "      <td>-0.913434</td>\n",
              "      <td>0.796746</td>\n",
              "      <td>0.495864</td>\n",
              "      <td>-1.560836</td>\n",
              "      <td>0.073429</td>\n",
              "    </tr>\n",
              "    <tr>\n",
              "      <th>929206</th>\n",
              "      <td>2.950786</td>\n",
              "      <td>-0.457706</td>\n",
              "      <td>0.697860</td>\n",
              "      <td>-0.657326</td>\n",
              "      <td>1.186808</td>\n",
              "      <td>0.492605</td>\n",
              "      <td>0.073429</td>\n",
              "    </tr>\n",
              "    <tr>\n",
              "      <th>929207</th>\n",
              "      <td>-0.510852</td>\n",
              "      <td>-0.424917</td>\n",
              "      <td>-0.376336</td>\n",
              "      <td>0.215117</td>\n",
              "      <td>-0.886025</td>\n",
              "      <td>0.492605</td>\n",
              "      <td>-2.072824</td>\n",
              "    </tr>\n",
              "    <tr>\n",
              "      <th>929208</th>\n",
              "      <td>-0.510852</td>\n",
              "      <td>-0.864285</td>\n",
              "      <td>-1.450533</td>\n",
              "      <td>1.669189</td>\n",
              "      <td>1.762595</td>\n",
              "      <td>-0.020755</td>\n",
              "      <td>0.073429</td>\n",
              "    </tr>\n",
              "  </tbody>\n",
              "</table>\n",
              "<p>929209 rows × 7 columns</p>\n",
              "</div>\n",
              "      <button class=\"colab-df-convert\" onclick=\"convertToInteractive('df-04b3cb0c-e279-4699-9cd0-c533c7fcb354')\"\n",
              "              title=\"Convert this dataframe to an interactive table.\"\n",
              "              style=\"display:none;\">\n",
              "        \n",
              "  <svg xmlns=\"http://www.w3.org/2000/svg\" height=\"24px\"viewBox=\"0 0 24 24\"\n",
              "       width=\"24px\">\n",
              "    <path d=\"M0 0h24v24H0V0z\" fill=\"none\"/>\n",
              "    <path d=\"M18.56 5.44l.94 2.06.94-2.06 2.06-.94-2.06-.94-.94-2.06-.94 2.06-2.06.94zm-11 1L8.5 8.5l.94-2.06 2.06-.94-2.06-.94L8.5 2.5l-.94 2.06-2.06.94zm10 10l.94 2.06.94-2.06 2.06-.94-2.06-.94-.94-2.06-.94 2.06-2.06.94z\"/><path d=\"M17.41 7.96l-1.37-1.37c-.4-.4-.92-.59-1.43-.59-.52 0-1.04.2-1.43.59L10.3 9.45l-7.72 7.72c-.78.78-.78 2.05 0 2.83L4 21.41c.39.39.9.59 1.41.59.51 0 1.02-.2 1.41-.59l7.78-7.78 2.81-2.81c.8-.78.8-2.07 0-2.86zM5.41 20L4 18.59l7.72-7.72 1.47 1.35L5.41 20z\"/>\n",
              "  </svg>\n",
              "      </button>\n",
              "      \n",
              "  <style>\n",
              "    .colab-df-container {\n",
              "      display:flex;\n",
              "      flex-wrap:wrap;\n",
              "      gap: 12px;\n",
              "    }\n",
              "\n",
              "    .colab-df-convert {\n",
              "      background-color: #E8F0FE;\n",
              "      border: none;\n",
              "      border-radius: 50%;\n",
              "      cursor: pointer;\n",
              "      display: none;\n",
              "      fill: #1967D2;\n",
              "      height: 32px;\n",
              "      padding: 0 0 0 0;\n",
              "      width: 32px;\n",
              "    }\n",
              "\n",
              "    .colab-df-convert:hover {\n",
              "      background-color: #E2EBFA;\n",
              "      box-shadow: 0px 1px 2px rgba(60, 64, 67, 0.3), 0px 1px 3px 1px rgba(60, 64, 67, 0.15);\n",
              "      fill: #174EA6;\n",
              "    }\n",
              "\n",
              "    [theme=dark] .colab-df-convert {\n",
              "      background-color: #3B4455;\n",
              "      fill: #D2E3FC;\n",
              "    }\n",
              "\n",
              "    [theme=dark] .colab-df-convert:hover {\n",
              "      background-color: #434B5C;\n",
              "      box-shadow: 0px 1px 3px 1px rgba(0, 0, 0, 0.15);\n",
              "      filter: drop-shadow(0px 1px 2px rgba(0, 0, 0, 0.3));\n",
              "      fill: #FFFFFF;\n",
              "    }\n",
              "  </style>\n",
              "\n",
              "      <script>\n",
              "        const buttonEl =\n",
              "          document.querySelector('#df-04b3cb0c-e279-4699-9cd0-c533c7fcb354 button.colab-df-convert');\n",
              "        buttonEl.style.display =\n",
              "          google.colab.kernel.accessAllowed ? 'block' : 'none';\n",
              "\n",
              "        async function convertToInteractive(key) {\n",
              "          const element = document.querySelector('#df-04b3cb0c-e279-4699-9cd0-c533c7fcb354');\n",
              "          const dataTable =\n",
              "            await google.colab.kernel.invokeFunction('convertToInteractive',\n",
              "                                                     [key], {});\n",
              "          if (!dataTable) return;\n",
              "\n",
              "          const docLinkHtml = 'Like what you see? Visit the ' +\n",
              "            '<a target=\"_blank\" href=https://colab.research.google.com/notebooks/data_table.ipynb>data table notebook</a>'\n",
              "            + ' to learn more about interactive tables.';\n",
              "          element.innerHTML = '';\n",
              "          dataTable['output_type'] = 'display_data';\n",
              "          await google.colab.output.renderOutput(dataTable, element);\n",
              "          const docLink = document.createElement('div');\n",
              "          docLink.innerHTML = docLinkHtml;\n",
              "          element.appendChild(docLink);\n",
              "        }\n",
              "      </script>\n",
              "    </div>\n",
              "  </div>\n",
              "  "
            ]
          },
          "metadata": {},
          "execution_count": 107
        }
      ]
    },
    {
      "cell_type": "markdown",
      "source": [
        "The requried data is scaled and standardized without a pipeline."
      ],
      "metadata": {
        "id": "_eQifN0pUiqZ"
      }
    },
    {
      "cell_type": "markdown",
      "source": [
        "##Pipeline"
      ],
      "metadata": {
        "id": "lErM2MaTlc81"
      }
    },
    {
      "cell_type": "markdown",
      "source": [
        "We will use a copy of the main data to write the pipeline."
      ],
      "metadata": {
        "id": "a5e8KFc1U0Gw"
      }
    },
    {
      "cell_type": "code",
      "source": [
        "trainc"
      ],
      "metadata": {
        "colab": {
          "base_uri": "https://localhost:8080/",
          "height": 641
        },
        "id": "sAqz3FvQgKN4",
        "outputId": "7c154d8b-5aaf-4643-a291-d04ff769146b"
      },
      "execution_count": null,
      "outputs": [
        {
          "output_type": "execute_result",
          "data": {
            "text/plain": [
              "                                  key  fare_amount          pickup_datetime  \\\n",
              "0         2009-06-15 17:26:21.0000001          4.5  2009-06-15 17:26:21 UTC   \n",
              "1         2010-01-05 16:52:16.0000002         16.9  2010-01-05 16:52:16 UTC   \n",
              "2        2011-08-18 00:35:00.00000049          5.7  2011-08-18 00:35:00 UTC   \n",
              "3         2012-04-21 04:30:42.0000001          7.7  2012-04-21 04:30:42 UTC   \n",
              "4       2010-03-09 07:51:00.000000135          5.3  2010-03-09 07:51:00 UTC   \n",
              "...                               ...          ...                      ...   \n",
              "999995    2014-09-13 21:44:38.0000001          7.0  2014-09-13 21:44:38 UTC   \n",
              "999996    2010-09-20 14:50:37.0000002          7.3  2010-09-20 14:50:37 UTC   \n",
              "999997  2013-04-26 14:03:00.000000118         10.5  2013-04-26 14:03:00 UTC   \n",
              "999998   2011-07-08 00:29:00.00000099          6.9  2011-07-08 00:29:00 UTC   \n",
              "999999   2009-12-31 14:30:00.00000021          4.1  2009-12-31 14:30:00 UTC   \n",
              "\n",
              "        pickup_longitude  pickup_latitude  dropoff_longitude  \\\n",
              "0             -73.844311        40.721319         -73.841610   \n",
              "1             -74.016048        40.711303         -73.979268   \n",
              "2             -73.982738        40.761270         -73.991242   \n",
              "3             -73.987130        40.733143         -73.991567   \n",
              "4             -73.968095        40.768008         -73.956655   \n",
              "...                  ...              ...                ...   \n",
              "999995        -73.976676        40.785630         -73.959196   \n",
              "999996        -73.992103        40.671385         -73.992103   \n",
              "999997        -73.978423        40.751135         -73.993397   \n",
              "999998        -73.980317        40.759482         -73.976832   \n",
              "999999        -74.006635        40.741598         -73.999450   \n",
              "\n",
              "        dropoff_latitude  passenger_count  \n",
              "0              40.712278                1  \n",
              "1              40.782004                1  \n",
              "2              40.750562                2  \n",
              "3              40.758092                1  \n",
              "4              40.783762                1  \n",
              "...                  ...              ...  \n",
              "999995         40.775114                1  \n",
              "999996         40.671385                2  \n",
              "999997         40.762197                5  \n",
              "999998         40.743122                1  \n",
              "999999         40.745702                1  \n",
              "\n",
              "[1000000 rows x 8 columns]"
            ],
            "text/html": [
              "\n",
              "  <div id=\"df-4f65ff48-d1e8-4fa8-a131-ec253d6fede9\">\n",
              "    <div class=\"colab-df-container\">\n",
              "      <div>\n",
              "<style scoped>\n",
              "    .dataframe tbody tr th:only-of-type {\n",
              "        vertical-align: middle;\n",
              "    }\n",
              "\n",
              "    .dataframe tbody tr th {\n",
              "        vertical-align: top;\n",
              "    }\n",
              "\n",
              "    .dataframe thead th {\n",
              "        text-align: right;\n",
              "    }\n",
              "</style>\n",
              "<table border=\"1\" class=\"dataframe\">\n",
              "  <thead>\n",
              "    <tr style=\"text-align: right;\">\n",
              "      <th></th>\n",
              "      <th>key</th>\n",
              "      <th>fare_amount</th>\n",
              "      <th>pickup_datetime</th>\n",
              "      <th>pickup_longitude</th>\n",
              "      <th>pickup_latitude</th>\n",
              "      <th>dropoff_longitude</th>\n",
              "      <th>dropoff_latitude</th>\n",
              "      <th>passenger_count</th>\n",
              "    </tr>\n",
              "  </thead>\n",
              "  <tbody>\n",
              "    <tr>\n",
              "      <th>0</th>\n",
              "      <td>2009-06-15 17:26:21.0000001</td>\n",
              "      <td>4.5</td>\n",
              "      <td>2009-06-15 17:26:21 UTC</td>\n",
              "      <td>-73.844311</td>\n",
              "      <td>40.721319</td>\n",
              "      <td>-73.841610</td>\n",
              "      <td>40.712278</td>\n",
              "      <td>1</td>\n",
              "    </tr>\n",
              "    <tr>\n",
              "      <th>1</th>\n",
              "      <td>2010-01-05 16:52:16.0000002</td>\n",
              "      <td>16.9</td>\n",
              "      <td>2010-01-05 16:52:16 UTC</td>\n",
              "      <td>-74.016048</td>\n",
              "      <td>40.711303</td>\n",
              "      <td>-73.979268</td>\n",
              "      <td>40.782004</td>\n",
              "      <td>1</td>\n",
              "    </tr>\n",
              "    <tr>\n",
              "      <th>2</th>\n",
              "      <td>2011-08-18 00:35:00.00000049</td>\n",
              "      <td>5.7</td>\n",
              "      <td>2011-08-18 00:35:00 UTC</td>\n",
              "      <td>-73.982738</td>\n",
              "      <td>40.761270</td>\n",
              "      <td>-73.991242</td>\n",
              "      <td>40.750562</td>\n",
              "      <td>2</td>\n",
              "    </tr>\n",
              "    <tr>\n",
              "      <th>3</th>\n",
              "      <td>2012-04-21 04:30:42.0000001</td>\n",
              "      <td>7.7</td>\n",
              "      <td>2012-04-21 04:30:42 UTC</td>\n",
              "      <td>-73.987130</td>\n",
              "      <td>40.733143</td>\n",
              "      <td>-73.991567</td>\n",
              "      <td>40.758092</td>\n",
              "      <td>1</td>\n",
              "    </tr>\n",
              "    <tr>\n",
              "      <th>4</th>\n",
              "      <td>2010-03-09 07:51:00.000000135</td>\n",
              "      <td>5.3</td>\n",
              "      <td>2010-03-09 07:51:00 UTC</td>\n",
              "      <td>-73.968095</td>\n",
              "      <td>40.768008</td>\n",
              "      <td>-73.956655</td>\n",
              "      <td>40.783762</td>\n",
              "      <td>1</td>\n",
              "    </tr>\n",
              "    <tr>\n",
              "      <th>...</th>\n",
              "      <td>...</td>\n",
              "      <td>...</td>\n",
              "      <td>...</td>\n",
              "      <td>...</td>\n",
              "      <td>...</td>\n",
              "      <td>...</td>\n",
              "      <td>...</td>\n",
              "      <td>...</td>\n",
              "    </tr>\n",
              "    <tr>\n",
              "      <th>999995</th>\n",
              "      <td>2014-09-13 21:44:38.0000001</td>\n",
              "      <td>7.0</td>\n",
              "      <td>2014-09-13 21:44:38 UTC</td>\n",
              "      <td>-73.976676</td>\n",
              "      <td>40.785630</td>\n",
              "      <td>-73.959196</td>\n",
              "      <td>40.775114</td>\n",
              "      <td>1</td>\n",
              "    </tr>\n",
              "    <tr>\n",
              "      <th>999996</th>\n",
              "      <td>2010-09-20 14:50:37.0000002</td>\n",
              "      <td>7.3</td>\n",
              "      <td>2010-09-20 14:50:37 UTC</td>\n",
              "      <td>-73.992103</td>\n",
              "      <td>40.671385</td>\n",
              "      <td>-73.992103</td>\n",
              "      <td>40.671385</td>\n",
              "      <td>2</td>\n",
              "    </tr>\n",
              "    <tr>\n",
              "      <th>999997</th>\n",
              "      <td>2013-04-26 14:03:00.000000118</td>\n",
              "      <td>10.5</td>\n",
              "      <td>2013-04-26 14:03:00 UTC</td>\n",
              "      <td>-73.978423</td>\n",
              "      <td>40.751135</td>\n",
              "      <td>-73.993397</td>\n",
              "      <td>40.762197</td>\n",
              "      <td>5</td>\n",
              "    </tr>\n",
              "    <tr>\n",
              "      <th>999998</th>\n",
              "      <td>2011-07-08 00:29:00.00000099</td>\n",
              "      <td>6.9</td>\n",
              "      <td>2011-07-08 00:29:00 UTC</td>\n",
              "      <td>-73.980317</td>\n",
              "      <td>40.759482</td>\n",
              "      <td>-73.976832</td>\n",
              "      <td>40.743122</td>\n",
              "      <td>1</td>\n",
              "    </tr>\n",
              "    <tr>\n",
              "      <th>999999</th>\n",
              "      <td>2009-12-31 14:30:00.00000021</td>\n",
              "      <td>4.1</td>\n",
              "      <td>2009-12-31 14:30:00 UTC</td>\n",
              "      <td>-74.006635</td>\n",
              "      <td>40.741598</td>\n",
              "      <td>-73.999450</td>\n",
              "      <td>40.745702</td>\n",
              "      <td>1</td>\n",
              "    </tr>\n",
              "  </tbody>\n",
              "</table>\n",
              "<p>1000000 rows × 8 columns</p>\n",
              "</div>\n",
              "      <button class=\"colab-df-convert\" onclick=\"convertToInteractive('df-4f65ff48-d1e8-4fa8-a131-ec253d6fede9')\"\n",
              "              title=\"Convert this dataframe to an interactive table.\"\n",
              "              style=\"display:none;\">\n",
              "        \n",
              "  <svg xmlns=\"http://www.w3.org/2000/svg\" height=\"24px\"viewBox=\"0 0 24 24\"\n",
              "       width=\"24px\">\n",
              "    <path d=\"M0 0h24v24H0V0z\" fill=\"none\"/>\n",
              "    <path d=\"M18.56 5.44l.94 2.06.94-2.06 2.06-.94-2.06-.94-.94-2.06-.94 2.06-2.06.94zm-11 1L8.5 8.5l.94-2.06 2.06-.94-2.06-.94L8.5 2.5l-.94 2.06-2.06.94zm10 10l.94 2.06.94-2.06 2.06-.94-2.06-.94-.94-2.06-.94 2.06-2.06.94z\"/><path d=\"M17.41 7.96l-1.37-1.37c-.4-.4-.92-.59-1.43-.59-.52 0-1.04.2-1.43.59L10.3 9.45l-7.72 7.72c-.78.78-.78 2.05 0 2.83L4 21.41c.39.39.9.59 1.41.59.51 0 1.02-.2 1.41-.59l7.78-7.78 2.81-2.81c.8-.78.8-2.07 0-2.86zM5.41 20L4 18.59l7.72-7.72 1.47 1.35L5.41 20z\"/>\n",
              "  </svg>\n",
              "      </button>\n",
              "      \n",
              "  <style>\n",
              "    .colab-df-container {\n",
              "      display:flex;\n",
              "      flex-wrap:wrap;\n",
              "      gap: 12px;\n",
              "    }\n",
              "\n",
              "    .colab-df-convert {\n",
              "      background-color: #E8F0FE;\n",
              "      border: none;\n",
              "      border-radius: 50%;\n",
              "      cursor: pointer;\n",
              "      display: none;\n",
              "      fill: #1967D2;\n",
              "      height: 32px;\n",
              "      padding: 0 0 0 0;\n",
              "      width: 32px;\n",
              "    }\n",
              "\n",
              "    .colab-df-convert:hover {\n",
              "      background-color: #E2EBFA;\n",
              "      box-shadow: 0px 1px 2px rgba(60, 64, 67, 0.3), 0px 1px 3px 1px rgba(60, 64, 67, 0.15);\n",
              "      fill: #174EA6;\n",
              "    }\n",
              "\n",
              "    [theme=dark] .colab-df-convert {\n",
              "      background-color: #3B4455;\n",
              "      fill: #D2E3FC;\n",
              "    }\n",
              "\n",
              "    [theme=dark] .colab-df-convert:hover {\n",
              "      background-color: #434B5C;\n",
              "      box-shadow: 0px 1px 3px 1px rgba(0, 0, 0, 0.15);\n",
              "      filter: drop-shadow(0px 1px 2px rgba(0, 0, 0, 0.3));\n",
              "      fill: #FFFFFF;\n",
              "    }\n",
              "  </style>\n",
              "\n",
              "      <script>\n",
              "        const buttonEl =\n",
              "          document.querySelector('#df-4f65ff48-d1e8-4fa8-a131-ec253d6fede9 button.colab-df-convert');\n",
              "        buttonEl.style.display =\n",
              "          google.colab.kernel.accessAllowed ? 'block' : 'none';\n",
              "\n",
              "        async function convertToInteractive(key) {\n",
              "          const element = document.querySelector('#df-4f65ff48-d1e8-4fa8-a131-ec253d6fede9');\n",
              "          const dataTable =\n",
              "            await google.colab.kernel.invokeFunction('convertToInteractive',\n",
              "                                                     [key], {});\n",
              "          if (!dataTable) return;\n",
              "\n",
              "          const docLinkHtml = 'Like what you see? Visit the ' +\n",
              "            '<a target=\"_blank\" href=https://colab.research.google.com/notebooks/data_table.ipynb>data table notebook</a>'\n",
              "            + ' to learn more about interactive tables.';\n",
              "          element.innerHTML = '';\n",
              "          dataTable['output_type'] = 'display_data';\n",
              "          await google.colab.output.renderOutput(dataTable, element);\n",
              "          const docLink = document.createElement('div');\n",
              "          docLink.innerHTML = docLinkHtml;\n",
              "          element.appendChild(docLink);\n",
              "        }\n",
              "      </script>\n",
              "    </div>\n",
              "  </div>\n",
              "  "
            ]
          },
          "metadata": {},
          "execution_count": 108
        }
      ]
    },
    {
      "cell_type": "code",
      "source": [
        "from sklearn.base import BaseEstimator, TransformerMixin\n",
        "from sklearn.pipeline import (Pipeline, FeatureUnion)\n",
        "from sklearn.preprocessing import (FunctionTransformer, StandardScaler)"
      ],
      "metadata": {
        "id": "qEUlTnXMkyCb"
      },
      "execution_count": null,
      "outputs": []
    },
    {
      "cell_type": "code",
      "source": [
        "# Remove 0 values\n",
        "\n",
        "class drop_na(BaseEstimator, TransformerMixin):\n",
        "    def __init__(self, col):\n",
        "        self.col = col\n",
        "    \n",
        "    def fit(self, X, y=None):\n",
        "        return self\n",
        "    \n",
        "    # Transform updates all NaN values with median\n",
        "    def transform(self, X):\n",
        "        return X.dropna(axis = 0, how ='any')"
      ],
      "metadata": {
        "id": "PePzhtnOg7VP"
      },
      "execution_count": null,
      "outputs": []
    },
    {
      "cell_type": "code",
      "source": [
        "# Remove negative values in fare amount\n",
        "\n",
        "class remove_neg(BaseEstimator, TransformerMixin):\n",
        "\n",
        "    def fit(self, X, y=None):\n",
        "        return self\n",
        "\n",
        "    def transform(self, X):\n",
        "        return X[X[\"fare_amount\"]>0]\n"
      ],
      "metadata": {
        "id": "VgSUfBHKg_zk"
      },
      "execution_count": null,
      "outputs": []
    },
    {
      "cell_type": "code",
      "source": [
        "\n",
        "class Outliers(BaseEstimator, TransformerMixin):\n",
        "    def __init__(self, col):\n",
        "        self.col = col\n",
        "\n",
        "    def fit(self, X, y=None):\n",
        "        return self\n",
        "\n",
        "    # Remove outliers\n",
        "    def transform(self, X):\n",
        "        self.mean = X[self.col].mean()\n",
        "        self.std = X[self.col].std()\n",
        "        self.cut_off = self.std * 3\n",
        "        self.lower = self.mean - self.cut_off\n",
        "        self.upper = self.mean + self.cut_off\n",
        "        return X[(X[self.col] >= self.lower) & (X[self.col] <= self.upper)]"
      ],
      "metadata": {
        "id": "n-j6InGDjS-n"
      },
      "execution_count": null,
      "outputs": []
    },
    {
      "cell_type": "code",
      "source": [
        "def haversine_distance(lat1, long1, lat2, long2):\n",
        "    data = [trainc]\n",
        "    for i in data:\n",
        "        R = 6371  #radius of earth in kilometers\n",
        "        phi1 = np.radians(i[lat1])\n",
        "        phi2 = np.radians(i[lat2])\n",
        "    \n",
        "        delta_phi = np.radians(i[lat2]-i[lat1])\n",
        "        delta_lambda = np.radians(i[long2]-i[long1])\n",
        "    \n",
        "        #a = sin²((φB - φA)/2) + cos φA . cos φB . sin²((λB - λA)/2)\n",
        "        a = np.sin(delta_phi / 2.0) ** 2 + np.cos(phi1) * np.cos(phi2) * np.sin(delta_lambda / 2.0) ** 2\n",
        "    \n",
        "        #c = 2 * atan2( √a, √(1−a) )\n",
        "        c = 2 * np.arctan2(np.sqrt(a), np.sqrt(1-a))\n",
        "    \n",
        "        #d = R*c\n",
        "        d = (R * c) #in kilometers\n",
        "        i['H_Distance'] = d\n",
        "    return d\n",
        "\n",
        "class attributes(BaseEstimator, TransformerMixin):\n",
        "\n",
        "    def fit(self, X, y=None):\n",
        "        return self\n",
        "\n",
        "    def transform(self, X):\n",
        "        X['key'] = pd.to_datetime(X['key'])\n",
        "        X['pickup_datetime']  = pd.to_datetime(X['pickup_datetime'])\n",
        "        data = [X]\n",
        "        for i in data:\n",
        "          i['Year'] = i['pickup_datetime'].dt.year\n",
        "          i['Month'] = i['pickup_datetime'].dt.month\n",
        "          i['Date'] = i['pickup_datetime'].dt.day\n",
        "          i['Day of Week'] = i['pickup_datetime'].dt.dayofweek\n",
        "          i['Hour'] = i['pickup_datetime'].dt.hour\n",
        "        i['H_Distance'] = haversine_distance('pickup_latitude', 'pickup_longitude', 'dropoff_latitude', 'dropoff_longitude')\n",
        "        return X"
      ],
      "metadata": {
        "id": "Yi96l--RGeke"
      },
      "execution_count": null,
      "outputs": []
    },
    {
      "cell_type": "code",
      "source": [
        "class dropcolumns(BaseEstimator, TransformerMixin):\n",
        "\n",
        "    def fit(self, X, y=None):\n",
        "        return self\n",
        "\n",
        "    def transform(self, X):\n",
        "        X = X.drop([\"key\",\"pickup_datetime\",\"pickup_longitude\",\"pickup_latitude\",\"dropoff_longitude\",\"dropoff_latitude\"],axis=1) \n",
        "        return X"
      ],
      "metadata": {
        "id": "srgO0ghnGeaa"
      },
      "execution_count": null,
      "outputs": []
    },
    {
      "cell_type": "code",
      "source": [
        "from sklearn.pipeline import Pipeline\n",
        "\n",
        "# This is the main pipeline object, in which we are performing four tasks\n",
        "# pipeline takes list of tuples of two values as (name of transform, transform object)\n",
        "pre_pipe = Pipeline([\n",
        "    ('dropna', drop_na(col=\"fare_amount\")),\n",
        "    (\"remove_neg\",remove_neg()),\n",
        "    (\"outliers1\",Outliers(col=\"fare_amount\")),\n",
        "    (\"outliers2\",Outliers(col=\"pickup_latitude\")),\n",
        "    (\"outliers3\",Outliers(col=\"pickup_longitude\")),\n",
        "    (\"outliers4\",Outliers(col=\"dropoff_latitude\")),\n",
        "    (\"outliers5\",Outliers(col=\"dropoff_longitude\")),\n",
        "    (\"outliers6\",Outliers(col=\"passenger_count\")),\n",
        "    (\"attributes\",attributes()),\n",
        "    (\"outliers7\",Outliers(col='H_Distance')),\n",
        "    (\"dropcolumns\",dropcolumns())])\n",
        "\n",
        "train_prepared = pre_pipe.fit_transform(trainc)\n",
        "y = train_prepared[\"fare_amount\"]\n",
        "X = train_prepared.drop([\"fare_amount\"],axis=1) \n",
        "scalar = Pipeline([('Standard_scaling', StandardScaler())])\n",
        "X = scalar.fit_transform(X)\n",
        "column_values = ['passenger_count', 'H_Distance', 'Year','Month', 'Date','Day of Week', 'Hour']\n",
        "X = pd.DataFrame(data = X,columns = column_values)\n",
        "X.reset_index(drop = True)"
      ],
      "metadata": {
        "colab": {
          "base_uri": "https://localhost:8080/",
          "height": 424
        },
        "id": "eAZTQzOdfzEo",
        "outputId": "4121ab75-f88d-4fb3-f3a2-763b0bf60035"
      },
      "execution_count": null,
      "outputs": [
        {
          "output_type": "execute_result",
          "data": {
            "text/plain": [
              "        passenger_count  H_Distance      Year     Month      Date  \\\n",
              "0             -0.510846   -1.450583 -0.075667 -0.079934 -1.560835   \n",
              "1             -0.510846   -0.913492 -1.529669 -1.231518 -1.047438   \n",
              "2              0.354601   -0.376402  0.505934  0.265541 -0.020642   \n",
              "3             -0.510846    0.160689 -0.657268  0.611016  1.006153   \n",
              "4             -0.510846   -0.913492 -0.948068 -0.770884 -1.047438   \n",
              "...                 ...         ...       ...       ...       ...   \n",
              "928063        -0.510846    1.234870  0.796734 -0.310251  1.006153   \n",
              "928064         0.354601   -0.913492  0.796734  0.495858 -1.560835   \n",
              "928065         2.950942    0.697780 -0.657268  1.186808  0.492755   \n",
              "928066        -0.510846   -0.376402  0.215134 -0.886043  0.492755   \n",
              "928067        -0.510846   -1.450583  1.669136  1.762600 -0.020642   \n",
              "\n",
              "        Day of Week      Hour  \n",
              "0          0.533344 -0.758492  \n",
              "1          0.379990  2.290021  \n",
              "2         -2.073673 -0.611082  \n",
              "3         -1.460257 -0.031838  \n",
              "4         -1.000196 -0.360593  \n",
              "...             ...       ...  \n",
              "928063     1.146760 -0.409650  \n",
              "928064     0.073282 -1.182018  \n",
              "928065     0.073282 -0.458144  \n",
              "928066    -2.073673 -0.424886  \n",
              "928067     0.073282 -0.870545  \n",
              "\n",
              "[928068 rows x 7 columns]"
            ],
            "text/html": [
              "\n",
              "  <div id=\"df-04a283c9-70d4-46d5-8aa8-bd347c9596d6\">\n",
              "    <div class=\"colab-df-container\">\n",
              "      <div>\n",
              "<style scoped>\n",
              "    .dataframe tbody tr th:only-of-type {\n",
              "        vertical-align: middle;\n",
              "    }\n",
              "\n",
              "    .dataframe tbody tr th {\n",
              "        vertical-align: top;\n",
              "    }\n",
              "\n",
              "    .dataframe thead th {\n",
              "        text-align: right;\n",
              "    }\n",
              "</style>\n",
              "<table border=\"1\" class=\"dataframe\">\n",
              "  <thead>\n",
              "    <tr style=\"text-align: right;\">\n",
              "      <th></th>\n",
              "      <th>passenger_count</th>\n",
              "      <th>H_Distance</th>\n",
              "      <th>Year</th>\n",
              "      <th>Month</th>\n",
              "      <th>Date</th>\n",
              "      <th>Day of Week</th>\n",
              "      <th>Hour</th>\n",
              "    </tr>\n",
              "  </thead>\n",
              "  <tbody>\n",
              "    <tr>\n",
              "      <th>0</th>\n",
              "      <td>-0.510846</td>\n",
              "      <td>-1.450583</td>\n",
              "      <td>-0.075667</td>\n",
              "      <td>-0.079934</td>\n",
              "      <td>-1.560835</td>\n",
              "      <td>0.533344</td>\n",
              "      <td>-0.758492</td>\n",
              "    </tr>\n",
              "    <tr>\n",
              "      <th>1</th>\n",
              "      <td>-0.510846</td>\n",
              "      <td>-0.913492</td>\n",
              "      <td>-1.529669</td>\n",
              "      <td>-1.231518</td>\n",
              "      <td>-1.047438</td>\n",
              "      <td>0.379990</td>\n",
              "      <td>2.290021</td>\n",
              "    </tr>\n",
              "    <tr>\n",
              "      <th>2</th>\n",
              "      <td>0.354601</td>\n",
              "      <td>-0.376402</td>\n",
              "      <td>0.505934</td>\n",
              "      <td>0.265541</td>\n",
              "      <td>-0.020642</td>\n",
              "      <td>-2.073673</td>\n",
              "      <td>-0.611082</td>\n",
              "    </tr>\n",
              "    <tr>\n",
              "      <th>3</th>\n",
              "      <td>-0.510846</td>\n",
              "      <td>0.160689</td>\n",
              "      <td>-0.657268</td>\n",
              "      <td>0.611016</td>\n",
              "      <td>1.006153</td>\n",
              "      <td>-1.460257</td>\n",
              "      <td>-0.031838</td>\n",
              "    </tr>\n",
              "    <tr>\n",
              "      <th>4</th>\n",
              "      <td>-0.510846</td>\n",
              "      <td>-0.913492</td>\n",
              "      <td>-0.948068</td>\n",
              "      <td>-0.770884</td>\n",
              "      <td>-1.047438</td>\n",
              "      <td>-1.000196</td>\n",
              "      <td>-0.360593</td>\n",
              "    </tr>\n",
              "    <tr>\n",
              "      <th>...</th>\n",
              "      <td>...</td>\n",
              "      <td>...</td>\n",
              "      <td>...</td>\n",
              "      <td>...</td>\n",
              "      <td>...</td>\n",
              "      <td>...</td>\n",
              "      <td>...</td>\n",
              "    </tr>\n",
              "    <tr>\n",
              "      <th>928063</th>\n",
              "      <td>-0.510846</td>\n",
              "      <td>1.234870</td>\n",
              "      <td>0.796734</td>\n",
              "      <td>-0.310251</td>\n",
              "      <td>1.006153</td>\n",
              "      <td>1.146760</td>\n",
              "      <td>-0.409650</td>\n",
              "    </tr>\n",
              "    <tr>\n",
              "      <th>928064</th>\n",
              "      <td>0.354601</td>\n",
              "      <td>-0.913492</td>\n",
              "      <td>0.796734</td>\n",
              "      <td>0.495858</td>\n",
              "      <td>-1.560835</td>\n",
              "      <td>0.073282</td>\n",
              "      <td>-1.182018</td>\n",
              "    </tr>\n",
              "    <tr>\n",
              "      <th>928065</th>\n",
              "      <td>2.950942</td>\n",
              "      <td>0.697780</td>\n",
              "      <td>-0.657268</td>\n",
              "      <td>1.186808</td>\n",
              "      <td>0.492755</td>\n",
              "      <td>0.073282</td>\n",
              "      <td>-0.458144</td>\n",
              "    </tr>\n",
              "    <tr>\n",
              "      <th>928066</th>\n",
              "      <td>-0.510846</td>\n",
              "      <td>-0.376402</td>\n",
              "      <td>0.215134</td>\n",
              "      <td>-0.886043</td>\n",
              "      <td>0.492755</td>\n",
              "      <td>-2.073673</td>\n",
              "      <td>-0.424886</td>\n",
              "    </tr>\n",
              "    <tr>\n",
              "      <th>928067</th>\n",
              "      <td>-0.510846</td>\n",
              "      <td>-1.450583</td>\n",
              "      <td>1.669136</td>\n",
              "      <td>1.762600</td>\n",
              "      <td>-0.020642</td>\n",
              "      <td>0.073282</td>\n",
              "      <td>-0.870545</td>\n",
              "    </tr>\n",
              "  </tbody>\n",
              "</table>\n",
              "<p>928068 rows × 7 columns</p>\n",
              "</div>\n",
              "      <button class=\"colab-df-convert\" onclick=\"convertToInteractive('df-04a283c9-70d4-46d5-8aa8-bd347c9596d6')\"\n",
              "              title=\"Convert this dataframe to an interactive table.\"\n",
              "              style=\"display:none;\">\n",
              "        \n",
              "  <svg xmlns=\"http://www.w3.org/2000/svg\" height=\"24px\"viewBox=\"0 0 24 24\"\n",
              "       width=\"24px\">\n",
              "    <path d=\"M0 0h24v24H0V0z\" fill=\"none\"/>\n",
              "    <path d=\"M18.56 5.44l.94 2.06.94-2.06 2.06-.94-2.06-.94-.94-2.06-.94 2.06-2.06.94zm-11 1L8.5 8.5l.94-2.06 2.06-.94-2.06-.94L8.5 2.5l-.94 2.06-2.06.94zm10 10l.94 2.06.94-2.06 2.06-.94-2.06-.94-.94-2.06-.94 2.06-2.06.94z\"/><path d=\"M17.41 7.96l-1.37-1.37c-.4-.4-.92-.59-1.43-.59-.52 0-1.04.2-1.43.59L10.3 9.45l-7.72 7.72c-.78.78-.78 2.05 0 2.83L4 21.41c.39.39.9.59 1.41.59.51 0 1.02-.2 1.41-.59l7.78-7.78 2.81-2.81c.8-.78.8-2.07 0-2.86zM5.41 20L4 18.59l7.72-7.72 1.47 1.35L5.41 20z\"/>\n",
              "  </svg>\n",
              "      </button>\n",
              "      \n",
              "  <style>\n",
              "    .colab-df-container {\n",
              "      display:flex;\n",
              "      flex-wrap:wrap;\n",
              "      gap: 12px;\n",
              "    }\n",
              "\n",
              "    .colab-df-convert {\n",
              "      background-color: #E8F0FE;\n",
              "      border: none;\n",
              "      border-radius: 50%;\n",
              "      cursor: pointer;\n",
              "      display: none;\n",
              "      fill: #1967D2;\n",
              "      height: 32px;\n",
              "      padding: 0 0 0 0;\n",
              "      width: 32px;\n",
              "    }\n",
              "\n",
              "    .colab-df-convert:hover {\n",
              "      background-color: #E2EBFA;\n",
              "      box-shadow: 0px 1px 2px rgba(60, 64, 67, 0.3), 0px 1px 3px 1px rgba(60, 64, 67, 0.15);\n",
              "      fill: #174EA6;\n",
              "    }\n",
              "\n",
              "    [theme=dark] .colab-df-convert {\n",
              "      background-color: #3B4455;\n",
              "      fill: #D2E3FC;\n",
              "    }\n",
              "\n",
              "    [theme=dark] .colab-df-convert:hover {\n",
              "      background-color: #434B5C;\n",
              "      box-shadow: 0px 1px 3px 1px rgba(0, 0, 0, 0.15);\n",
              "      filter: drop-shadow(0px 1px 2px rgba(0, 0, 0, 0.3));\n",
              "      fill: #FFFFFF;\n",
              "    }\n",
              "  </style>\n",
              "\n",
              "      <script>\n",
              "        const buttonEl =\n",
              "          document.querySelector('#df-04a283c9-70d4-46d5-8aa8-bd347c9596d6 button.colab-df-convert');\n",
              "        buttonEl.style.display =\n",
              "          google.colab.kernel.accessAllowed ? 'block' : 'none';\n",
              "\n",
              "        async function convertToInteractive(key) {\n",
              "          const element = document.querySelector('#df-04a283c9-70d4-46d5-8aa8-bd347c9596d6');\n",
              "          const dataTable =\n",
              "            await google.colab.kernel.invokeFunction('convertToInteractive',\n",
              "                                                     [key], {});\n",
              "          if (!dataTable) return;\n",
              "\n",
              "          const docLinkHtml = 'Like what you see? Visit the ' +\n",
              "            '<a target=\"_blank\" href=https://colab.research.google.com/notebooks/data_table.ipynb>data table notebook</a>'\n",
              "            + ' to learn more about interactive tables.';\n",
              "          element.innerHTML = '';\n",
              "          dataTable['output_type'] = 'display_data';\n",
              "          await google.colab.output.renderOutput(dataTable, element);\n",
              "          const docLink = document.createElement('div');\n",
              "          docLink.innerHTML = docLinkHtml;\n",
              "          element.appendChild(docLink);\n",
              "        }\n",
              "      </script>\n",
              "    </div>\n",
              "  </div>\n",
              "  "
            ]
          },
          "metadata": {},
          "execution_count": 115
        }
      ]
    },
    {
      "cell_type": "markdown",
      "source": [
        "The training data is cleaned,preprocessed and scaled the we have output which is a pandas dataframe ready to be fed into a regression algorithm."
      ],
      "metadata": {
        "id": "jLZToogmVD7I"
      }
    },
    {
      "cell_type": "code",
      "source": [
        "y = y.reset_index(drop = True)"
      ],
      "metadata": {
        "id": "F6XPQXKLpAO-"
      },
      "execution_count": null,
      "outputs": []
    },
    {
      "cell_type": "markdown",
      "source": [
        "The target values should not be scaled because we need the final value of fare amount not its scaled value as output."
      ],
      "metadata": {
        "id": "hbMiE-PyVm_9"
      }
    },
    {
      "cell_type": "code",
      "source": [
        "testc"
      ],
      "metadata": {
        "colab": {
          "base_uri": "https://localhost:8080/",
          "height": 468
        },
        "id": "EA4tH6IprJ2U",
        "outputId": "55535297-73cd-4ac9-cc4e-060c8df53e6e"
      },
      "execution_count": null,
      "outputs": [
        {
          "output_type": "execute_result",
          "data": {
            "text/plain": [
              "                              key          pickup_datetime  pickup_longitude  \\\n",
              "0     2015-01-27 13:08:24.0000002  2015-01-27 13:08:24 UTC        -73.973320   \n",
              "1     2015-01-27 13:08:24.0000003  2015-01-27 13:08:24 UTC        -73.986862   \n",
              "2     2011-10-08 11:53:44.0000002  2011-10-08 11:53:44 UTC        -73.982524   \n",
              "3     2012-12-01 21:12:12.0000002  2012-12-01 21:12:12 UTC        -73.981160   \n",
              "4     2012-12-01 21:12:12.0000003  2012-12-01 21:12:12 UTC        -73.966046   \n",
              "...                           ...                      ...               ...   \n",
              "9909  2015-05-10 12:37:51.0000002  2015-05-10 12:37:51 UTC        -73.968124   \n",
              "9910  2015-01-12 17:05:51.0000001  2015-01-12 17:05:51 UTC        -73.945511   \n",
              "9911  2015-04-19 20:44:15.0000001  2015-04-19 20:44:15 UTC        -73.991600   \n",
              "9912  2015-01-31 01:05:19.0000005  2015-01-31 01:05:19 UTC        -73.985573   \n",
              "9913  2015-01-18 14:06:23.0000006  2015-01-18 14:06:23 UTC        -73.988022   \n",
              "\n",
              "      pickup_latitude  dropoff_longitude  dropoff_latitude  passenger_count  \n",
              "0           40.763805         -73.981430         40.743835                1  \n",
              "1           40.719383         -73.998886         40.739201                1  \n",
              "2           40.751260         -73.979654         40.746139                1  \n",
              "3           40.767807         -73.990448         40.751635                1  \n",
              "4           40.789775         -73.988565         40.744427                1  \n",
              "...               ...                ...               ...              ...  \n",
              "9909        40.796997         -73.955643         40.780388                6  \n",
              "9910        40.803600         -73.960213         40.776371                6  \n",
              "9911        40.726608         -73.789742         40.647011                6  \n",
              "9912        40.735432         -73.939178         40.801731                6  \n",
              "9913        40.754070         -74.000282         40.759220                6  \n",
              "\n",
              "[9914 rows x 7 columns]"
            ],
            "text/html": [
              "\n",
              "  <div id=\"df-067c9242-633c-41de-9698-e172e67035e3\">\n",
              "    <div class=\"colab-df-container\">\n",
              "      <div>\n",
              "<style scoped>\n",
              "    .dataframe tbody tr th:only-of-type {\n",
              "        vertical-align: middle;\n",
              "    }\n",
              "\n",
              "    .dataframe tbody tr th {\n",
              "        vertical-align: top;\n",
              "    }\n",
              "\n",
              "    .dataframe thead th {\n",
              "        text-align: right;\n",
              "    }\n",
              "</style>\n",
              "<table border=\"1\" class=\"dataframe\">\n",
              "  <thead>\n",
              "    <tr style=\"text-align: right;\">\n",
              "      <th></th>\n",
              "      <th>key</th>\n",
              "      <th>pickup_datetime</th>\n",
              "      <th>pickup_longitude</th>\n",
              "      <th>pickup_latitude</th>\n",
              "      <th>dropoff_longitude</th>\n",
              "      <th>dropoff_latitude</th>\n",
              "      <th>passenger_count</th>\n",
              "    </tr>\n",
              "  </thead>\n",
              "  <tbody>\n",
              "    <tr>\n",
              "      <th>0</th>\n",
              "      <td>2015-01-27 13:08:24.0000002</td>\n",
              "      <td>2015-01-27 13:08:24 UTC</td>\n",
              "      <td>-73.973320</td>\n",
              "      <td>40.763805</td>\n",
              "      <td>-73.981430</td>\n",
              "      <td>40.743835</td>\n",
              "      <td>1</td>\n",
              "    </tr>\n",
              "    <tr>\n",
              "      <th>1</th>\n",
              "      <td>2015-01-27 13:08:24.0000003</td>\n",
              "      <td>2015-01-27 13:08:24 UTC</td>\n",
              "      <td>-73.986862</td>\n",
              "      <td>40.719383</td>\n",
              "      <td>-73.998886</td>\n",
              "      <td>40.739201</td>\n",
              "      <td>1</td>\n",
              "    </tr>\n",
              "    <tr>\n",
              "      <th>2</th>\n",
              "      <td>2011-10-08 11:53:44.0000002</td>\n",
              "      <td>2011-10-08 11:53:44 UTC</td>\n",
              "      <td>-73.982524</td>\n",
              "      <td>40.751260</td>\n",
              "      <td>-73.979654</td>\n",
              "      <td>40.746139</td>\n",
              "      <td>1</td>\n",
              "    </tr>\n",
              "    <tr>\n",
              "      <th>3</th>\n",
              "      <td>2012-12-01 21:12:12.0000002</td>\n",
              "      <td>2012-12-01 21:12:12 UTC</td>\n",
              "      <td>-73.981160</td>\n",
              "      <td>40.767807</td>\n",
              "      <td>-73.990448</td>\n",
              "      <td>40.751635</td>\n",
              "      <td>1</td>\n",
              "    </tr>\n",
              "    <tr>\n",
              "      <th>4</th>\n",
              "      <td>2012-12-01 21:12:12.0000003</td>\n",
              "      <td>2012-12-01 21:12:12 UTC</td>\n",
              "      <td>-73.966046</td>\n",
              "      <td>40.789775</td>\n",
              "      <td>-73.988565</td>\n",
              "      <td>40.744427</td>\n",
              "      <td>1</td>\n",
              "    </tr>\n",
              "    <tr>\n",
              "      <th>...</th>\n",
              "      <td>...</td>\n",
              "      <td>...</td>\n",
              "      <td>...</td>\n",
              "      <td>...</td>\n",
              "      <td>...</td>\n",
              "      <td>...</td>\n",
              "      <td>...</td>\n",
              "    </tr>\n",
              "    <tr>\n",
              "      <th>9909</th>\n",
              "      <td>2015-05-10 12:37:51.0000002</td>\n",
              "      <td>2015-05-10 12:37:51 UTC</td>\n",
              "      <td>-73.968124</td>\n",
              "      <td>40.796997</td>\n",
              "      <td>-73.955643</td>\n",
              "      <td>40.780388</td>\n",
              "      <td>6</td>\n",
              "    </tr>\n",
              "    <tr>\n",
              "      <th>9910</th>\n",
              "      <td>2015-01-12 17:05:51.0000001</td>\n",
              "      <td>2015-01-12 17:05:51 UTC</td>\n",
              "      <td>-73.945511</td>\n",
              "      <td>40.803600</td>\n",
              "      <td>-73.960213</td>\n",
              "      <td>40.776371</td>\n",
              "      <td>6</td>\n",
              "    </tr>\n",
              "    <tr>\n",
              "      <th>9911</th>\n",
              "      <td>2015-04-19 20:44:15.0000001</td>\n",
              "      <td>2015-04-19 20:44:15 UTC</td>\n",
              "      <td>-73.991600</td>\n",
              "      <td>40.726608</td>\n",
              "      <td>-73.789742</td>\n",
              "      <td>40.647011</td>\n",
              "      <td>6</td>\n",
              "    </tr>\n",
              "    <tr>\n",
              "      <th>9912</th>\n",
              "      <td>2015-01-31 01:05:19.0000005</td>\n",
              "      <td>2015-01-31 01:05:19 UTC</td>\n",
              "      <td>-73.985573</td>\n",
              "      <td>40.735432</td>\n",
              "      <td>-73.939178</td>\n",
              "      <td>40.801731</td>\n",
              "      <td>6</td>\n",
              "    </tr>\n",
              "    <tr>\n",
              "      <th>9913</th>\n",
              "      <td>2015-01-18 14:06:23.0000006</td>\n",
              "      <td>2015-01-18 14:06:23 UTC</td>\n",
              "      <td>-73.988022</td>\n",
              "      <td>40.754070</td>\n",
              "      <td>-74.000282</td>\n",
              "      <td>40.759220</td>\n",
              "      <td>6</td>\n",
              "    </tr>\n",
              "  </tbody>\n",
              "</table>\n",
              "<p>9914 rows × 7 columns</p>\n",
              "</div>\n",
              "      <button class=\"colab-df-convert\" onclick=\"convertToInteractive('df-067c9242-633c-41de-9698-e172e67035e3')\"\n",
              "              title=\"Convert this dataframe to an interactive table.\"\n",
              "              style=\"display:none;\">\n",
              "        \n",
              "  <svg xmlns=\"http://www.w3.org/2000/svg\" height=\"24px\"viewBox=\"0 0 24 24\"\n",
              "       width=\"24px\">\n",
              "    <path d=\"M0 0h24v24H0V0z\" fill=\"none\"/>\n",
              "    <path d=\"M18.56 5.44l.94 2.06.94-2.06 2.06-.94-2.06-.94-.94-2.06-.94 2.06-2.06.94zm-11 1L8.5 8.5l.94-2.06 2.06-.94-2.06-.94L8.5 2.5l-.94 2.06-2.06.94zm10 10l.94 2.06.94-2.06 2.06-.94-2.06-.94-.94-2.06-.94 2.06-2.06.94z\"/><path d=\"M17.41 7.96l-1.37-1.37c-.4-.4-.92-.59-1.43-.59-.52 0-1.04.2-1.43.59L10.3 9.45l-7.72 7.72c-.78.78-.78 2.05 0 2.83L4 21.41c.39.39.9.59 1.41.59.51 0 1.02-.2 1.41-.59l7.78-7.78 2.81-2.81c.8-.78.8-2.07 0-2.86zM5.41 20L4 18.59l7.72-7.72 1.47 1.35L5.41 20z\"/>\n",
              "  </svg>\n",
              "      </button>\n",
              "      \n",
              "  <style>\n",
              "    .colab-df-container {\n",
              "      display:flex;\n",
              "      flex-wrap:wrap;\n",
              "      gap: 12px;\n",
              "    }\n",
              "\n",
              "    .colab-df-convert {\n",
              "      background-color: #E8F0FE;\n",
              "      border: none;\n",
              "      border-radius: 50%;\n",
              "      cursor: pointer;\n",
              "      display: none;\n",
              "      fill: #1967D2;\n",
              "      height: 32px;\n",
              "      padding: 0 0 0 0;\n",
              "      width: 32px;\n",
              "    }\n",
              "\n",
              "    .colab-df-convert:hover {\n",
              "      background-color: #E2EBFA;\n",
              "      box-shadow: 0px 1px 2px rgba(60, 64, 67, 0.3), 0px 1px 3px 1px rgba(60, 64, 67, 0.15);\n",
              "      fill: #174EA6;\n",
              "    }\n",
              "\n",
              "    [theme=dark] .colab-df-convert {\n",
              "      background-color: #3B4455;\n",
              "      fill: #D2E3FC;\n",
              "    }\n",
              "\n",
              "    [theme=dark] .colab-df-convert:hover {\n",
              "      background-color: #434B5C;\n",
              "      box-shadow: 0px 1px 3px 1px rgba(0, 0, 0, 0.15);\n",
              "      filter: drop-shadow(0px 1px 2px rgba(0, 0, 0, 0.3));\n",
              "      fill: #FFFFFF;\n",
              "    }\n",
              "  </style>\n",
              "\n",
              "      <script>\n",
              "        const buttonEl =\n",
              "          document.querySelector('#df-067c9242-633c-41de-9698-e172e67035e3 button.colab-df-convert');\n",
              "        buttonEl.style.display =\n",
              "          google.colab.kernel.accessAllowed ? 'block' : 'none';\n",
              "\n",
              "        async function convertToInteractive(key) {\n",
              "          const element = document.querySelector('#df-067c9242-633c-41de-9698-e172e67035e3');\n",
              "          const dataTable =\n",
              "            await google.colab.kernel.invokeFunction('convertToInteractive',\n",
              "                                                     [key], {});\n",
              "          if (!dataTable) return;\n",
              "\n",
              "          const docLinkHtml = 'Like what you see? Visit the ' +\n",
              "            '<a target=\"_blank\" href=https://colab.research.google.com/notebooks/data_table.ipynb>data table notebook</a>'\n",
              "            + ' to learn more about interactive tables.';\n",
              "          element.innerHTML = '';\n",
              "          dataTable['output_type'] = 'display_data';\n",
              "          await google.colab.output.renderOutput(dataTable, element);\n",
              "          const docLink = document.createElement('div');\n",
              "          docLink.innerHTML = docLinkHtml;\n",
              "          element.appendChild(docLink);\n",
              "        }\n",
              "      </script>\n",
              "    </div>\n",
              "  </div>\n",
              "  "
            ]
          },
          "metadata": {},
          "execution_count": 117
        }
      ]
    },
    {
      "cell_type": "code",
      "source": [
        "test_pre_pipe = Pipeline([\n",
        "    (\"outliers1\",Outliers(col=\"pickup_latitude\")),\n",
        "    (\"outliers2\",Outliers(col=\"pickup_longitude\")),\n",
        "    (\"outliers3\",Outliers(col=\"dropoff_latitude\")),\n",
        "    (\"outliers4\",Outliers(col=\"dropoff_longitude\")),\n",
        "    (\"outliers5\",Outliers(col=\"passenger_count\")),\n",
        "    (\"attributes\",attributes()),\n",
        "    (\"outliers6\",Outliers(col='H_Distance')),\n",
        "    (\"dropcolumns\",dropcolumns()),\n",
        "    ('Standard_scaling', StandardScaler())])\n",
        "\n",
        "# we are calling fit_transform() on pipeline, so the pipeline is learning parameters from input data.\n",
        "# Later it also transforms the input data as per the \"transform()\" definition of each object\n",
        "test_prepared = test_pre_pipe.fit_transform(testc)\n",
        "column_values = ['passenger_count', 'H_Distance', 'Year','Month', 'Date','Day of Week', 'Hour']\n",
        "test_prepared = pd.DataFrame(data = test_prepared,columns = column_values)\n",
        "test_prepared.reset_index(drop = True)"
      ],
      "metadata": {
        "id": "a70dvjarkxyD",
        "colab": {
          "base_uri": "https://localhost:8080/",
          "height": 424
        },
        "outputId": "520a0169-d5f1-433b-923b-db2ca033cabf"
      },
      "execution_count": null,
      "outputs": [
        {
          "output_type": "execute_result",
          "data": {
            "text/plain": [
              "      passenger_count  H_Distance      Year     Month      Date  Day of Week  \\\n",
              "0           -0.512551    1.783640 -1.735836  1.232249 -0.941641    -0.068437   \n",
              "1           -0.512551    1.783640 -1.735836  1.232249 -0.941641    -0.068437   \n",
              "2           -0.512551   -0.442735  0.943381 -0.910013  1.070239    -0.360792   \n",
              "3           -0.512551    0.113859  1.538763 -1.699267  1.070239     1.100982   \n",
              "4           -0.512551    0.113859  1.538763 -1.699267  1.070239     1.100982   \n",
              "...               ...         ...       ...       ...       ...          ...   \n",
              "8936         2.986377    1.783640 -0.545073  1.457751  0.567269     0.662450   \n",
              "8937         2.986377    1.783640 -1.438145  1.006748 -0.438671     0.662450   \n",
              "8938         2.986377    1.783640 -1.438145 -0.910013  1.573209    -0.799325   \n",
              "8939         2.986377    1.783640 -0.545073 -0.459010 -0.941641    -0.799325   \n",
              "8940         2.986377    1.783640 -1.140455 -0.008008 -1.444611     1.100982   \n",
              "\n",
              "          Hour  \n",
              "0    -0.536416  \n",
              "1     1.197723  \n",
              "2    -0.452562  \n",
              "3    -0.123060  \n",
              "4    -0.310072  \n",
              "...        ...  \n",
              "8936  0.773091  \n",
              "8937 -0.591302  \n",
              "8938 -0.476106  \n",
              "8939 -0.637022  \n",
              "8940 -0.071538  \n",
              "\n",
              "[8941 rows x 7 columns]"
            ],
            "text/html": [
              "\n",
              "  <div id=\"df-502bac12-9d2d-463b-87cb-a97b39c1921f\">\n",
              "    <div class=\"colab-df-container\">\n",
              "      <div>\n",
              "<style scoped>\n",
              "    .dataframe tbody tr th:only-of-type {\n",
              "        vertical-align: middle;\n",
              "    }\n",
              "\n",
              "    .dataframe tbody tr th {\n",
              "        vertical-align: top;\n",
              "    }\n",
              "\n",
              "    .dataframe thead th {\n",
              "        text-align: right;\n",
              "    }\n",
              "</style>\n",
              "<table border=\"1\" class=\"dataframe\">\n",
              "  <thead>\n",
              "    <tr style=\"text-align: right;\">\n",
              "      <th></th>\n",
              "      <th>passenger_count</th>\n",
              "      <th>H_Distance</th>\n",
              "      <th>Year</th>\n",
              "      <th>Month</th>\n",
              "      <th>Date</th>\n",
              "      <th>Day of Week</th>\n",
              "      <th>Hour</th>\n",
              "    </tr>\n",
              "  </thead>\n",
              "  <tbody>\n",
              "    <tr>\n",
              "      <th>0</th>\n",
              "      <td>-0.512551</td>\n",
              "      <td>1.783640</td>\n",
              "      <td>-1.735836</td>\n",
              "      <td>1.232249</td>\n",
              "      <td>-0.941641</td>\n",
              "      <td>-0.068437</td>\n",
              "      <td>-0.536416</td>\n",
              "    </tr>\n",
              "    <tr>\n",
              "      <th>1</th>\n",
              "      <td>-0.512551</td>\n",
              "      <td>1.783640</td>\n",
              "      <td>-1.735836</td>\n",
              "      <td>1.232249</td>\n",
              "      <td>-0.941641</td>\n",
              "      <td>-0.068437</td>\n",
              "      <td>1.197723</td>\n",
              "    </tr>\n",
              "    <tr>\n",
              "      <th>2</th>\n",
              "      <td>-0.512551</td>\n",
              "      <td>-0.442735</td>\n",
              "      <td>0.943381</td>\n",
              "      <td>-0.910013</td>\n",
              "      <td>1.070239</td>\n",
              "      <td>-0.360792</td>\n",
              "      <td>-0.452562</td>\n",
              "    </tr>\n",
              "    <tr>\n",
              "      <th>3</th>\n",
              "      <td>-0.512551</td>\n",
              "      <td>0.113859</td>\n",
              "      <td>1.538763</td>\n",
              "      <td>-1.699267</td>\n",
              "      <td>1.070239</td>\n",
              "      <td>1.100982</td>\n",
              "      <td>-0.123060</td>\n",
              "    </tr>\n",
              "    <tr>\n",
              "      <th>4</th>\n",
              "      <td>-0.512551</td>\n",
              "      <td>0.113859</td>\n",
              "      <td>1.538763</td>\n",
              "      <td>-1.699267</td>\n",
              "      <td>1.070239</td>\n",
              "      <td>1.100982</td>\n",
              "      <td>-0.310072</td>\n",
              "    </tr>\n",
              "    <tr>\n",
              "      <th>...</th>\n",
              "      <td>...</td>\n",
              "      <td>...</td>\n",
              "      <td>...</td>\n",
              "      <td>...</td>\n",
              "      <td>...</td>\n",
              "      <td>...</td>\n",
              "      <td>...</td>\n",
              "    </tr>\n",
              "    <tr>\n",
              "      <th>8936</th>\n",
              "      <td>2.986377</td>\n",
              "      <td>1.783640</td>\n",
              "      <td>-0.545073</td>\n",
              "      <td>1.457751</td>\n",
              "      <td>0.567269</td>\n",
              "      <td>0.662450</td>\n",
              "      <td>0.773091</td>\n",
              "    </tr>\n",
              "    <tr>\n",
              "      <th>8937</th>\n",
              "      <td>2.986377</td>\n",
              "      <td>1.783640</td>\n",
              "      <td>-1.438145</td>\n",
              "      <td>1.006748</td>\n",
              "      <td>-0.438671</td>\n",
              "      <td>0.662450</td>\n",
              "      <td>-0.591302</td>\n",
              "    </tr>\n",
              "    <tr>\n",
              "      <th>8938</th>\n",
              "      <td>2.986377</td>\n",
              "      <td>1.783640</td>\n",
              "      <td>-1.438145</td>\n",
              "      <td>-0.910013</td>\n",
              "      <td>1.573209</td>\n",
              "      <td>-0.799325</td>\n",
              "      <td>-0.476106</td>\n",
              "    </tr>\n",
              "    <tr>\n",
              "      <th>8939</th>\n",
              "      <td>2.986377</td>\n",
              "      <td>1.783640</td>\n",
              "      <td>-0.545073</td>\n",
              "      <td>-0.459010</td>\n",
              "      <td>-0.941641</td>\n",
              "      <td>-0.799325</td>\n",
              "      <td>-0.637022</td>\n",
              "    </tr>\n",
              "    <tr>\n",
              "      <th>8940</th>\n",
              "      <td>2.986377</td>\n",
              "      <td>1.783640</td>\n",
              "      <td>-1.140455</td>\n",
              "      <td>-0.008008</td>\n",
              "      <td>-1.444611</td>\n",
              "      <td>1.100982</td>\n",
              "      <td>-0.071538</td>\n",
              "    </tr>\n",
              "  </tbody>\n",
              "</table>\n",
              "<p>8941 rows × 7 columns</p>\n",
              "</div>\n",
              "      <button class=\"colab-df-convert\" onclick=\"convertToInteractive('df-502bac12-9d2d-463b-87cb-a97b39c1921f')\"\n",
              "              title=\"Convert this dataframe to an interactive table.\"\n",
              "              style=\"display:none;\">\n",
              "        \n",
              "  <svg xmlns=\"http://www.w3.org/2000/svg\" height=\"24px\"viewBox=\"0 0 24 24\"\n",
              "       width=\"24px\">\n",
              "    <path d=\"M0 0h24v24H0V0z\" fill=\"none\"/>\n",
              "    <path d=\"M18.56 5.44l.94 2.06.94-2.06 2.06-.94-2.06-.94-.94-2.06-.94 2.06-2.06.94zm-11 1L8.5 8.5l.94-2.06 2.06-.94-2.06-.94L8.5 2.5l-.94 2.06-2.06.94zm10 10l.94 2.06.94-2.06 2.06-.94-2.06-.94-.94-2.06-.94 2.06-2.06.94z\"/><path d=\"M17.41 7.96l-1.37-1.37c-.4-.4-.92-.59-1.43-.59-.52 0-1.04.2-1.43.59L10.3 9.45l-7.72 7.72c-.78.78-.78 2.05 0 2.83L4 21.41c.39.39.9.59 1.41.59.51 0 1.02-.2 1.41-.59l7.78-7.78 2.81-2.81c.8-.78.8-2.07 0-2.86zM5.41 20L4 18.59l7.72-7.72 1.47 1.35L5.41 20z\"/>\n",
              "  </svg>\n",
              "      </button>\n",
              "      \n",
              "  <style>\n",
              "    .colab-df-container {\n",
              "      display:flex;\n",
              "      flex-wrap:wrap;\n",
              "      gap: 12px;\n",
              "    }\n",
              "\n",
              "    .colab-df-convert {\n",
              "      background-color: #E8F0FE;\n",
              "      border: none;\n",
              "      border-radius: 50%;\n",
              "      cursor: pointer;\n",
              "      display: none;\n",
              "      fill: #1967D2;\n",
              "      height: 32px;\n",
              "      padding: 0 0 0 0;\n",
              "      width: 32px;\n",
              "    }\n",
              "\n",
              "    .colab-df-convert:hover {\n",
              "      background-color: #E2EBFA;\n",
              "      box-shadow: 0px 1px 2px rgba(60, 64, 67, 0.3), 0px 1px 3px 1px rgba(60, 64, 67, 0.15);\n",
              "      fill: #174EA6;\n",
              "    }\n",
              "\n",
              "    [theme=dark] .colab-df-convert {\n",
              "      background-color: #3B4455;\n",
              "      fill: #D2E3FC;\n",
              "    }\n",
              "\n",
              "    [theme=dark] .colab-df-convert:hover {\n",
              "      background-color: #434B5C;\n",
              "      box-shadow: 0px 1px 3px 1px rgba(0, 0, 0, 0.15);\n",
              "      filter: drop-shadow(0px 1px 2px rgba(0, 0, 0, 0.3));\n",
              "      fill: #FFFFFF;\n",
              "    }\n",
              "  </style>\n",
              "\n",
              "      <script>\n",
              "        const buttonEl =\n",
              "          document.querySelector('#df-502bac12-9d2d-463b-87cb-a97b39c1921f button.colab-df-convert');\n",
              "        buttonEl.style.display =\n",
              "          google.colab.kernel.accessAllowed ? 'block' : 'none';\n",
              "\n",
              "        async function convertToInteractive(key) {\n",
              "          const element = document.querySelector('#df-502bac12-9d2d-463b-87cb-a97b39c1921f');\n",
              "          const dataTable =\n",
              "            await google.colab.kernel.invokeFunction('convertToInteractive',\n",
              "                                                     [key], {});\n",
              "          if (!dataTable) return;\n",
              "\n",
              "          const docLinkHtml = 'Like what you see? Visit the ' +\n",
              "            '<a target=\"_blank\" href=https://colab.research.google.com/notebooks/data_table.ipynb>data table notebook</a>'\n",
              "            + ' to learn more about interactive tables.';\n",
              "          element.innerHTML = '';\n",
              "          dataTable['output_type'] = 'display_data';\n",
              "          await google.colab.output.renderOutput(dataTable, element);\n",
              "          const docLink = document.createElement('div');\n",
              "          docLink.innerHTML = docLinkHtml;\n",
              "          element.appendChild(docLink);\n",
              "        }\n",
              "      </script>\n",
              "    </div>\n",
              "  </div>\n",
              "  "
            ]
          },
          "metadata": {},
          "execution_count": 118
        }
      ]
    },
    {
      "cell_type": "markdown",
      "source": [
        "The test pipeline is different because it does not have a target value, we need to find the target value. The functions used are same for both pipelines."
      ],
      "metadata": {
        "id": "v9cLBjTpV8ki"
      }
    },
    {
      "cell_type": "markdown",
      "source": [
        "##Use of Validation Set and Cross Validation Approach"
      ],
      "metadata": {
        "id": "wCfNJDFJyPPz"
      }
    },
    {
      "cell_type": "markdown",
      "source": [
        "K-fold cross validation set algorithm is written from scratch using numpy."
      ],
      "metadata": {
        "id": "YBSedVYiWb3A"
      }
    },
    {
      "cell_type": "code",
      "source": [
        "Xcopy = X.copy()\n",
        "ycopy = y.copy() #copies of training data "
      ],
      "metadata": {
        "id": "20iCyAQYf9IH"
      },
      "execution_count": null,
      "outputs": []
    },
    {
      "cell_type": "code",
      "source": [
        "k = 5\n",
        "Xfolds = np.array_split(Xcopy, k)\n",
        "yfolds = np.array_split(ycopy, k) # using numpy to split data"
      ],
      "metadata": {
        "id": "g2xZFxFssXWs"
      },
      "execution_count": null,
      "outputs": []
    },
    {
      "cell_type": "markdown",
      "source": [
        "The cell below contains K-fold cross validation by using loops and the values from the regressions are added into a list."
      ],
      "metadata": {
        "id": "CqUz-K5JXC7H"
      }
    },
    {
      "cell_type": "code",
      "source": [
        "LinearRegressionScores = []\n",
        "DecisionTreeRegressorScores = []\n",
        "SGDRegressorScores = []\n",
        "from sklearn.linear_model import SGDRegressor\n",
        "from sklearn.tree import DecisionTreeRegressor\n",
        "from sklearn.linear_model import LinearRegression\n",
        "\n",
        "for i in range(k):\n",
        "  Xtrain = []\n",
        "  ytrain = []\n",
        "  Xtest  = []\n",
        "  ytest  = []\n",
        "  Xtrain = Xfolds.copy()\n",
        "  Xtest = Xfolds[i]\n",
        "  ytrain = yfolds.copy()\n",
        "  ytest = yfolds[i]\n",
        "  del Xtrain[i]\n",
        "  del ytrain[i]\n",
        "  Xtrain = pd.concat(Xtrain)\n",
        "  ytrain = pd.concat(ytrain)\n",
        "\n",
        "  regr = LinearRegression()\n",
        "  regr.fit(Xtrain, ytrain)\n",
        "  ypred = regr.predict(Xtest)\n",
        "  a = regr.score(Xtest, ytest)\n",
        "  LinearRegressionScores.append(a)\n",
        "\n",
        "  regressor = DecisionTreeRegressor(random_state = 0) \n",
        "  regressor.fit(Xtrain, ytrain)\n",
        "  y_pred = regressor.predict(Xtest)\n",
        "  b = regressor.score(Xtest, ytest)\n",
        "  DecisionTreeRegressorScores.append(b)\n",
        "\n",
        "  rege = SGDRegressor()\n",
        "  rege.fit(Xtrain, ytrain)\n",
        "  yprede = rege.predict(Xtest)\n",
        "  c = rege.score(Xtest, ytest)\n",
        "  SGDRegressorScores.append(c)\n"
      ],
      "metadata": {
        "id": "P84e5JNy4zJv"
      },
      "execution_count": null,
      "outputs": []
    },
    {
      "cell_type": "markdown",
      "source": [
        "###Matrix based linear regression"
      ],
      "metadata": {
        "id": "O07_G64LXmV2"
      }
    },
    {
      "cell_type": "code",
      "source": [
        "LinearRegressionscore = np.array(LinearRegressionScores)\n",
        "LinearRegressionscore.mean()"
      ],
      "metadata": {
        "colab": {
          "base_uri": "https://localhost:8080/"
        },
        "id": "mzurQERnIBR6",
        "outputId": "fc0bd896-8512-485b-cc41-fca879942822"
      },
      "execution_count": null,
      "outputs": [
        {
          "output_type": "execute_result",
          "data": {
            "text/plain": [
              "0.7646597822160217"
            ]
          },
          "metadata": {},
          "execution_count": 125
        }
      ]
    },
    {
      "cell_type": "code",
      "source": [
        "from sklearn.metrics import mean_squared_error\n",
        "mean_squared_error(ytest, ypred, squared=False)"
      ],
      "metadata": {
        "colab": {
          "base_uri": "https://localhost:8080/"
        },
        "id": "JqXrdVZ0DW90",
        "outputId": "e0600c51-c5ea-40b5-dd7f-878925095627"
      },
      "execution_count": null,
      "outputs": [
        {
          "output_type": "execute_result",
          "data": {
            "text/plain": [
              "3.0107974987318533"
            ]
          },
          "metadata": {},
          "execution_count": 126
        }
      ]
    },
    {
      "cell_type": "markdown",
      "source": [
        "The accuracy is 76.465% on average."
      ],
      "metadata": {
        "id": "U2UH66kOYj93"
      }
    },
    {
      "cell_type": "markdown",
      "source": [
        "###Optimization based linear regression"
      ],
      "metadata": {
        "id": "SCGqbSdCYAbG"
      }
    },
    {
      "cell_type": "code",
      "source": [
        "SGDRegressorscore = np.array(SGDRegressorScores)\n",
        "SGDRegressorscore.mean()"
      ],
      "metadata": {
        "colab": {
          "base_uri": "https://localhost:8080/"
        },
        "id": "0Tixw3ACazJH",
        "outputId": "901253ac-0cf2-40f4-8371-a1382c3a7143"
      },
      "execution_count": null,
      "outputs": [
        {
          "output_type": "execute_result",
          "data": {
            "text/plain": [
              "0.7644642334476878"
            ]
          },
          "metadata": {},
          "execution_count": 127
        }
      ]
    },
    {
      "cell_type": "code",
      "source": [
        "from sklearn.metrics import mean_squared_error\n",
        "mean_squared_error(ytest, yprede, squared=False)"
      ],
      "metadata": {
        "colab": {
          "base_uri": "https://localhost:8080/"
        },
        "id": "GferdZNbDXIq",
        "outputId": "f7334616-7144-4e53-a220-be94ae52cbe8"
      },
      "execution_count": null,
      "outputs": [
        {
          "output_type": "execute_result",
          "data": {
            "text/plain": [
              "3.011635511939391"
            ]
          },
          "metadata": {},
          "execution_count": 128
        }
      ]
    },
    {
      "cell_type": "markdown",
      "source": [
        "The accuracy is 76.464% on average."
      ],
      "metadata": {
        "id": "2aU4o-orYzak"
      }
    },
    {
      "cell_type": "markdown",
      "source": [
        "###Non parametric based linear regression"
      ],
      "metadata": {
        "id": "l1T1L09DYK0N"
      }
    },
    {
      "cell_type": "code",
      "source": [
        "DecisionTreeRegressorscore = np.array(DecisionTreeRegressorScores)\n",
        "DecisionTreeRegressorscore.mean()"
      ],
      "metadata": {
        "colab": {
          "base_uri": "https://localhost:8080/"
        },
        "id": "CR7sSpe5ao6D",
        "outputId": "4577a823-5c54-4f83-f77c-fd272ee2125b"
      },
      "execution_count": null,
      "outputs": [
        {
          "output_type": "execute_result",
          "data": {
            "text/plain": [
              "0.5850008633408146"
            ]
          },
          "metadata": {},
          "execution_count": 129
        }
      ]
    },
    {
      "cell_type": "code",
      "source": [
        "from sklearn.metrics import mean_squared_error\n",
        "mean_squared_error(ytest, y_pred, squared=False)"
      ],
      "metadata": {
        "colab": {
          "base_uri": "https://localhost:8080/"
        },
        "id": "Vj8xTm-pSUvA",
        "outputId": "75692173-9ed8-4de5-98ac-4f93dee8a11e"
      },
      "execution_count": null,
      "outputs": [
        {
          "output_type": "execute_result",
          "data": {
            "text/plain": [
              "4.011657729269587"
            ]
          },
          "metadata": {},
          "execution_count": 130
        }
      ]
    },
    {
      "cell_type": "markdown",
      "source": [
        "The accuracy is 58.50% on average. The error is high when compared to the other two models."
      ],
      "metadata": {
        "id": "74UrdSO8Y8E_"
      }
    },
    {
      "cell_type": "markdown",
      "source": [
        "By observation,both Stohastic gradient descent regression and linear regression work well."
      ],
      "metadata": {
        "id": "X8TCUrNjco_k"
      }
    },
    {
      "cell_type": "markdown",
      "source": [
        "##Linear Regression"
      ],
      "metadata": {
        "id": "dOqm9MKCYYCa"
      }
    },
    {
      "cell_type": "markdown",
      "source": [
        "We will calculate the fare amount for the test values using SGD regressor."
      ],
      "metadata": {
        "id": "FhqLsXTsZVhl"
      }
    },
    {
      "cell_type": "code",
      "source": [
        "rege = SGDRegressor()\n",
        "rege.fit(Xtrain, ytrain)\n",
        "test_prediction = rege.predict(test_prepared)\n",
        "test_prediction"
      ],
      "metadata": {
        "colab": {
          "base_uri": "https://localhost:8080/"
        },
        "id": "Z1k17rosSUPm",
        "outputId": "0b769abc-ca4c-486a-8076-5c434d368ba3"
      },
      "execution_count": null,
      "outputs": [
        {
          "output_type": "execute_result",
          "data": {
            "text/plain": [
              "array([ 8.1431921 , 17.32951715,  7.35498415, ...,  8.8155865 ,\n",
              "        8.31707945, 11.37440673])"
            ]
          },
          "metadata": {},
          "execution_count": 131
        }
      ]
    },
    {
      "cell_type": "code",
      "source": [
        "test_prepared['predicted_fare_amount'] = test_prediction.tolist()"
      ],
      "metadata": {
        "id": "njk6M5y5eW4r"
      },
      "execution_count": null,
      "outputs": []
    },
    {
      "cell_type": "code",
      "source": [
        "test_prepared\n"
      ],
      "metadata": {
        "colab": {
          "base_uri": "https://localhost:8080/",
          "height": 424
        },
        "id": "6spmBFVoeW0l",
        "outputId": "b9db98a7-70f8-42ad-96a7-be36f3ed9507"
      },
      "execution_count": null,
      "outputs": [
        {
          "output_type": "execute_result",
          "data": {
            "text/plain": [
              "      passenger_count  H_Distance      Year     Month      Date  Day of Week  \\\n",
              "0           -0.512551    1.783640 -1.735836  1.232249 -0.941641    -0.068437   \n",
              "1           -0.512551    1.783640 -1.735836  1.232249 -0.941641    -0.068437   \n",
              "2           -0.512551   -0.442735  0.943381 -0.910013  1.070239    -0.360792   \n",
              "3           -0.512551    0.113859  1.538763 -1.699267  1.070239     1.100982   \n",
              "4           -0.512551    0.113859  1.538763 -1.699267  1.070239     1.100982   \n",
              "...               ...         ...       ...       ...       ...          ...   \n",
              "8936         2.986377    1.783640 -0.545073  1.457751  0.567269     0.662450   \n",
              "8937         2.986377    1.783640 -1.438145  1.006748 -0.438671     0.662450   \n",
              "8938         2.986377    1.783640 -1.438145 -0.910013  1.573209    -0.799325   \n",
              "8939         2.986377    1.783640 -0.545073 -0.459010 -0.941641    -0.799325   \n",
              "8940         2.986377    1.783640 -1.140455 -0.008008 -1.444611     1.100982   \n",
              "\n",
              "          Hour  predicted_fare_amount  \n",
              "0    -0.536416               8.143192  \n",
              "1     1.197723              17.329517  \n",
              "2    -0.452562               7.354984  \n",
              "3    -0.123060               9.805103  \n",
              "4    -0.310072               8.814439  \n",
              "...        ...                    ...  \n",
              "8936  0.773091              15.776781  \n",
              "8937 -0.591302               8.428560  \n",
              "8938 -0.476106               8.815586  \n",
              "8939 -0.637022               8.317079  \n",
              "8940 -0.071538              11.374407  \n",
              "\n",
              "[8941 rows x 8 columns]"
            ],
            "text/html": [
              "\n",
              "  <div id=\"df-9244c8e2-e85d-44ef-9fea-8334fe179be9\">\n",
              "    <div class=\"colab-df-container\">\n",
              "      <div>\n",
              "<style scoped>\n",
              "    .dataframe tbody tr th:only-of-type {\n",
              "        vertical-align: middle;\n",
              "    }\n",
              "\n",
              "    .dataframe tbody tr th {\n",
              "        vertical-align: top;\n",
              "    }\n",
              "\n",
              "    .dataframe thead th {\n",
              "        text-align: right;\n",
              "    }\n",
              "</style>\n",
              "<table border=\"1\" class=\"dataframe\">\n",
              "  <thead>\n",
              "    <tr style=\"text-align: right;\">\n",
              "      <th></th>\n",
              "      <th>passenger_count</th>\n",
              "      <th>H_Distance</th>\n",
              "      <th>Year</th>\n",
              "      <th>Month</th>\n",
              "      <th>Date</th>\n",
              "      <th>Day of Week</th>\n",
              "      <th>Hour</th>\n",
              "      <th>predicted_fare_amount</th>\n",
              "    </tr>\n",
              "  </thead>\n",
              "  <tbody>\n",
              "    <tr>\n",
              "      <th>0</th>\n",
              "      <td>-0.512551</td>\n",
              "      <td>1.783640</td>\n",
              "      <td>-1.735836</td>\n",
              "      <td>1.232249</td>\n",
              "      <td>-0.941641</td>\n",
              "      <td>-0.068437</td>\n",
              "      <td>-0.536416</td>\n",
              "      <td>8.143192</td>\n",
              "    </tr>\n",
              "    <tr>\n",
              "      <th>1</th>\n",
              "      <td>-0.512551</td>\n",
              "      <td>1.783640</td>\n",
              "      <td>-1.735836</td>\n",
              "      <td>1.232249</td>\n",
              "      <td>-0.941641</td>\n",
              "      <td>-0.068437</td>\n",
              "      <td>1.197723</td>\n",
              "      <td>17.329517</td>\n",
              "    </tr>\n",
              "    <tr>\n",
              "      <th>2</th>\n",
              "      <td>-0.512551</td>\n",
              "      <td>-0.442735</td>\n",
              "      <td>0.943381</td>\n",
              "      <td>-0.910013</td>\n",
              "      <td>1.070239</td>\n",
              "      <td>-0.360792</td>\n",
              "      <td>-0.452562</td>\n",
              "      <td>7.354984</td>\n",
              "    </tr>\n",
              "    <tr>\n",
              "      <th>3</th>\n",
              "      <td>-0.512551</td>\n",
              "      <td>0.113859</td>\n",
              "      <td>1.538763</td>\n",
              "      <td>-1.699267</td>\n",
              "      <td>1.070239</td>\n",
              "      <td>1.100982</td>\n",
              "      <td>-0.123060</td>\n",
              "      <td>9.805103</td>\n",
              "    </tr>\n",
              "    <tr>\n",
              "      <th>4</th>\n",
              "      <td>-0.512551</td>\n",
              "      <td>0.113859</td>\n",
              "      <td>1.538763</td>\n",
              "      <td>-1.699267</td>\n",
              "      <td>1.070239</td>\n",
              "      <td>1.100982</td>\n",
              "      <td>-0.310072</td>\n",
              "      <td>8.814439</td>\n",
              "    </tr>\n",
              "    <tr>\n",
              "      <th>...</th>\n",
              "      <td>...</td>\n",
              "      <td>...</td>\n",
              "      <td>...</td>\n",
              "      <td>...</td>\n",
              "      <td>...</td>\n",
              "      <td>...</td>\n",
              "      <td>...</td>\n",
              "      <td>...</td>\n",
              "    </tr>\n",
              "    <tr>\n",
              "      <th>8936</th>\n",
              "      <td>2.986377</td>\n",
              "      <td>1.783640</td>\n",
              "      <td>-0.545073</td>\n",
              "      <td>1.457751</td>\n",
              "      <td>0.567269</td>\n",
              "      <td>0.662450</td>\n",
              "      <td>0.773091</td>\n",
              "      <td>15.776781</td>\n",
              "    </tr>\n",
              "    <tr>\n",
              "      <th>8937</th>\n",
              "      <td>2.986377</td>\n",
              "      <td>1.783640</td>\n",
              "      <td>-1.438145</td>\n",
              "      <td>1.006748</td>\n",
              "      <td>-0.438671</td>\n",
              "      <td>0.662450</td>\n",
              "      <td>-0.591302</td>\n",
              "      <td>8.428560</td>\n",
              "    </tr>\n",
              "    <tr>\n",
              "      <th>8938</th>\n",
              "      <td>2.986377</td>\n",
              "      <td>1.783640</td>\n",
              "      <td>-1.438145</td>\n",
              "      <td>-0.910013</td>\n",
              "      <td>1.573209</td>\n",
              "      <td>-0.799325</td>\n",
              "      <td>-0.476106</td>\n",
              "      <td>8.815586</td>\n",
              "    </tr>\n",
              "    <tr>\n",
              "      <th>8939</th>\n",
              "      <td>2.986377</td>\n",
              "      <td>1.783640</td>\n",
              "      <td>-0.545073</td>\n",
              "      <td>-0.459010</td>\n",
              "      <td>-0.941641</td>\n",
              "      <td>-0.799325</td>\n",
              "      <td>-0.637022</td>\n",
              "      <td>8.317079</td>\n",
              "    </tr>\n",
              "    <tr>\n",
              "      <th>8940</th>\n",
              "      <td>2.986377</td>\n",
              "      <td>1.783640</td>\n",
              "      <td>-1.140455</td>\n",
              "      <td>-0.008008</td>\n",
              "      <td>-1.444611</td>\n",
              "      <td>1.100982</td>\n",
              "      <td>-0.071538</td>\n",
              "      <td>11.374407</td>\n",
              "    </tr>\n",
              "  </tbody>\n",
              "</table>\n",
              "<p>8941 rows × 8 columns</p>\n",
              "</div>\n",
              "      <button class=\"colab-df-convert\" onclick=\"convertToInteractive('df-9244c8e2-e85d-44ef-9fea-8334fe179be9')\"\n",
              "              title=\"Convert this dataframe to an interactive table.\"\n",
              "              style=\"display:none;\">\n",
              "        \n",
              "  <svg xmlns=\"http://www.w3.org/2000/svg\" height=\"24px\"viewBox=\"0 0 24 24\"\n",
              "       width=\"24px\">\n",
              "    <path d=\"M0 0h24v24H0V0z\" fill=\"none\"/>\n",
              "    <path d=\"M18.56 5.44l.94 2.06.94-2.06 2.06-.94-2.06-.94-.94-2.06-.94 2.06-2.06.94zm-11 1L8.5 8.5l.94-2.06 2.06-.94-2.06-.94L8.5 2.5l-.94 2.06-2.06.94zm10 10l.94 2.06.94-2.06 2.06-.94-2.06-.94-.94-2.06-.94 2.06-2.06.94z\"/><path d=\"M17.41 7.96l-1.37-1.37c-.4-.4-.92-.59-1.43-.59-.52 0-1.04.2-1.43.59L10.3 9.45l-7.72 7.72c-.78.78-.78 2.05 0 2.83L4 21.41c.39.39.9.59 1.41.59.51 0 1.02-.2 1.41-.59l7.78-7.78 2.81-2.81c.8-.78.8-2.07 0-2.86zM5.41 20L4 18.59l7.72-7.72 1.47 1.35L5.41 20z\"/>\n",
              "  </svg>\n",
              "      </button>\n",
              "      \n",
              "  <style>\n",
              "    .colab-df-container {\n",
              "      display:flex;\n",
              "      flex-wrap:wrap;\n",
              "      gap: 12px;\n",
              "    }\n",
              "\n",
              "    .colab-df-convert {\n",
              "      background-color: #E8F0FE;\n",
              "      border: none;\n",
              "      border-radius: 50%;\n",
              "      cursor: pointer;\n",
              "      display: none;\n",
              "      fill: #1967D2;\n",
              "      height: 32px;\n",
              "      padding: 0 0 0 0;\n",
              "      width: 32px;\n",
              "    }\n",
              "\n",
              "    .colab-df-convert:hover {\n",
              "      background-color: #E2EBFA;\n",
              "      box-shadow: 0px 1px 2px rgba(60, 64, 67, 0.3), 0px 1px 3px 1px rgba(60, 64, 67, 0.15);\n",
              "      fill: #174EA6;\n",
              "    }\n",
              "\n",
              "    [theme=dark] .colab-df-convert {\n",
              "      background-color: #3B4455;\n",
              "      fill: #D2E3FC;\n",
              "    }\n",
              "\n",
              "    [theme=dark] .colab-df-convert:hover {\n",
              "      background-color: #434B5C;\n",
              "      box-shadow: 0px 1px 3px 1px rgba(0, 0, 0, 0.15);\n",
              "      filter: drop-shadow(0px 1px 2px rgba(0, 0, 0, 0.3));\n",
              "      fill: #FFFFFF;\n",
              "    }\n",
              "  </style>\n",
              "\n",
              "      <script>\n",
              "        const buttonEl =\n",
              "          document.querySelector('#df-9244c8e2-e85d-44ef-9fea-8334fe179be9 button.colab-df-convert');\n",
              "        buttonEl.style.display =\n",
              "          google.colab.kernel.accessAllowed ? 'block' : 'none';\n",
              "\n",
              "        async function convertToInteractive(key) {\n",
              "          const element = document.querySelector('#df-9244c8e2-e85d-44ef-9fea-8334fe179be9');\n",
              "          const dataTable =\n",
              "            await google.colab.kernel.invokeFunction('convertToInteractive',\n",
              "                                                     [key], {});\n",
              "          if (!dataTable) return;\n",
              "\n",
              "          const docLinkHtml = 'Like what you see? Visit the ' +\n",
              "            '<a target=\"_blank\" href=https://colab.research.google.com/notebooks/data_table.ipynb>data table notebook</a>'\n",
              "            + ' to learn more about interactive tables.';\n",
              "          element.innerHTML = '';\n",
              "          dataTable['output_type'] = 'display_data';\n",
              "          await google.colab.output.renderOutput(dataTable, element);\n",
              "          const docLink = document.createElement('div');\n",
              "          docLink.innerHTML = docLinkHtml;\n",
              "          element.appendChild(docLink);\n",
              "        }\n",
              "      </script>\n",
              "    </div>\n",
              "  </div>\n",
              "  "
            ]
          },
          "metadata": {},
          "execution_count": 133
        }
      ]
    },
    {
      "cell_type": "markdown",
      "source": [
        "We get the predicted fare amounts for the test values which are scaled and standardized in the pipeline.\n",
        "\n",
        "\n",
        "\n",
        "\n",
        "\n",
        "\n",
        "\n"
      ],
      "metadata": {
        "id": "rlZniKdeZmZ3"
      }
    }
  ]
}